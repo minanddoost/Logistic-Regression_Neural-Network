{
  "cells": [
    {
      "cell_type": "markdown",
      "metadata": {
        "id": "view-in-github",
        "colab_type": "text"
      },
      "source": [
        "<a href=\"https://colab.research.google.com/github/minanddoost/Logistic-Regression_Neural-Network/blob/main/Logistic_Regression_%26_Neural_Network___Project.ipynb\" target=\"_parent\"><img src=\"https://colab.research.google.com/assets/colab-badge.svg\" alt=\"Open In Colab\"/></a>"
      ]
    },
    {
      "cell_type": "code",
      "execution_count": null,
      "id": "0c31d775",
      "metadata": {
        "id": "0c31d775"
      },
      "outputs": [],
      "source": [
        "import pandas as pd\n",
        "import numpy as np\n",
        "import seaborn as sns\n",
        "import matplotlib.pyplot as plt\n",
        "%matplotlib inline\n",
        "import math\n",
        "import csv"
      ]
    },
    {
      "cell_type": "markdown",
      "id": "d16c638a",
      "metadata": {
        "id": "d16c638a"
      },
      "source": [
        "## Collecting & Loading Dataset"
      ]
    },
    {
      "cell_type": "code",
      "execution_count": null,
      "id": "19f50978",
      "metadata": {
        "colab": {
          "base_uri": "https://localhost:8080/",
          "height": 421
        },
        "id": "19f50978",
        "outputId": "b68890e8-abdb-4dd6-d725-58be2d1fd2db"
      },
      "outputs": [
        {
          "output_type": "stream",
          "name": "stdout",
          "text": [
            "Drive already mounted at /content/drive; to attempt to forcibly remount, call drive.mount(\"/content/drive\", force_remount=True).\n"
          ]
        },
        {
          "output_type": "execute_result",
          "data": {
            "text/plain": [
              "            Date  Filter2DP7DayAverage  Filter1DP7DayAverage  \\\n",
              "0  1/1/2015 0:00                   NaN                   NaN   \n",
              "1  1/2/2015 0:00                   NaN                   NaN   \n",
              "2  1/3/2015 0:00                   NaN                   NaN   \n",
              "3  1/4/2015 0:00                   NaN                   NaN   \n",
              "4  1/5/2015 0:00                   NaN                   NaN   \n",
              "\n",
              "   ProcessUnitChargeRateofChange7dayavg  FeedUnitParameter  \\\n",
              "0                                   NaN           2.717768   \n",
              "1                                   NaN           2.657733   \n",
              "2                                   NaN           2.693024   \n",
              "3                                   NaN           2.804085   \n",
              "4                                   NaN           1.083513   \n",
              "\n",
              "   FeedUnitRundownRate  ProcessUnitParameter1  ProcessUnitParameter2  \\\n",
              "0            80.019944               0.109743              15.972476   \n",
              "1            79.968475               0.095579              15.868478   \n",
              "2            80.008950               0.100365              15.711899   \n",
              "3            80.002807               0.090540              15.696195   \n",
              "4            81.306992               0.128478              15.905737   \n",
              "\n",
              "   ProcessUnitParameter3  ProcessUnitParameter4  ...  ProcessUnitParameter6  \\\n",
              "0              19.386599              13.050659  ...               6.852708   \n",
              "1              19.170377              13.047152  ...               6.700000   \n",
              "2              18.846912              13.047497  ...               6.744444   \n",
              "3              18.700249              13.045583  ...               6.314521   \n",
              "4              18.672080              13.020702  ...               6.328361   \n",
              "\n",
              "   ProcessUnitParameter7  SampleQuality1  SampleQuality2  SampleQuality3  \\\n",
              "0                   25.0             NaN             NaN             NaN   \n",
              "1                   25.0             NaN             NaN             NaN   \n",
              "2                   25.0             NaN             NaN             NaN   \n",
              "3                   25.0             NaN             NaN             NaN   \n",
              "4                   25.0             NaN             NaN             NaN   \n",
              "\n",
              "  SampleQuality4_4dayavg  SampleQuality5 Sample Quality6  \\\n",
              "0                    NaN             NaN            0.30   \n",
              "1                    NaN             NaN            0.60   \n",
              "2                    NaN             NaN            0.75   \n",
              "3                   3.35             NaN            0.60   \n",
              "4                   3.30             NaN            0.20   \n",
              "\n",
              "   SampleQuality6_4dayavg  ProductQualityIssue  \n",
              "0                     NaN                    0  \n",
              "1                     NaN                    0  \n",
              "2                     NaN                    0  \n",
              "3                    0.56                    0  \n",
              "4                    0.54                    0  \n",
              "\n",
              "[5 rows x 21 columns]"
            ],
            "text/html": [
              "\n",
              "  <div id=\"df-f695512d-0dfd-42fd-92fa-5adec1947714\">\n",
              "    <div class=\"colab-df-container\">\n",
              "      <div>\n",
              "<style scoped>\n",
              "    .dataframe tbody tr th:only-of-type {\n",
              "        vertical-align: middle;\n",
              "    }\n",
              "\n",
              "    .dataframe tbody tr th {\n",
              "        vertical-align: top;\n",
              "    }\n",
              "\n",
              "    .dataframe thead th {\n",
              "        text-align: right;\n",
              "    }\n",
              "</style>\n",
              "<table border=\"1\" class=\"dataframe\">\n",
              "  <thead>\n",
              "    <tr style=\"text-align: right;\">\n",
              "      <th></th>\n",
              "      <th>Date</th>\n",
              "      <th>Filter2DP7DayAverage</th>\n",
              "      <th>Filter1DP7DayAverage</th>\n",
              "      <th>ProcessUnitChargeRateofChange7dayavg</th>\n",
              "      <th>FeedUnitParameter</th>\n",
              "      <th>FeedUnitRundownRate</th>\n",
              "      <th>ProcessUnitParameter1</th>\n",
              "      <th>ProcessUnitParameter2</th>\n",
              "      <th>ProcessUnitParameter3</th>\n",
              "      <th>ProcessUnitParameter4</th>\n",
              "      <th>...</th>\n",
              "      <th>ProcessUnitParameter6</th>\n",
              "      <th>ProcessUnitParameter7</th>\n",
              "      <th>SampleQuality1</th>\n",
              "      <th>SampleQuality2</th>\n",
              "      <th>SampleQuality3</th>\n",
              "      <th>SampleQuality4_4dayavg</th>\n",
              "      <th>SampleQuality5</th>\n",
              "      <th>Sample Quality6</th>\n",
              "      <th>SampleQuality6_4dayavg</th>\n",
              "      <th>ProductQualityIssue</th>\n",
              "    </tr>\n",
              "  </thead>\n",
              "  <tbody>\n",
              "    <tr>\n",
              "      <th>0</th>\n",
              "      <td>1/1/2015 0:00</td>\n",
              "      <td>NaN</td>\n",
              "      <td>NaN</td>\n",
              "      <td>NaN</td>\n",
              "      <td>2.717768</td>\n",
              "      <td>80.019944</td>\n",
              "      <td>0.109743</td>\n",
              "      <td>15.972476</td>\n",
              "      <td>19.386599</td>\n",
              "      <td>13.050659</td>\n",
              "      <td>...</td>\n",
              "      <td>6.852708</td>\n",
              "      <td>25.0</td>\n",
              "      <td>NaN</td>\n",
              "      <td>NaN</td>\n",
              "      <td>NaN</td>\n",
              "      <td>NaN</td>\n",
              "      <td>NaN</td>\n",
              "      <td>0.30</td>\n",
              "      <td>NaN</td>\n",
              "      <td>0</td>\n",
              "    </tr>\n",
              "    <tr>\n",
              "      <th>1</th>\n",
              "      <td>1/2/2015 0:00</td>\n",
              "      <td>NaN</td>\n",
              "      <td>NaN</td>\n",
              "      <td>NaN</td>\n",
              "      <td>2.657733</td>\n",
              "      <td>79.968475</td>\n",
              "      <td>0.095579</td>\n",
              "      <td>15.868478</td>\n",
              "      <td>19.170377</td>\n",
              "      <td>13.047152</td>\n",
              "      <td>...</td>\n",
              "      <td>6.700000</td>\n",
              "      <td>25.0</td>\n",
              "      <td>NaN</td>\n",
              "      <td>NaN</td>\n",
              "      <td>NaN</td>\n",
              "      <td>NaN</td>\n",
              "      <td>NaN</td>\n",
              "      <td>0.60</td>\n",
              "      <td>NaN</td>\n",
              "      <td>0</td>\n",
              "    </tr>\n",
              "    <tr>\n",
              "      <th>2</th>\n",
              "      <td>1/3/2015 0:00</td>\n",
              "      <td>NaN</td>\n",
              "      <td>NaN</td>\n",
              "      <td>NaN</td>\n",
              "      <td>2.693024</td>\n",
              "      <td>80.008950</td>\n",
              "      <td>0.100365</td>\n",
              "      <td>15.711899</td>\n",
              "      <td>18.846912</td>\n",
              "      <td>13.047497</td>\n",
              "      <td>...</td>\n",
              "      <td>6.744444</td>\n",
              "      <td>25.0</td>\n",
              "      <td>NaN</td>\n",
              "      <td>NaN</td>\n",
              "      <td>NaN</td>\n",
              "      <td>NaN</td>\n",
              "      <td>NaN</td>\n",
              "      <td>0.75</td>\n",
              "      <td>NaN</td>\n",
              "      <td>0</td>\n",
              "    </tr>\n",
              "    <tr>\n",
              "      <th>3</th>\n",
              "      <td>1/4/2015 0:00</td>\n",
              "      <td>NaN</td>\n",
              "      <td>NaN</td>\n",
              "      <td>NaN</td>\n",
              "      <td>2.804085</td>\n",
              "      <td>80.002807</td>\n",
              "      <td>0.090540</td>\n",
              "      <td>15.696195</td>\n",
              "      <td>18.700249</td>\n",
              "      <td>13.045583</td>\n",
              "      <td>...</td>\n",
              "      <td>6.314521</td>\n",
              "      <td>25.0</td>\n",
              "      <td>NaN</td>\n",
              "      <td>NaN</td>\n",
              "      <td>NaN</td>\n",
              "      <td>3.35</td>\n",
              "      <td>NaN</td>\n",
              "      <td>0.60</td>\n",
              "      <td>0.56</td>\n",
              "      <td>0</td>\n",
              "    </tr>\n",
              "    <tr>\n",
              "      <th>4</th>\n",
              "      <td>1/5/2015 0:00</td>\n",
              "      <td>NaN</td>\n",
              "      <td>NaN</td>\n",
              "      <td>NaN</td>\n",
              "      <td>1.083513</td>\n",
              "      <td>81.306992</td>\n",
              "      <td>0.128478</td>\n",
              "      <td>15.905737</td>\n",
              "      <td>18.672080</td>\n",
              "      <td>13.020702</td>\n",
              "      <td>...</td>\n",
              "      <td>6.328361</td>\n",
              "      <td>25.0</td>\n",
              "      <td>NaN</td>\n",
              "      <td>NaN</td>\n",
              "      <td>NaN</td>\n",
              "      <td>3.30</td>\n",
              "      <td>NaN</td>\n",
              "      <td>0.20</td>\n",
              "      <td>0.54</td>\n",
              "      <td>0</td>\n",
              "    </tr>\n",
              "  </tbody>\n",
              "</table>\n",
              "<p>5 rows × 21 columns</p>\n",
              "</div>\n",
              "      <button class=\"colab-df-convert\" onclick=\"convertToInteractive('df-f695512d-0dfd-42fd-92fa-5adec1947714')\"\n",
              "              title=\"Convert this dataframe to an interactive table.\"\n",
              "              style=\"display:none;\">\n",
              "        \n",
              "  <svg xmlns=\"http://www.w3.org/2000/svg\" height=\"24px\"viewBox=\"0 0 24 24\"\n",
              "       width=\"24px\">\n",
              "    <path d=\"M0 0h24v24H0V0z\" fill=\"none\"/>\n",
              "    <path d=\"M18.56 5.44l.94 2.06.94-2.06 2.06-.94-2.06-.94-.94-2.06-.94 2.06-2.06.94zm-11 1L8.5 8.5l.94-2.06 2.06-.94-2.06-.94L8.5 2.5l-.94 2.06-2.06.94zm10 10l.94 2.06.94-2.06 2.06-.94-2.06-.94-.94-2.06-.94 2.06-2.06.94z\"/><path d=\"M17.41 7.96l-1.37-1.37c-.4-.4-.92-.59-1.43-.59-.52 0-1.04.2-1.43.59L10.3 9.45l-7.72 7.72c-.78.78-.78 2.05 0 2.83L4 21.41c.39.39.9.59 1.41.59.51 0 1.02-.2 1.41-.59l7.78-7.78 2.81-2.81c.8-.78.8-2.07 0-2.86zM5.41 20L4 18.59l7.72-7.72 1.47 1.35L5.41 20z\"/>\n",
              "  </svg>\n",
              "      </button>\n",
              "      \n",
              "  <style>\n",
              "    .colab-df-container {\n",
              "      display:flex;\n",
              "      flex-wrap:wrap;\n",
              "      gap: 12px;\n",
              "    }\n",
              "\n",
              "    .colab-df-convert {\n",
              "      background-color: #E8F0FE;\n",
              "      border: none;\n",
              "      border-radius: 50%;\n",
              "      cursor: pointer;\n",
              "      display: none;\n",
              "      fill: #1967D2;\n",
              "      height: 32px;\n",
              "      padding: 0 0 0 0;\n",
              "      width: 32px;\n",
              "    }\n",
              "\n",
              "    .colab-df-convert:hover {\n",
              "      background-color: #E2EBFA;\n",
              "      box-shadow: 0px 1px 2px rgba(60, 64, 67, 0.3), 0px 1px 3px 1px rgba(60, 64, 67, 0.15);\n",
              "      fill: #174EA6;\n",
              "    }\n",
              "\n",
              "    [theme=dark] .colab-df-convert {\n",
              "      background-color: #3B4455;\n",
              "      fill: #D2E3FC;\n",
              "    }\n",
              "\n",
              "    [theme=dark] .colab-df-convert:hover {\n",
              "      background-color: #434B5C;\n",
              "      box-shadow: 0px 1px 3px 1px rgba(0, 0, 0, 0.15);\n",
              "      filter: drop-shadow(0px 1px 2px rgba(0, 0, 0, 0.3));\n",
              "      fill: #FFFFFF;\n",
              "    }\n",
              "  </style>\n",
              "\n",
              "      <script>\n",
              "        const buttonEl =\n",
              "          document.querySelector('#df-f695512d-0dfd-42fd-92fa-5adec1947714 button.colab-df-convert');\n",
              "        buttonEl.style.display =\n",
              "          google.colab.kernel.accessAllowed ? 'block' : 'none';\n",
              "\n",
              "        async function convertToInteractive(key) {\n",
              "          const element = document.querySelector('#df-f695512d-0dfd-42fd-92fa-5adec1947714');\n",
              "          const dataTable =\n",
              "            await google.colab.kernel.invokeFunction('convertToInteractive',\n",
              "                                                     [key], {});\n",
              "          if (!dataTable) return;\n",
              "\n",
              "          const docLinkHtml = 'Like what you see? Visit the ' +\n",
              "            '<a target=\"_blank\" href=https://colab.research.google.com/notebooks/data_table.ipynb>data table notebook</a>'\n",
              "            + ' to learn more about interactive tables.';\n",
              "          element.innerHTML = '';\n",
              "          dataTable['output_type'] = 'display_data';\n",
              "          await google.colab.output.renderOutput(dataTable, element);\n",
              "          const docLink = document.createElement('div');\n",
              "          docLink.innerHTML = docLinkHtml;\n",
              "          element.appendChild(docLink);\n",
              "        }\n",
              "      </script>\n",
              "    </div>\n",
              "  </div>\n",
              "  "
            ]
          },
          "metadata": {},
          "execution_count": 377
        }
      ],
      "source": [
        "from google.colab import drive\n",
        "drive.mount(\"/content/drive\")\n",
        "df = pd.read_csv('/content/drive//My Drive/Colab Notebooks/Project/sheet.csv')\n",
        "df.head()"
      ]
    },
    {
      "cell_type": "code",
      "execution_count": null,
      "id": "369bcc4f",
      "metadata": {
        "colab": {
          "base_uri": "https://localhost:8080/"
        },
        "id": "369bcc4f",
        "outputId": "25bd41e4-efc7-4d9f-8d31-1222baeb27b0"
      },
      "outputs": [
        {
          "output_type": "stream",
          "name": "stdout",
          "text": [
            "<class 'pandas.core.frame.DataFrame'>\n",
            "RangeIndex: 2557 entries, 0 to 2556\n",
            "Data columns (total 21 columns):\n",
            " #   Column                                Non-Null Count  Dtype  \n",
            "---  ------                                --------------  -----  \n",
            " 0   Date                                  2557 non-null   object \n",
            " 1   Filter2DP7DayAverage                  2551 non-null   float64\n",
            " 2   Filter1DP7DayAverage                  2369 non-null   float64\n",
            " 3   ProcessUnitChargeRateofChange7dayavg  2551 non-null   float64\n",
            " 4   FeedUnitParameter                     2553 non-null   float64\n",
            " 5   FeedUnitRundownRate                   2414 non-null   float64\n",
            " 6   ProcessUnitParameter1                 2553 non-null   float64\n",
            " 7   ProcessUnitParameter2                 2553 non-null   float64\n",
            " 8   ProcessUnitParameter3                 2553 non-null   float64\n",
            " 9   ProcessUnitParameter4                 2551 non-null   float64\n",
            " 10  ProcessUnitParameter5                 2557 non-null   float64\n",
            " 11  ProcessUnitParameter6                 2524 non-null   float64\n",
            " 12  ProcessUnitParameter7                 2557 non-null   float64\n",
            " 13  SampleQuality1                        967 non-null    float64\n",
            " 14  SampleQuality2                        779 non-null    float64\n",
            " 15  SampleQuality3                        1803 non-null   object \n",
            " 16  SampleQuality4_4dayavg                2467 non-null   float64\n",
            " 17  SampleQuality5                        2273 non-null   object \n",
            " 18  Sample Quality6                       1579 non-null   float64\n",
            " 19  SampleQuality6_4dayavg                2445 non-null   float64\n",
            " 20  ProductQualityIssue                   2557 non-null   int64  \n",
            "dtypes: float64(17), int64(1), object(3)\n",
            "memory usage: 419.6+ KB\n"
          ]
        }
      ],
      "source": [
        "df.info()"
      ]
    },
    {
      "cell_type": "markdown",
      "id": "ff85b925",
      "metadata": {
        "id": "ff85b925"
      },
      "source": [
        "## Cleaning & Manipulating Dataset"
      ]
    },
    {
      "cell_type": "code",
      "execution_count": null,
      "id": "ce334115",
      "metadata": {
        "colab": {
          "base_uri": "https://localhost:8080/"
        },
        "id": "ce334115",
        "outputId": "490a648f-a5bd-4d3e-fbb8-4ae0abef312f"
      },
      "outputs": [
        {
          "output_type": "stream",
          "name": "stdout",
          "text": [
            "<class 'pandas.core.frame.DataFrame'>\n",
            "RangeIndex: 2557 entries, 0 to 2556\n",
            "Data columns (total 21 columns):\n",
            " #   Column                                Non-Null Count  Dtype  \n",
            "---  ------                                --------------  -----  \n",
            " 0   Date                                  2557 non-null   object \n",
            " 1   Filter2DP7DayAverage                  2557 non-null   float64\n",
            " 2   Filter1DP7DayAverage                  2369 non-null   float64\n",
            " 3   ProcessUnitChargeRateofChange7dayavg  2551 non-null   float64\n",
            " 4   FeedUnitParameter                     2553 non-null   float64\n",
            " 5   FeedUnitRundownRate                   2414 non-null   float64\n",
            " 6   ProcessUnitParameter1                 2553 non-null   float64\n",
            " 7   ProcessUnitParameter2                 2553 non-null   float64\n",
            " 8   ProcessUnitParameter3                 2553 non-null   float64\n",
            " 9   ProcessUnitParameter4                 2551 non-null   float64\n",
            " 10  ProcessUnitParameter5                 2557 non-null   float64\n",
            " 11  ProcessUnitParameter6                 2524 non-null   float64\n",
            " 12  ProcessUnitParameter7                 2557 non-null   float64\n",
            " 13  SampleQuality1                        967 non-null    float64\n",
            " 14  SampleQuality2                        779 non-null    float64\n",
            " 15  SampleQuality3                        1803 non-null   object \n",
            " 16  SampleQuality4_4dayavg                2467 non-null   float64\n",
            " 17  SampleQuality5                        2273 non-null   object \n",
            " 18  Sample Quality6                       1579 non-null   float64\n",
            " 19  SampleQuality6_4dayavg                2445 non-null   float64\n",
            " 20  ProductQualityIssue                   2557 non-null   int64  \n",
            "dtypes: float64(17), int64(1), object(3)\n",
            "memory usage: 419.6+ KB\n"
          ]
        }
      ],
      "source": [
        "min1 = df['Filter2DP7DayAverage'].min()\n",
        "df['Filter2DP7DayAverage'].fillna(min1, inplace=True)\n",
        "df.info()"
      ]
    },
    {
      "cell_type": "code",
      "execution_count": null,
      "id": "efa22901",
      "metadata": {
        "colab": {
          "base_uri": "https://localhost:8080/"
        },
        "id": "efa22901",
        "outputId": "05070609-d517-46c0-fb63-096c0888e8c5"
      },
      "outputs": [
        {
          "output_type": "stream",
          "name": "stdout",
          "text": [
            "<class 'pandas.core.frame.DataFrame'>\n",
            "RangeIndex: 2557 entries, 0 to 2556\n",
            "Data columns (total 21 columns):\n",
            " #   Column                                Non-Null Count  Dtype  \n",
            "---  ------                                --------------  -----  \n",
            " 0   Date                                  2557 non-null   object \n",
            " 1   Filter2DP7DayAverage                  2557 non-null   float64\n",
            " 2   Filter1DP7DayAverage                  2557 non-null   float64\n",
            " 3   ProcessUnitChargeRateofChange7dayavg  2551 non-null   float64\n",
            " 4   FeedUnitParameter                     2553 non-null   float64\n",
            " 5   FeedUnitRundownRate                   2414 non-null   float64\n",
            " 6   ProcessUnitParameter1                 2553 non-null   float64\n",
            " 7   ProcessUnitParameter2                 2553 non-null   float64\n",
            " 8   ProcessUnitParameter3                 2553 non-null   float64\n",
            " 9   ProcessUnitParameter4                 2551 non-null   float64\n",
            " 10  ProcessUnitParameter5                 2557 non-null   float64\n",
            " 11  ProcessUnitParameter6                 2524 non-null   float64\n",
            " 12  ProcessUnitParameter7                 2557 non-null   float64\n",
            " 13  SampleQuality1                        967 non-null    float64\n",
            " 14  SampleQuality2                        779 non-null    float64\n",
            " 15  SampleQuality3                        1803 non-null   object \n",
            " 16  SampleQuality4_4dayavg                2467 non-null   float64\n",
            " 17  SampleQuality5                        2273 non-null   object \n",
            " 18  Sample Quality6                       1579 non-null   float64\n",
            " 19  SampleQuality6_4dayavg                2445 non-null   float64\n",
            " 20  ProductQualityIssue                   2557 non-null   int64  \n",
            "dtypes: float64(17), int64(1), object(3)\n",
            "memory usage: 419.6+ KB\n"
          ]
        }
      ],
      "source": [
        "min2 = df['Filter1DP7DayAverage'].min()\n",
        "df['Filter1DP7DayAverage'].fillna(min2, inplace=True)\n",
        "df.info()"
      ]
    },
    {
      "cell_type": "code",
      "execution_count": null,
      "id": "723baa5c",
      "metadata": {
        "colab": {
          "base_uri": "https://localhost:8080/"
        },
        "id": "723baa5c",
        "outputId": "e68125eb-c8cb-450b-e094-012e196336e3"
      },
      "outputs": [
        {
          "output_type": "stream",
          "name": "stdout",
          "text": [
            "<class 'pandas.core.frame.DataFrame'>\n",
            "RangeIndex: 2557 entries, 0 to 2556\n",
            "Data columns (total 21 columns):\n",
            " #   Column                                Non-Null Count  Dtype  \n",
            "---  ------                                --------------  -----  \n",
            " 0   Date                                  2557 non-null   object \n",
            " 1   Filter2DP7DayAverage                  2557 non-null   float64\n",
            " 2   Filter1DP7DayAverage                  2557 non-null   float64\n",
            " 3   ProcessUnitChargeRateofChange7dayavg  2557 non-null   float64\n",
            " 4   FeedUnitParameter                     2553 non-null   float64\n",
            " 5   FeedUnitRundownRate                   2414 non-null   float64\n",
            " 6   ProcessUnitParameter1                 2553 non-null   float64\n",
            " 7   ProcessUnitParameter2                 2553 non-null   float64\n",
            " 8   ProcessUnitParameter3                 2553 non-null   float64\n",
            " 9   ProcessUnitParameter4                 2551 non-null   float64\n",
            " 10  ProcessUnitParameter5                 2557 non-null   float64\n",
            " 11  ProcessUnitParameter6                 2524 non-null   float64\n",
            " 12  ProcessUnitParameter7                 2557 non-null   float64\n",
            " 13  SampleQuality1                        967 non-null    float64\n",
            " 14  SampleQuality2                        779 non-null    float64\n",
            " 15  SampleQuality3                        1803 non-null   object \n",
            " 16  SampleQuality4_4dayavg                2467 non-null   float64\n",
            " 17  SampleQuality5                        2273 non-null   object \n",
            " 18  Sample Quality6                       1579 non-null   float64\n",
            " 19  SampleQuality6_4dayavg                2445 non-null   float64\n",
            " 20  ProductQualityIssue                   2557 non-null   int64  \n",
            "dtypes: float64(17), int64(1), object(3)\n",
            "memory usage: 419.6+ KB\n"
          ]
        }
      ],
      "source": [
        "min3 = df['ProcessUnitChargeRateofChange7dayavg'].min()\n",
        "df['ProcessUnitChargeRateofChange7dayavg'].fillna(min3, inplace=True)\n",
        "df.info()"
      ]
    },
    {
      "cell_type": "code",
      "execution_count": null,
      "id": "7878f74c",
      "metadata": {
        "colab": {
          "base_uri": "https://localhost:8080/"
        },
        "id": "7878f74c",
        "outputId": "92e7a88a-e207-439d-bc11-e7eb646ff018"
      },
      "outputs": [
        {
          "output_type": "stream",
          "name": "stdout",
          "text": [
            "<class 'pandas.core.frame.DataFrame'>\n",
            "RangeIndex: 2557 entries, 0 to 2556\n",
            "Data columns (total 21 columns):\n",
            " #   Column                                Non-Null Count  Dtype  \n",
            "---  ------                                --------------  -----  \n",
            " 0   Date                                  2557 non-null   object \n",
            " 1   Filter2DP7DayAverage                  2557 non-null   float64\n",
            " 2   Filter1DP7DayAverage                  2557 non-null   float64\n",
            " 3   ProcessUnitChargeRateofChange7dayavg  2557 non-null   float64\n",
            " 4   FeedUnitParameter                     2557 non-null   float64\n",
            " 5   FeedUnitRundownRate                   2414 non-null   float64\n",
            " 6   ProcessUnitParameter1                 2553 non-null   float64\n",
            " 7   ProcessUnitParameter2                 2553 non-null   float64\n",
            " 8   ProcessUnitParameter3                 2553 non-null   float64\n",
            " 9   ProcessUnitParameter4                 2551 non-null   float64\n",
            " 10  ProcessUnitParameter5                 2557 non-null   float64\n",
            " 11  ProcessUnitParameter6                 2524 non-null   float64\n",
            " 12  ProcessUnitParameter7                 2557 non-null   float64\n",
            " 13  SampleQuality1                        967 non-null    float64\n",
            " 14  SampleQuality2                        779 non-null    float64\n",
            " 15  SampleQuality3                        1803 non-null   object \n",
            " 16  SampleQuality4_4dayavg                2467 non-null   float64\n",
            " 17  SampleQuality5                        2273 non-null   object \n",
            " 18  Sample Quality6                       1579 non-null   float64\n",
            " 19  SampleQuality6_4dayavg                2445 non-null   float64\n",
            " 20  ProductQualityIssue                   2557 non-null   int64  \n",
            "dtypes: float64(17), int64(1), object(3)\n",
            "memory usage: 419.6+ KB\n"
          ]
        }
      ],
      "source": [
        "min4 = df['FeedUnitParameter'].min()\n",
        "df['FeedUnitParameter'].fillna(min4, inplace=True)\n",
        "df.info()"
      ]
    },
    {
      "cell_type": "code",
      "execution_count": null,
      "id": "f472ac53",
      "metadata": {
        "colab": {
          "base_uri": "https://localhost:8080/"
        },
        "id": "f472ac53",
        "outputId": "ad8041fc-ea1c-4ae7-81b9-4e82da5f74b4"
      },
      "outputs": [
        {
          "output_type": "stream",
          "name": "stdout",
          "text": [
            "<class 'pandas.core.frame.DataFrame'>\n",
            "RangeIndex: 2557 entries, 0 to 2556\n",
            "Data columns (total 21 columns):\n",
            " #   Column                                Non-Null Count  Dtype  \n",
            "---  ------                                --------------  -----  \n",
            " 0   Date                                  2557 non-null   object \n",
            " 1   Filter2DP7DayAverage                  2557 non-null   float64\n",
            " 2   Filter1DP7DayAverage                  2557 non-null   float64\n",
            " 3   ProcessUnitChargeRateofChange7dayavg  2557 non-null   float64\n",
            " 4   FeedUnitParameter                     2557 non-null   float64\n",
            " 5   FeedUnitRundownRate                   2557 non-null   float64\n",
            " 6   ProcessUnitParameter1                 2553 non-null   float64\n",
            " 7   ProcessUnitParameter2                 2553 non-null   float64\n",
            " 8   ProcessUnitParameter3                 2553 non-null   float64\n",
            " 9   ProcessUnitParameter4                 2551 non-null   float64\n",
            " 10  ProcessUnitParameter5                 2557 non-null   float64\n",
            " 11  ProcessUnitParameter6                 2524 non-null   float64\n",
            " 12  ProcessUnitParameter7                 2557 non-null   float64\n",
            " 13  SampleQuality1                        967 non-null    float64\n",
            " 14  SampleQuality2                        779 non-null    float64\n",
            " 15  SampleQuality3                        1803 non-null   object \n",
            " 16  SampleQuality4_4dayavg                2467 non-null   float64\n",
            " 17  SampleQuality5                        2273 non-null   object \n",
            " 18  Sample Quality6                       1579 non-null   float64\n",
            " 19  SampleQuality6_4dayavg                2445 non-null   float64\n",
            " 20  ProductQualityIssue                   2557 non-null   int64  \n",
            "dtypes: float64(17), int64(1), object(3)\n",
            "memory usage: 419.6+ KB\n"
          ]
        }
      ],
      "source": [
        "min5 = df['FeedUnitRundownRate'].min()\n",
        "df['FeedUnitRundownRate'].fillna(min5, inplace=True)\n",
        "df.info()"
      ]
    },
    {
      "cell_type": "code",
      "execution_count": null,
      "id": "cc557539",
      "metadata": {
        "colab": {
          "base_uri": "https://localhost:8080/"
        },
        "id": "cc557539",
        "outputId": "022ac100-0643-4c21-e1c5-5ed3c9cd536d"
      },
      "outputs": [
        {
          "output_type": "stream",
          "name": "stdout",
          "text": [
            "<class 'pandas.core.frame.DataFrame'>\n",
            "RangeIndex: 2557 entries, 0 to 2556\n",
            "Data columns (total 21 columns):\n",
            " #   Column                                Non-Null Count  Dtype  \n",
            "---  ------                                --------------  -----  \n",
            " 0   Date                                  2557 non-null   object \n",
            " 1   Filter2DP7DayAverage                  2557 non-null   float64\n",
            " 2   Filter1DP7DayAverage                  2557 non-null   float64\n",
            " 3   ProcessUnitChargeRateofChange7dayavg  2557 non-null   float64\n",
            " 4   FeedUnitParameter                     2557 non-null   float64\n",
            " 5   FeedUnitRundownRate                   2557 non-null   float64\n",
            " 6   ProcessUnitParameter1                 2557 non-null   float64\n",
            " 7   ProcessUnitParameter2                 2553 non-null   float64\n",
            " 8   ProcessUnitParameter3                 2553 non-null   float64\n",
            " 9   ProcessUnitParameter4                 2551 non-null   float64\n",
            " 10  ProcessUnitParameter5                 2557 non-null   float64\n",
            " 11  ProcessUnitParameter6                 2524 non-null   float64\n",
            " 12  ProcessUnitParameter7                 2557 non-null   float64\n",
            " 13  SampleQuality1                        967 non-null    float64\n",
            " 14  SampleQuality2                        779 non-null    float64\n",
            " 15  SampleQuality3                        1803 non-null   object \n",
            " 16  SampleQuality4_4dayavg                2467 non-null   float64\n",
            " 17  SampleQuality5                        2273 non-null   object \n",
            " 18  Sample Quality6                       1579 non-null   float64\n",
            " 19  SampleQuality6_4dayavg                2445 non-null   float64\n",
            " 20  ProductQualityIssue                   2557 non-null   int64  \n",
            "dtypes: float64(17), int64(1), object(3)\n",
            "memory usage: 419.6+ KB\n"
          ]
        }
      ],
      "source": [
        "min6 = df['ProcessUnitParameter1'].min()\n",
        "df['ProcessUnitParameter1'].fillna(min6, inplace=True)\n",
        "df.info()"
      ]
    },
    {
      "cell_type": "code",
      "execution_count": null,
      "id": "456f1325",
      "metadata": {
        "colab": {
          "base_uri": "https://localhost:8080/"
        },
        "id": "456f1325",
        "outputId": "ce0b3c0b-17e7-4c5d-f8b2-ec1c3dae2e08"
      },
      "outputs": [
        {
          "output_type": "stream",
          "name": "stdout",
          "text": [
            "<class 'pandas.core.frame.DataFrame'>\n",
            "RangeIndex: 2557 entries, 0 to 2556\n",
            "Data columns (total 21 columns):\n",
            " #   Column                                Non-Null Count  Dtype  \n",
            "---  ------                                --------------  -----  \n",
            " 0   Date                                  2557 non-null   object \n",
            " 1   Filter2DP7DayAverage                  2557 non-null   float64\n",
            " 2   Filter1DP7DayAverage                  2557 non-null   float64\n",
            " 3   ProcessUnitChargeRateofChange7dayavg  2557 non-null   float64\n",
            " 4   FeedUnitParameter                     2557 non-null   float64\n",
            " 5   FeedUnitRundownRate                   2557 non-null   float64\n",
            " 6   ProcessUnitParameter1                 2557 non-null   float64\n",
            " 7   ProcessUnitParameter2                 2557 non-null   float64\n",
            " 8   ProcessUnitParameter3                 2553 non-null   float64\n",
            " 9   ProcessUnitParameter4                 2551 non-null   float64\n",
            " 10  ProcessUnitParameter5                 2557 non-null   float64\n",
            " 11  ProcessUnitParameter6                 2524 non-null   float64\n",
            " 12  ProcessUnitParameter7                 2557 non-null   float64\n",
            " 13  SampleQuality1                        967 non-null    float64\n",
            " 14  SampleQuality2                        779 non-null    float64\n",
            " 15  SampleQuality3                        1803 non-null   object \n",
            " 16  SampleQuality4_4dayavg                2467 non-null   float64\n",
            " 17  SampleQuality5                        2273 non-null   object \n",
            " 18  Sample Quality6                       1579 non-null   float64\n",
            " 19  SampleQuality6_4dayavg                2445 non-null   float64\n",
            " 20  ProductQualityIssue                   2557 non-null   int64  \n",
            "dtypes: float64(17), int64(1), object(3)\n",
            "memory usage: 419.6+ KB\n"
          ]
        }
      ],
      "source": [
        "min7 = df['ProcessUnitParameter2'].min()\n",
        "df['ProcessUnitParameter2'].fillna(min7, inplace=True)\n",
        "df.info()"
      ]
    },
    {
      "cell_type": "code",
      "execution_count": null,
      "id": "f3c04a31",
      "metadata": {
        "colab": {
          "base_uri": "https://localhost:8080/"
        },
        "id": "f3c04a31",
        "outputId": "28b6773b-d8b5-4eda-f218-08e3834864c6"
      },
      "outputs": [
        {
          "output_type": "stream",
          "name": "stdout",
          "text": [
            "<class 'pandas.core.frame.DataFrame'>\n",
            "RangeIndex: 2557 entries, 0 to 2556\n",
            "Data columns (total 21 columns):\n",
            " #   Column                                Non-Null Count  Dtype  \n",
            "---  ------                                --------------  -----  \n",
            " 0   Date                                  2557 non-null   object \n",
            " 1   Filter2DP7DayAverage                  2557 non-null   float64\n",
            " 2   Filter1DP7DayAverage                  2557 non-null   float64\n",
            " 3   ProcessUnitChargeRateofChange7dayavg  2557 non-null   float64\n",
            " 4   FeedUnitParameter                     2557 non-null   float64\n",
            " 5   FeedUnitRundownRate                   2557 non-null   float64\n",
            " 6   ProcessUnitParameter1                 2557 non-null   float64\n",
            " 7   ProcessUnitParameter2                 2557 non-null   float64\n",
            " 8   ProcessUnitParameter3                 2557 non-null   float64\n",
            " 9   ProcessUnitParameter4                 2551 non-null   float64\n",
            " 10  ProcessUnitParameter5                 2557 non-null   float64\n",
            " 11  ProcessUnitParameter6                 2524 non-null   float64\n",
            " 12  ProcessUnitParameter7                 2557 non-null   float64\n",
            " 13  SampleQuality1                        967 non-null    float64\n",
            " 14  SampleQuality2                        779 non-null    float64\n",
            " 15  SampleQuality3                        1803 non-null   object \n",
            " 16  SampleQuality4_4dayavg                2467 non-null   float64\n",
            " 17  SampleQuality5                        2273 non-null   object \n",
            " 18  Sample Quality6                       1579 non-null   float64\n",
            " 19  SampleQuality6_4dayavg                2445 non-null   float64\n",
            " 20  ProductQualityIssue                   2557 non-null   int64  \n",
            "dtypes: float64(17), int64(1), object(3)\n",
            "memory usage: 419.6+ KB\n"
          ]
        }
      ],
      "source": [
        "min8 = df['ProcessUnitParameter3'].min()\n",
        "df['ProcessUnitParameter3'].fillna(min8, inplace=True)\n",
        "df.info()"
      ]
    },
    {
      "cell_type": "code",
      "execution_count": null,
      "id": "aa24350c",
      "metadata": {
        "colab": {
          "base_uri": "https://localhost:8080/"
        },
        "id": "aa24350c",
        "outputId": "7f81e778-546c-4a58-f02d-e1606256c508"
      },
      "outputs": [
        {
          "output_type": "stream",
          "name": "stdout",
          "text": [
            "<class 'pandas.core.frame.DataFrame'>\n",
            "RangeIndex: 2557 entries, 0 to 2556\n",
            "Data columns (total 17 columns):\n",
            " #   Column                                Non-Null Count  Dtype  \n",
            "---  ------                                --------------  -----  \n",
            " 0   Filter2DP7DayAverage                  2557 non-null   float64\n",
            " 1   Filter1DP7DayAverage                  2557 non-null   float64\n",
            " 2   ProcessUnitChargeRateofChange7dayavg  2557 non-null   float64\n",
            " 3   FeedUnitParameter                     2557 non-null   float64\n",
            " 4   FeedUnitRundownRate                   2557 non-null   float64\n",
            " 5   ProcessUnitParameter1                 2557 non-null   float64\n",
            " 6   ProcessUnitParameter2                 2557 non-null   float64\n",
            " 7   ProcessUnitParameter3                 2557 non-null   float64\n",
            " 8   ProcessUnitParameter4                 2557 non-null   float64\n",
            " 9   ProcessUnitParameter5                 2557 non-null   float64\n",
            " 10  ProcessUnitParameter6                 2557 non-null   float64\n",
            " 11  ProcessUnitParameter7                 2557 non-null   float64\n",
            " 12  SampleQuality1                        2557 non-null   float64\n",
            " 13  SampleQuality2                        2557 non-null   float64\n",
            " 14  SampleQuality4_4dayavg                2557 non-null   float64\n",
            " 15  SampleQuality6_4dayavg                2557 non-null   float64\n",
            " 16  ProductQualityIssue                   2557 non-null   int64  \n",
            "dtypes: float64(16), int64(1)\n",
            "memory usage: 339.7 KB\n"
          ]
        }
      ],
      "source": [
        "min9 = df['ProcessUnitParameter4'].min()\n",
        "df['ProcessUnitParameter4'].fillna(min9, inplace=True)\n",
        "df.info()"
      ]
    },
    {
      "cell_type": "code",
      "execution_count": null,
      "id": "7d97ec1d",
      "metadata": {
        "colab": {
          "base_uri": "https://localhost:8080/"
        },
        "id": "7d97ec1d",
        "outputId": "c6d5ff3e-2208-4228-b582-67f3ba180b42"
      },
      "outputs": [
        {
          "output_type": "stream",
          "name": "stdout",
          "text": [
            "<class 'pandas.core.frame.DataFrame'>\n",
            "RangeIndex: 2557 entries, 0 to 2556\n",
            "Data columns (total 21 columns):\n",
            " #   Column                                Non-Null Count  Dtype  \n",
            "---  ------                                --------------  -----  \n",
            " 0   Date                                  2557 non-null   object \n",
            " 1   Filter2DP7DayAverage                  2557 non-null   float64\n",
            " 2   Filter1DP7DayAverage                  2557 non-null   float64\n",
            " 3   ProcessUnitChargeRateofChange7dayavg  2557 non-null   float64\n",
            " 4   FeedUnitParameter                     2557 non-null   float64\n",
            " 5   FeedUnitRundownRate                   2557 non-null   float64\n",
            " 6   ProcessUnitParameter1                 2557 non-null   float64\n",
            " 7   ProcessUnitParameter2                 2557 non-null   float64\n",
            " 8   ProcessUnitParameter3                 2557 non-null   float64\n",
            " 9   ProcessUnitParameter4                 2557 non-null   float64\n",
            " 10  ProcessUnitParameter5                 2557 non-null   float64\n",
            " 11  ProcessUnitParameter6                 2524 non-null   float64\n",
            " 12  ProcessUnitParameter7                 2557 non-null   float64\n",
            " 13  SampleQuality1                        967 non-null    float64\n",
            " 14  SampleQuality2                        779 non-null    float64\n",
            " 15  SampleQuality3                        1803 non-null   object \n",
            " 16  SampleQuality4_4dayavg                2467 non-null   float64\n",
            " 17  SampleQuality5                        2273 non-null   object \n",
            " 18  Sample Quality6                       1579 non-null   float64\n",
            " 19  SampleQuality6_4dayavg                2445 non-null   float64\n",
            " 20  ProductQualityIssue                   2557 non-null   int64  \n",
            "dtypes: float64(17), int64(1), object(3)\n",
            "memory usage: 419.6+ KB\n"
          ]
        }
      ],
      "source": [
        "min10 = df['ProcessUnitParameter5'].min()\n",
        "df['ProcessUnitParameter5'].fillna(min10, inplace=True)\n",
        "df.info()"
      ]
    },
    {
      "cell_type": "code",
      "execution_count": null,
      "id": "31d412d3",
      "metadata": {
        "colab": {
          "base_uri": "https://localhost:8080/"
        },
        "id": "31d412d3",
        "outputId": "de8acbd2-213d-461a-998a-f1ff74edf658"
      },
      "outputs": [
        {
          "output_type": "stream",
          "name": "stdout",
          "text": [
            "<class 'pandas.core.frame.DataFrame'>\n",
            "RangeIndex: 2557 entries, 0 to 2556\n",
            "Data columns (total 21 columns):\n",
            " #   Column                                Non-Null Count  Dtype  \n",
            "---  ------                                --------------  -----  \n",
            " 0   Date                                  2557 non-null   object \n",
            " 1   Filter2DP7DayAverage                  2557 non-null   float64\n",
            " 2   Filter1DP7DayAverage                  2557 non-null   float64\n",
            " 3   ProcessUnitChargeRateofChange7dayavg  2557 non-null   float64\n",
            " 4   FeedUnitParameter                     2557 non-null   float64\n",
            " 5   FeedUnitRundownRate                   2557 non-null   float64\n",
            " 6   ProcessUnitParameter1                 2557 non-null   float64\n",
            " 7   ProcessUnitParameter2                 2557 non-null   float64\n",
            " 8   ProcessUnitParameter3                 2557 non-null   float64\n",
            " 9   ProcessUnitParameter4                 2557 non-null   float64\n",
            " 10  ProcessUnitParameter5                 2557 non-null   float64\n",
            " 11  ProcessUnitParameter6                 2557 non-null   float64\n",
            " 12  ProcessUnitParameter7                 2557 non-null   float64\n",
            " 13  SampleQuality1                        967 non-null    float64\n",
            " 14  SampleQuality2                        779 non-null    float64\n",
            " 15  SampleQuality3                        1803 non-null   object \n",
            " 16  SampleQuality4_4dayavg                2467 non-null   float64\n",
            " 17  SampleQuality5                        2273 non-null   object \n",
            " 18  Sample Quality6                       1579 non-null   float64\n",
            " 19  SampleQuality6_4dayavg                2445 non-null   float64\n",
            " 20  ProductQualityIssue                   2557 non-null   int64  \n",
            "dtypes: float64(17), int64(1), object(3)\n",
            "memory usage: 419.6+ KB\n"
          ]
        }
      ],
      "source": [
        "min11 = df['ProcessUnitParameter6'].min()\n",
        "df['ProcessUnitParameter6'].fillna(min11, inplace=True)\n",
        "df.info()"
      ]
    },
    {
      "cell_type": "code",
      "execution_count": null,
      "id": "9596dffb",
      "metadata": {
        "colab": {
          "base_uri": "https://localhost:8080/"
        },
        "id": "9596dffb",
        "outputId": "c688af0b-a5df-442c-80c6-778151c138c2"
      },
      "outputs": [
        {
          "output_type": "stream",
          "name": "stdout",
          "text": [
            "<class 'pandas.core.frame.DataFrame'>\n",
            "RangeIndex: 2557 entries, 0 to 2556\n",
            "Data columns (total 17 columns):\n",
            " #   Column                                Non-Null Count  Dtype  \n",
            "---  ------                                --------------  -----  \n",
            " 0   Filter2DP7DayAverage                  2557 non-null   float64\n",
            " 1   Filter1DP7DayAverage                  2557 non-null   float64\n",
            " 2   ProcessUnitChargeRateofChange7dayavg  2557 non-null   float64\n",
            " 3   FeedUnitParameter                     2557 non-null   float64\n",
            " 4   FeedUnitRundownRate                   2557 non-null   float64\n",
            " 5   ProcessUnitParameter1                 2557 non-null   float64\n",
            " 6   ProcessUnitParameter2                 2557 non-null   float64\n",
            " 7   ProcessUnitParameter3                 2557 non-null   float64\n",
            " 8   ProcessUnitParameter4                 2557 non-null   float64\n",
            " 9   ProcessUnitParameter5                 2557 non-null   float64\n",
            " 10  ProcessUnitParameter6                 2557 non-null   float64\n",
            " 11  ProcessUnitParameter7                 2557 non-null   float64\n",
            " 12  SampleQuality1                        2557 non-null   float64\n",
            " 13  SampleQuality2                        2557 non-null   float64\n",
            " 14  SampleQuality4_4dayavg                2557 non-null   float64\n",
            " 15  SampleQuality6_4dayavg                2557 non-null   float64\n",
            " 16  ProductQualityIssue                   2557 non-null   int64  \n",
            "dtypes: float64(16), int64(1)\n",
            "memory usage: 339.7 KB\n"
          ]
        }
      ],
      "source": [
        "min12 = df['ProcessUnitParameter7'].min()\n",
        "df['ProcessUnitParameter7'].fillna(min12, inplace=True)\n",
        "df.info()"
      ]
    },
    {
      "cell_type": "code",
      "source": [
        "round_off_values"
      ],
      "metadata": {
        "colab": {
          "base_uri": "https://localhost:8080/"
        },
        "id": "LRpFXDNigsgk",
        "outputId": "a00d7c72-40a0-4f7a-bf81-55799b376f79"
      },
      "id": "LRpFXDNigsgk",
      "execution_count": null,
      "outputs": [
        {
          "output_type": "execute_result",
          "data": {
            "text/plain": [
              "0.0"
            ]
          },
          "metadata": {},
          "execution_count": 484
        }
      ]
    },
    {
      "cell_type": "code",
      "execution_count": null,
      "id": "fc415779",
      "metadata": {
        "colab": {
          "base_uri": "https://localhost:8080/"
        },
        "id": "fc415779",
        "outputId": "2ff9e230-bf76-4fc7-d8e9-4dfa011a87b7"
      },
      "outputs": [
        {
          "output_type": "stream",
          "name": "stdout",
          "text": [
            "<class 'pandas.core.frame.DataFrame'>\n",
            "RangeIndex: 2557 entries, 0 to 2556\n",
            "Data columns (total 21 columns):\n",
            " #   Column                                Non-Null Count  Dtype  \n",
            "---  ------                                --------------  -----  \n",
            " 0   Date                                  2557 non-null   object \n",
            " 1   Filter2DP7DayAverage                  2557 non-null   float64\n",
            " 2   Filter1DP7DayAverage                  2557 non-null   float64\n",
            " 3   ProcessUnitChargeRateofChange7dayavg  2557 non-null   float64\n",
            " 4   FeedUnitParameter                     2557 non-null   float64\n",
            " 5   FeedUnitRundownRate                   2557 non-null   float64\n",
            " 6   ProcessUnitParameter1                 2557 non-null   float64\n",
            " 7   ProcessUnitParameter2                 2557 non-null   float64\n",
            " 8   ProcessUnitParameter3                 2557 non-null   float64\n",
            " 9   ProcessUnitParameter4                 2557 non-null   float64\n",
            " 10  ProcessUnitParameter5                 2557 non-null   float64\n",
            " 11  ProcessUnitParameter6                 2557 non-null   float64\n",
            " 12  ProcessUnitParameter7                 2557 non-null   float64\n",
            " 13  SampleQuality1                        2557 non-null   float64\n",
            " 14  SampleQuality2                        779 non-null    float64\n",
            " 15  SampleQuality3                        1803 non-null   object \n",
            " 16  SampleQuality4_4dayavg                2467 non-null   float64\n",
            " 17  SampleQuality5                        2273 non-null   object \n",
            " 18  Sample Quality6                       1579 non-null   float64\n",
            " 19  SampleQuality6_4dayavg                2445 non-null   float64\n",
            " 20  ProductQualityIssue                   2557 non-null   int64  \n",
            "dtypes: float64(17), int64(1), object(3)\n",
            "memory usage: 419.6+ KB\n"
          ]
        }
      ],
      "source": [
        "min13 = df['SampleQuality1'].min()\n",
        "df['SampleQuality1'].fillna(min13, inplace=True)\n",
        "df.info()"
      ]
    },
    {
      "cell_type": "code",
      "execution_count": null,
      "id": "acf4ef54",
      "metadata": {
        "colab": {
          "base_uri": "https://localhost:8080/"
        },
        "id": "acf4ef54",
        "outputId": "b46e69df-db13-422b-f588-f10bd7d21aa3"
      },
      "outputs": [
        {
          "output_type": "stream",
          "name": "stdout",
          "text": [
            "<class 'pandas.core.frame.DataFrame'>\n",
            "RangeIndex: 2557 entries, 0 to 2556\n",
            "Data columns (total 21 columns):\n",
            " #   Column                                Non-Null Count  Dtype  \n",
            "---  ------                                --------------  -----  \n",
            " 0   Date                                  2557 non-null   object \n",
            " 1   Filter2DP7DayAverage                  2557 non-null   float64\n",
            " 2   Filter1DP7DayAverage                  2557 non-null   float64\n",
            " 3   ProcessUnitChargeRateofChange7dayavg  2557 non-null   float64\n",
            " 4   FeedUnitParameter                     2557 non-null   float64\n",
            " 5   FeedUnitRundownRate                   2557 non-null   float64\n",
            " 6   ProcessUnitParameter1                 2557 non-null   float64\n",
            " 7   ProcessUnitParameter2                 2557 non-null   float64\n",
            " 8   ProcessUnitParameter3                 2557 non-null   float64\n",
            " 9   ProcessUnitParameter4                 2557 non-null   float64\n",
            " 10  ProcessUnitParameter5                 2557 non-null   float64\n",
            " 11  ProcessUnitParameter6                 2557 non-null   float64\n",
            " 12  ProcessUnitParameter7                 2557 non-null   float64\n",
            " 13  SampleQuality1                        2557 non-null   float64\n",
            " 14  SampleQuality2                        2557 non-null   float64\n",
            " 15  SampleQuality3                        1803 non-null   object \n",
            " 16  SampleQuality4_4dayavg                2467 non-null   float64\n",
            " 17  SampleQuality5                        2273 non-null   object \n",
            " 18  Sample Quality6                       1579 non-null   float64\n",
            " 19  SampleQuality6_4dayavg                2445 non-null   float64\n",
            " 20  ProductQualityIssue                   2557 non-null   int64  \n",
            "dtypes: float64(17), int64(1), object(3)\n",
            "memory usage: 419.6+ KB\n"
          ]
        }
      ],
      "source": [
        "min14 = df['SampleQuality2'].min()\n",
        "df['SampleQuality2'].fillna(min14, inplace=True)\n",
        "df.info()"
      ]
    },
    {
      "cell_type": "code",
      "execution_count": null,
      "id": "622c0386",
      "metadata": {
        "colab": {
          "base_uri": "https://localhost:8080/"
        },
        "id": "622c0386",
        "outputId": "45895211-64e5-47c4-8b0d-63a8b42c292b"
      },
      "outputs": [
        {
          "output_type": "stream",
          "name": "stdout",
          "text": [
            "<class 'pandas.core.frame.DataFrame'>\n",
            "RangeIndex: 2557 entries, 0 to 2556\n",
            "Data columns (total 21 columns):\n",
            " #   Column                                Non-Null Count  Dtype  \n",
            "---  ------                                --------------  -----  \n",
            " 0   Date                                  2557 non-null   object \n",
            " 1   Filter2DP7DayAverage                  2557 non-null   float64\n",
            " 2   Filter1DP7DayAverage                  2557 non-null   float64\n",
            " 3   ProcessUnitChargeRateofChange7dayavg  2557 non-null   float64\n",
            " 4   FeedUnitParameter                     2557 non-null   float64\n",
            " 5   FeedUnitRundownRate                   2557 non-null   float64\n",
            " 6   ProcessUnitParameter1                 2557 non-null   float64\n",
            " 7   ProcessUnitParameter2                 2557 non-null   float64\n",
            " 8   ProcessUnitParameter3                 2557 non-null   float64\n",
            " 9   ProcessUnitParameter4                 2557 non-null   float64\n",
            " 10  ProcessUnitParameter5                 2557 non-null   float64\n",
            " 11  ProcessUnitParameter6                 2557 non-null   float64\n",
            " 12  ProcessUnitParameter7                 2557 non-null   float64\n",
            " 13  SampleQuality1                        2557 non-null   float64\n",
            " 14  SampleQuality2                        2557 non-null   float64\n",
            " 15  SampleQuality3                        1803 non-null   object \n",
            " 16  SampleQuality4_4dayavg                2557 non-null   float64\n",
            " 17  SampleQuality5                        2273 non-null   object \n",
            " 18  Sample Quality6                       1579 non-null   float64\n",
            " 19  SampleQuality6_4dayavg                2445 non-null   float64\n",
            " 20  ProductQualityIssue                   2557 non-null   int64  \n",
            "dtypes: float64(17), int64(1), object(3)\n",
            "memory usage: 419.6+ KB\n"
          ]
        }
      ],
      "source": [
        "min16 = df['SampleQuality4_4dayavg'].min()\n",
        "df['SampleQuality4_4dayavg'].fillna(min16, inplace=True)\n",
        "df.info()"
      ]
    },
    {
      "cell_type": "code",
      "execution_count": null,
      "id": "72d42f75",
      "metadata": {
        "colab": {
          "base_uri": "https://localhost:8080/"
        },
        "id": "72d42f75",
        "outputId": "fe9e2428-7498-4242-8a7f-3891db3a04c8"
      },
      "outputs": [
        {
          "output_type": "stream",
          "name": "stdout",
          "text": [
            "<class 'pandas.core.frame.DataFrame'>\n",
            "RangeIndex: 2557 entries, 0 to 2556\n",
            "Data columns (total 21 columns):\n",
            " #   Column                                Non-Null Count  Dtype  \n",
            "---  ------                                --------------  -----  \n",
            " 0   Date                                  2557 non-null   object \n",
            " 1   Filter2DP7DayAverage                  2557 non-null   float64\n",
            " 2   Filter1DP7DayAverage                  2557 non-null   float64\n",
            " 3   ProcessUnitChargeRateofChange7dayavg  2557 non-null   float64\n",
            " 4   FeedUnitParameter                     2557 non-null   float64\n",
            " 5   FeedUnitRundownRate                   2557 non-null   float64\n",
            " 6   ProcessUnitParameter1                 2557 non-null   float64\n",
            " 7   ProcessUnitParameter2                 2557 non-null   float64\n",
            " 8   ProcessUnitParameter3                 2557 non-null   float64\n",
            " 9   ProcessUnitParameter4                 2557 non-null   float64\n",
            " 10  ProcessUnitParameter5                 2557 non-null   float64\n",
            " 11  ProcessUnitParameter6                 2557 non-null   float64\n",
            " 12  ProcessUnitParameter7                 2557 non-null   float64\n",
            " 13  SampleQuality1                        2557 non-null   float64\n",
            " 14  SampleQuality2                        2557 non-null   float64\n",
            " 15  SampleQuality3                        1803 non-null   object \n",
            " 16  SampleQuality4_4dayavg                2557 non-null   float64\n",
            " 17  SampleQuality5                        2273 non-null   object \n",
            " 18  Sample Quality6                       2557 non-null   float64\n",
            " 19  SampleQuality6_4dayavg                2445 non-null   float64\n",
            " 20  ProductQualityIssue                   2557 non-null   int64  \n",
            "dtypes: float64(17), int64(1), object(3)\n",
            "memory usage: 419.6+ KB\n"
          ]
        }
      ],
      "source": [
        "min18 = df['Sample Quality6'].min()\n",
        "df['Sample Quality6'].fillna(min18, inplace=True)\n",
        "df.info()"
      ]
    },
    {
      "cell_type": "code",
      "execution_count": null,
      "id": "bbcf4111",
      "metadata": {
        "colab": {
          "base_uri": "https://localhost:8080/"
        },
        "id": "bbcf4111",
        "outputId": "f223009d-0206-4d8e-af75-dde36e65e356"
      },
      "outputs": [
        {
          "output_type": "stream",
          "name": "stdout",
          "text": [
            "<class 'pandas.core.frame.DataFrame'>\n",
            "RangeIndex: 2557 entries, 0 to 2556\n",
            "Data columns (total 21 columns):\n",
            " #   Column                                Non-Null Count  Dtype  \n",
            "---  ------                                --------------  -----  \n",
            " 0   Date                                  2557 non-null   object \n",
            " 1   Filter2DP7DayAverage                  2557 non-null   float64\n",
            " 2   Filter1DP7DayAverage                  2557 non-null   float64\n",
            " 3   ProcessUnitChargeRateofChange7dayavg  2557 non-null   float64\n",
            " 4   FeedUnitParameter                     2557 non-null   float64\n",
            " 5   FeedUnitRundownRate                   2557 non-null   float64\n",
            " 6   ProcessUnitParameter1                 2557 non-null   float64\n",
            " 7   ProcessUnitParameter2                 2557 non-null   float64\n",
            " 8   ProcessUnitParameter3                 2557 non-null   float64\n",
            " 9   ProcessUnitParameter4                 2557 non-null   float64\n",
            " 10  ProcessUnitParameter5                 2557 non-null   float64\n",
            " 11  ProcessUnitParameter6                 2557 non-null   float64\n",
            " 12  ProcessUnitParameter7                 2557 non-null   float64\n",
            " 13  SampleQuality1                        2557 non-null   float64\n",
            " 14  SampleQuality2                        2557 non-null   float64\n",
            " 15  SampleQuality3                        1803 non-null   object \n",
            " 16  SampleQuality4_4dayavg                2557 non-null   float64\n",
            " 17  SampleQuality5                        2273 non-null   object \n",
            " 18  Sample Quality6                       2557 non-null   float64\n",
            " 19  SampleQuality6_4dayavg                2557 non-null   float64\n",
            " 20  ProductQualityIssue                   2557 non-null   int64  \n",
            "dtypes: float64(17), int64(1), object(3)\n",
            "memory usage: 419.6+ KB\n"
          ]
        }
      ],
      "source": [
        "min19 = df['SampleQuality6_4dayavg'].min()\n",
        "df['SampleQuality6_4dayavg'].fillna(min19, inplace=True)\n",
        "df.info()"
      ]
    },
    {
      "cell_type": "code",
      "source": [
        "round= df['ProcessUnitParameter4'].round(decimals = 2)\n",
        "df['ProcessUnitParameter4'] = df['ProcessUnitParameter4'].replace(round)\n",
        "df['ProcessUnitParameter4']"
      ],
      "metadata": {
        "colab": {
          "base_uri": "https://localhost:8080/"
        },
        "id": "xxJux3u9kNwu",
        "outputId": "c283463b-c414-4310-e384-0da18f4d947b"
      },
      "id": "xxJux3u9kNwu",
      "execution_count": null,
      "outputs": [
        {
          "output_type": "execute_result",
          "data": {
            "text/plain": [
              "0       13.050659\n",
              "1       13.047152\n",
              "2       13.047497\n",
              "3       13.045583\n",
              "4       13.020702\n",
              "          ...    \n",
              "2552    21.808795\n",
              "2553    20.732886\n",
              "2554    20.222761\n",
              "2555    19.468143\n",
              "2556    19.142750\n",
              "Name: ProcessUnitParameter4, Length: 2557, dtype: float64"
            ]
          },
          "metadata": {},
          "execution_count": 518
        }
      ]
    },
    {
      "cell_type": "code",
      "execution_count": null,
      "id": "28a352eb",
      "metadata": {
        "id": "28a352eb"
      },
      "outputs": [],
      "source": [
        "df.drop(\"Date\", axis=1, inplace=True)"
      ]
    },
    {
      "cell_type": "code",
      "execution_count": null,
      "id": "71af436d",
      "metadata": {
        "id": "71af436d"
      },
      "outputs": [],
      "source": [
        "df.drop(\"SampleQuality3\", axis=1, inplace=True)"
      ]
    },
    {
      "cell_type": "code",
      "execution_count": null,
      "id": "fca39ea6",
      "metadata": {
        "id": "fca39ea6"
      },
      "outputs": [],
      "source": [
        "df.drop(\"SampleQuality5\", axis=1, inplace=True)"
      ]
    },
    {
      "cell_type": "code",
      "execution_count": null,
      "id": "e47db909",
      "metadata": {
        "colab": {
          "base_uri": "https://localhost:8080/"
        },
        "id": "e47db909",
        "outputId": "ee286102-6b3b-440f-90ff-d9d84612ab2f"
      },
      "outputs": [
        {
          "output_type": "stream",
          "name": "stdout",
          "text": [
            "<class 'pandas.core.frame.DataFrame'>\n",
            "RangeIndex: 2557 entries, 0 to 2556\n",
            "Data columns (total 17 columns):\n",
            " #   Column                                Non-Null Count  Dtype  \n",
            "---  ------                                --------------  -----  \n",
            " 0   Filter2DP7DayAverage                  2557 non-null   float64\n",
            " 1   Filter1DP7DayAverage                  2557 non-null   float64\n",
            " 2   ProcessUnitChargeRateofChange7dayavg  2557 non-null   float64\n",
            " 3   FeedUnitParameter                     2557 non-null   float64\n",
            " 4   FeedUnitRundownRate                   2557 non-null   float64\n",
            " 5   ProcessUnitParameter1                 2557 non-null   float64\n",
            " 6   ProcessUnitParameter2                 2557 non-null   float64\n",
            " 7   ProcessUnitParameter3                 2557 non-null   float64\n",
            " 8   ProcessUnitParameter4                 2557 non-null   float64\n",
            " 9   ProcessUnitParameter5                 2557 non-null   float64\n",
            " 10  ProcessUnitParameter6                 2557 non-null   float64\n",
            " 11  ProcessUnitParameter7                 2557 non-null   float64\n",
            " 12  SampleQuality1                        2557 non-null   float64\n",
            " 13  SampleQuality2                        2557 non-null   float64\n",
            " 14  SampleQuality4_4dayavg                2557 non-null   float64\n",
            " 15  SampleQuality6_4dayavg                2557 non-null   float64\n",
            " 16  ProductQualityIssue                   2557 non-null   int64  \n",
            "dtypes: float64(16), int64(1)\n",
            "memory usage: 339.7 KB\n"
          ]
        }
      ],
      "source": [
        "df.info()"
      ]
    },
    {
      "cell_type": "code",
      "execution_count": null,
      "id": "58cebd3f",
      "metadata": {
        "colab": {
          "base_uri": "https://localhost:8080/",
          "height": 740
        },
        "id": "58cebd3f",
        "outputId": "92906be2-e6f9-44b2-8724-3ecbe5ec4335"
      },
      "outputs": [
        {
          "output_type": "execute_result",
          "data": {
            "text/plain": [
              "    Filter2DP7DayAverage  Filter1DP7DayAverage  \\\n",
              "0                   0.02                  0.98   \n",
              "1                   0.02                  0.98   \n",
              "2                   0.02                  0.98   \n",
              "3                   0.02                  0.98   \n",
              "4                   0.02                  0.98   \n",
              "5                   0.02                  0.98   \n",
              "6                   1.45                  0.98   \n",
              "7                   1.42                  0.98   \n",
              "8                   1.32                  0.98   \n",
              "9                   1.43                  0.98   \n",
              "10                  1.47                  0.98   \n",
              "11                  1.49                  0.98   \n",
              "12                  1.56                  0.98   \n",
              "13                  1.88                  0.98   \n",
              "14                  2.00                  0.98   \n",
              "15                  2.05                  0.98   \n",
              "16                  2.07                  0.98   \n",
              "17                  1.84                  0.98   \n",
              "18                  2.08                  0.98   \n",
              "19                  2.11                  0.98   \n",
              "\n",
              "    ProcessUnitChargeRateofChange7dayavg  FeedUnitParameter  \\\n",
              "0                                   0.08           2.717768   \n",
              "1                                   0.08           2.657733   \n",
              "2                                   0.08           2.693024   \n",
              "3                                   0.08           2.804085   \n",
              "4                                   0.08           1.083513   \n",
              "5                                   0.08          -0.049330   \n",
              "6                                  36.86           4.441127   \n",
              "7                                  51.83           1.619983   \n",
              "8                                  59.86           1.687349   \n",
              "9                                  80.42           2.054117   \n",
              "10                                 83.48           1.706597   \n",
              "11                                 90.36           1.741200   \n",
              "12                                 94.20          -0.049520   \n",
              "13                                 74.83           2.319291   \n",
              "14                                 61.18           1.174809   \n",
              "15                                 43.46           1.875778   \n",
              "16                                 22.15           0.933244   \n",
              "17                                 20.90           2.472071   \n",
              "18                                153.89           2.508399   \n",
              "19                                267.55           2.120685   \n",
              "\n",
              "    FeedUnitRundownRate  ProcessUnitParameter1  ProcessUnitParameter2  \\\n",
              "0             80.019944               0.109743              15.972476   \n",
              "1             79.968475               0.095579              15.868478   \n",
              "2             80.008950               0.100365              15.711899   \n",
              "3             80.002807               0.090540              15.696195   \n",
              "4             81.306992               0.128478              15.905737   \n",
              "5             90.013631               0.117822              15.970843   \n",
              "6             89.978831               0.109044              15.770821   \n",
              "7             98.561667               0.104873              15.654571   \n",
              "8            110.844395               0.097497              15.656398   \n",
              "9            115.009348               0.115975              15.826808   \n",
              "10           119.464506               0.086182              15.734748   \n",
              "11           119.996607               0.085113              15.671237   \n",
              "12           119.995105               0.111707              15.722035   \n",
              "13           136.576035               0.111134              15.679072   \n",
              "14           195.728465               0.103574              15.666933   \n",
              "15           199.999611               0.095333              15.896385   \n",
              "16           199.992769               2.314535              15.751741   \n",
              "17           188.316269              13.528621              15.748216   \n",
              "18           174.369148              11.820699              16.814063   \n",
              "19           142.268220              12.223063              16.093720   \n",
              "\n",
              "    ProcessUnitParameter3  ProcessUnitParameter4  ProcessUnitParameter5  \\\n",
              "0               19.386599              13.050659              50.087500   \n",
              "1               19.170377              13.047152              53.761181   \n",
              "2               18.846912              13.047497              50.135800   \n",
              "3               18.700249              13.045583              53.072222   \n",
              "4               18.672080              13.020702              59.065209   \n",
              "5               18.696269              12.912728              46.370549   \n",
              "6               18.395948              12.776048              48.377913   \n",
              "7               18.265235              12.746323              49.748086   \n",
              "8               18.308994              12.990000              46.487520   \n",
              "9               18.594623              12.831157              41.847729   \n",
              "10              18.542094              13.000607              31.428195   \n",
              "11              18.357987              13.028179              27.042113   \n",
              "12              18.377266              12.913423              44.581754   \n",
              "13              18.310929              12.889010              48.703125   \n",
              "14              18.365660              12.898893              48.943999   \n",
              "15              18.603091              13.028145              27.699607   \n",
              "16              18.420621              12.939739              31.808081   \n",
              "17              18.383927              13.027177              40.506902   \n",
              "18              24.115128              13.036076              44.948701   \n",
              "19              22.061577              13.041930              45.190855   \n",
              "\n",
              "    ProcessUnitParameter6  ProcessUnitParameter7  SampleQuality1  \\\n",
              "0                6.852708                   25.0             0.0   \n",
              "1                6.700000                   25.0             0.0   \n",
              "2                6.744444                   25.0             0.0   \n",
              "3                6.314521                   25.0             0.0   \n",
              "4                6.328361                   25.0             0.0   \n",
              "5                6.521771                   25.0             0.0   \n",
              "6                6.871875                   25.0             0.0   \n",
              "7                6.660070                   25.0             0.0   \n",
              "8                6.854583                   25.0             0.0   \n",
              "9                7.112569                   25.0             0.0   \n",
              "10               6.891528                   25.0             0.0   \n",
              "11               6.863333                   25.0             0.0   \n",
              "12               6.900000                   25.0             0.0   \n",
              "13               6.873333                   25.0             0.0   \n",
              "14               6.804861                   25.0             0.0   \n",
              "15               7.175764                   25.0             0.0   \n",
              "16               8.000000                   25.0             0.0   \n",
              "17               6.926667                   25.0             0.0   \n",
              "18               6.709792                   25.0             0.0   \n",
              "19               7.200694                   25.0             0.0   \n",
              "\n",
              "    SampleQuality2  SampleQuality4_4dayavg  SampleQuality6_4dayavg  \\\n",
              "0             -0.1                    0.11                    0.09   \n",
              "1             -0.1                    0.11                    0.09   \n",
              "2             -0.1                    0.11                    0.09   \n",
              "3             -0.1                    3.35                    0.56   \n",
              "4             -0.1                    3.30                    0.54   \n",
              "5             -0.1                    2.94                    0.49   \n",
              "6             -0.1                    0.93                    0.35   \n",
              "7             -0.1                    2.11                    0.25   \n",
              "8             -0.1                    2.51                    0.25   \n",
              "9             -0.1                    2.38                    0.25   \n",
              "10            -0.1                    3.66                    0.28   \n",
              "11            -0.1                    2.47                    0.30   \n",
              "12            -0.1                    2.30                    0.38   \n",
              "13            -0.1                    2.13                    0.48   \n",
              "14            -0.1                    0.99                    0.60   \n",
              "15            -0.1                    1.26                    0.63   \n",
              "16            -0.1                    1.20                    0.70   \n",
              "17            -0.1                    2.17                    0.65   \n",
              "18            -0.1                    2.29                    0.55   \n",
              "19            -0.1                    2.23                    0.58   \n",
              "\n",
              "    ProductQualityIssue  \n",
              "0                     0  \n",
              "1                     0  \n",
              "2                     0  \n",
              "3                     0  \n",
              "4                     0  \n",
              "5                     0  \n",
              "6                     0  \n",
              "7                     0  \n",
              "8                     0  \n",
              "9                     0  \n",
              "10                    0  \n",
              "11                    0  \n",
              "12                    0  \n",
              "13                    0  \n",
              "14                    0  \n",
              "15                    0  \n",
              "16                    0  \n",
              "17                    0  \n",
              "18                    0  \n",
              "19                    0  "
            ],
            "text/html": [
              "\n",
              "  <div id=\"df-d80f01e1-4550-4876-866a-ddb446893d29\">\n",
              "    <div class=\"colab-df-container\">\n",
              "      <div>\n",
              "<style scoped>\n",
              "    .dataframe tbody tr th:only-of-type {\n",
              "        vertical-align: middle;\n",
              "    }\n",
              "\n",
              "    .dataframe tbody tr th {\n",
              "        vertical-align: top;\n",
              "    }\n",
              "\n",
              "    .dataframe thead th {\n",
              "        text-align: right;\n",
              "    }\n",
              "</style>\n",
              "<table border=\"1\" class=\"dataframe\">\n",
              "  <thead>\n",
              "    <tr style=\"text-align: right;\">\n",
              "      <th></th>\n",
              "      <th>Filter2DP7DayAverage</th>\n",
              "      <th>Filter1DP7DayAverage</th>\n",
              "      <th>ProcessUnitChargeRateofChange7dayavg</th>\n",
              "      <th>FeedUnitParameter</th>\n",
              "      <th>FeedUnitRundownRate</th>\n",
              "      <th>ProcessUnitParameter1</th>\n",
              "      <th>ProcessUnitParameter2</th>\n",
              "      <th>ProcessUnitParameter3</th>\n",
              "      <th>ProcessUnitParameter4</th>\n",
              "      <th>ProcessUnitParameter5</th>\n",
              "      <th>ProcessUnitParameter6</th>\n",
              "      <th>ProcessUnitParameter7</th>\n",
              "      <th>SampleQuality1</th>\n",
              "      <th>SampleQuality2</th>\n",
              "      <th>SampleQuality4_4dayavg</th>\n",
              "      <th>SampleQuality6_4dayavg</th>\n",
              "      <th>ProductQualityIssue</th>\n",
              "    </tr>\n",
              "  </thead>\n",
              "  <tbody>\n",
              "    <tr>\n",
              "      <th>0</th>\n",
              "      <td>0.02</td>\n",
              "      <td>0.98</td>\n",
              "      <td>0.08</td>\n",
              "      <td>2.717768</td>\n",
              "      <td>80.019944</td>\n",
              "      <td>0.109743</td>\n",
              "      <td>15.972476</td>\n",
              "      <td>19.386599</td>\n",
              "      <td>13.050659</td>\n",
              "      <td>50.087500</td>\n",
              "      <td>6.852708</td>\n",
              "      <td>25.0</td>\n",
              "      <td>0.0</td>\n",
              "      <td>-0.1</td>\n",
              "      <td>0.11</td>\n",
              "      <td>0.09</td>\n",
              "      <td>0</td>\n",
              "    </tr>\n",
              "    <tr>\n",
              "      <th>1</th>\n",
              "      <td>0.02</td>\n",
              "      <td>0.98</td>\n",
              "      <td>0.08</td>\n",
              "      <td>2.657733</td>\n",
              "      <td>79.968475</td>\n",
              "      <td>0.095579</td>\n",
              "      <td>15.868478</td>\n",
              "      <td>19.170377</td>\n",
              "      <td>13.047152</td>\n",
              "      <td>53.761181</td>\n",
              "      <td>6.700000</td>\n",
              "      <td>25.0</td>\n",
              "      <td>0.0</td>\n",
              "      <td>-0.1</td>\n",
              "      <td>0.11</td>\n",
              "      <td>0.09</td>\n",
              "      <td>0</td>\n",
              "    </tr>\n",
              "    <tr>\n",
              "      <th>2</th>\n",
              "      <td>0.02</td>\n",
              "      <td>0.98</td>\n",
              "      <td>0.08</td>\n",
              "      <td>2.693024</td>\n",
              "      <td>80.008950</td>\n",
              "      <td>0.100365</td>\n",
              "      <td>15.711899</td>\n",
              "      <td>18.846912</td>\n",
              "      <td>13.047497</td>\n",
              "      <td>50.135800</td>\n",
              "      <td>6.744444</td>\n",
              "      <td>25.0</td>\n",
              "      <td>0.0</td>\n",
              "      <td>-0.1</td>\n",
              "      <td>0.11</td>\n",
              "      <td>0.09</td>\n",
              "      <td>0</td>\n",
              "    </tr>\n",
              "    <tr>\n",
              "      <th>3</th>\n",
              "      <td>0.02</td>\n",
              "      <td>0.98</td>\n",
              "      <td>0.08</td>\n",
              "      <td>2.804085</td>\n",
              "      <td>80.002807</td>\n",
              "      <td>0.090540</td>\n",
              "      <td>15.696195</td>\n",
              "      <td>18.700249</td>\n",
              "      <td>13.045583</td>\n",
              "      <td>53.072222</td>\n",
              "      <td>6.314521</td>\n",
              "      <td>25.0</td>\n",
              "      <td>0.0</td>\n",
              "      <td>-0.1</td>\n",
              "      <td>3.35</td>\n",
              "      <td>0.56</td>\n",
              "      <td>0</td>\n",
              "    </tr>\n",
              "    <tr>\n",
              "      <th>4</th>\n",
              "      <td>0.02</td>\n",
              "      <td>0.98</td>\n",
              "      <td>0.08</td>\n",
              "      <td>1.083513</td>\n",
              "      <td>81.306992</td>\n",
              "      <td>0.128478</td>\n",
              "      <td>15.905737</td>\n",
              "      <td>18.672080</td>\n",
              "      <td>13.020702</td>\n",
              "      <td>59.065209</td>\n",
              "      <td>6.328361</td>\n",
              "      <td>25.0</td>\n",
              "      <td>0.0</td>\n",
              "      <td>-0.1</td>\n",
              "      <td>3.30</td>\n",
              "      <td>0.54</td>\n",
              "      <td>0</td>\n",
              "    </tr>\n",
              "    <tr>\n",
              "      <th>5</th>\n",
              "      <td>0.02</td>\n",
              "      <td>0.98</td>\n",
              "      <td>0.08</td>\n",
              "      <td>-0.049330</td>\n",
              "      <td>90.013631</td>\n",
              "      <td>0.117822</td>\n",
              "      <td>15.970843</td>\n",
              "      <td>18.696269</td>\n",
              "      <td>12.912728</td>\n",
              "      <td>46.370549</td>\n",
              "      <td>6.521771</td>\n",
              "      <td>25.0</td>\n",
              "      <td>0.0</td>\n",
              "      <td>-0.1</td>\n",
              "      <td>2.94</td>\n",
              "      <td>0.49</td>\n",
              "      <td>0</td>\n",
              "    </tr>\n",
              "    <tr>\n",
              "      <th>6</th>\n",
              "      <td>1.45</td>\n",
              "      <td>0.98</td>\n",
              "      <td>36.86</td>\n",
              "      <td>4.441127</td>\n",
              "      <td>89.978831</td>\n",
              "      <td>0.109044</td>\n",
              "      <td>15.770821</td>\n",
              "      <td>18.395948</td>\n",
              "      <td>12.776048</td>\n",
              "      <td>48.377913</td>\n",
              "      <td>6.871875</td>\n",
              "      <td>25.0</td>\n",
              "      <td>0.0</td>\n",
              "      <td>-0.1</td>\n",
              "      <td>0.93</td>\n",
              "      <td>0.35</td>\n",
              "      <td>0</td>\n",
              "    </tr>\n",
              "    <tr>\n",
              "      <th>7</th>\n",
              "      <td>1.42</td>\n",
              "      <td>0.98</td>\n",
              "      <td>51.83</td>\n",
              "      <td>1.619983</td>\n",
              "      <td>98.561667</td>\n",
              "      <td>0.104873</td>\n",
              "      <td>15.654571</td>\n",
              "      <td>18.265235</td>\n",
              "      <td>12.746323</td>\n",
              "      <td>49.748086</td>\n",
              "      <td>6.660070</td>\n",
              "      <td>25.0</td>\n",
              "      <td>0.0</td>\n",
              "      <td>-0.1</td>\n",
              "      <td>2.11</td>\n",
              "      <td>0.25</td>\n",
              "      <td>0</td>\n",
              "    </tr>\n",
              "    <tr>\n",
              "      <th>8</th>\n",
              "      <td>1.32</td>\n",
              "      <td>0.98</td>\n",
              "      <td>59.86</td>\n",
              "      <td>1.687349</td>\n",
              "      <td>110.844395</td>\n",
              "      <td>0.097497</td>\n",
              "      <td>15.656398</td>\n",
              "      <td>18.308994</td>\n",
              "      <td>12.990000</td>\n",
              "      <td>46.487520</td>\n",
              "      <td>6.854583</td>\n",
              "      <td>25.0</td>\n",
              "      <td>0.0</td>\n",
              "      <td>-0.1</td>\n",
              "      <td>2.51</td>\n",
              "      <td>0.25</td>\n",
              "      <td>0</td>\n",
              "    </tr>\n",
              "    <tr>\n",
              "      <th>9</th>\n",
              "      <td>1.43</td>\n",
              "      <td>0.98</td>\n",
              "      <td>80.42</td>\n",
              "      <td>2.054117</td>\n",
              "      <td>115.009348</td>\n",
              "      <td>0.115975</td>\n",
              "      <td>15.826808</td>\n",
              "      <td>18.594623</td>\n",
              "      <td>12.831157</td>\n",
              "      <td>41.847729</td>\n",
              "      <td>7.112569</td>\n",
              "      <td>25.0</td>\n",
              "      <td>0.0</td>\n",
              "      <td>-0.1</td>\n",
              "      <td>2.38</td>\n",
              "      <td>0.25</td>\n",
              "      <td>0</td>\n",
              "    </tr>\n",
              "    <tr>\n",
              "      <th>10</th>\n",
              "      <td>1.47</td>\n",
              "      <td>0.98</td>\n",
              "      <td>83.48</td>\n",
              "      <td>1.706597</td>\n",
              "      <td>119.464506</td>\n",
              "      <td>0.086182</td>\n",
              "      <td>15.734748</td>\n",
              "      <td>18.542094</td>\n",
              "      <td>13.000607</td>\n",
              "      <td>31.428195</td>\n",
              "      <td>6.891528</td>\n",
              "      <td>25.0</td>\n",
              "      <td>0.0</td>\n",
              "      <td>-0.1</td>\n",
              "      <td>3.66</td>\n",
              "      <td>0.28</td>\n",
              "      <td>0</td>\n",
              "    </tr>\n",
              "    <tr>\n",
              "      <th>11</th>\n",
              "      <td>1.49</td>\n",
              "      <td>0.98</td>\n",
              "      <td>90.36</td>\n",
              "      <td>1.741200</td>\n",
              "      <td>119.996607</td>\n",
              "      <td>0.085113</td>\n",
              "      <td>15.671237</td>\n",
              "      <td>18.357987</td>\n",
              "      <td>13.028179</td>\n",
              "      <td>27.042113</td>\n",
              "      <td>6.863333</td>\n",
              "      <td>25.0</td>\n",
              "      <td>0.0</td>\n",
              "      <td>-0.1</td>\n",
              "      <td>2.47</td>\n",
              "      <td>0.30</td>\n",
              "      <td>0</td>\n",
              "    </tr>\n",
              "    <tr>\n",
              "      <th>12</th>\n",
              "      <td>1.56</td>\n",
              "      <td>0.98</td>\n",
              "      <td>94.20</td>\n",
              "      <td>-0.049520</td>\n",
              "      <td>119.995105</td>\n",
              "      <td>0.111707</td>\n",
              "      <td>15.722035</td>\n",
              "      <td>18.377266</td>\n",
              "      <td>12.913423</td>\n",
              "      <td>44.581754</td>\n",
              "      <td>6.900000</td>\n",
              "      <td>25.0</td>\n",
              "      <td>0.0</td>\n",
              "      <td>-0.1</td>\n",
              "      <td>2.30</td>\n",
              "      <td>0.38</td>\n",
              "      <td>0</td>\n",
              "    </tr>\n",
              "    <tr>\n",
              "      <th>13</th>\n",
              "      <td>1.88</td>\n",
              "      <td>0.98</td>\n",
              "      <td>74.83</td>\n",
              "      <td>2.319291</td>\n",
              "      <td>136.576035</td>\n",
              "      <td>0.111134</td>\n",
              "      <td>15.679072</td>\n",
              "      <td>18.310929</td>\n",
              "      <td>12.889010</td>\n",
              "      <td>48.703125</td>\n",
              "      <td>6.873333</td>\n",
              "      <td>25.0</td>\n",
              "      <td>0.0</td>\n",
              "      <td>-0.1</td>\n",
              "      <td>2.13</td>\n",
              "      <td>0.48</td>\n",
              "      <td>0</td>\n",
              "    </tr>\n",
              "    <tr>\n",
              "      <th>14</th>\n",
              "      <td>2.00</td>\n",
              "      <td>0.98</td>\n",
              "      <td>61.18</td>\n",
              "      <td>1.174809</td>\n",
              "      <td>195.728465</td>\n",
              "      <td>0.103574</td>\n",
              "      <td>15.666933</td>\n",
              "      <td>18.365660</td>\n",
              "      <td>12.898893</td>\n",
              "      <td>48.943999</td>\n",
              "      <td>6.804861</td>\n",
              "      <td>25.0</td>\n",
              "      <td>0.0</td>\n",
              "      <td>-0.1</td>\n",
              "      <td>0.99</td>\n",
              "      <td>0.60</td>\n",
              "      <td>0</td>\n",
              "    </tr>\n",
              "    <tr>\n",
              "      <th>15</th>\n",
              "      <td>2.05</td>\n",
              "      <td>0.98</td>\n",
              "      <td>43.46</td>\n",
              "      <td>1.875778</td>\n",
              "      <td>199.999611</td>\n",
              "      <td>0.095333</td>\n",
              "      <td>15.896385</td>\n",
              "      <td>18.603091</td>\n",
              "      <td>13.028145</td>\n",
              "      <td>27.699607</td>\n",
              "      <td>7.175764</td>\n",
              "      <td>25.0</td>\n",
              "      <td>0.0</td>\n",
              "      <td>-0.1</td>\n",
              "      <td>1.26</td>\n",
              "      <td>0.63</td>\n",
              "      <td>0</td>\n",
              "    </tr>\n",
              "    <tr>\n",
              "      <th>16</th>\n",
              "      <td>2.07</td>\n",
              "      <td>0.98</td>\n",
              "      <td>22.15</td>\n",
              "      <td>0.933244</td>\n",
              "      <td>199.992769</td>\n",
              "      <td>2.314535</td>\n",
              "      <td>15.751741</td>\n",
              "      <td>18.420621</td>\n",
              "      <td>12.939739</td>\n",
              "      <td>31.808081</td>\n",
              "      <td>8.000000</td>\n",
              "      <td>25.0</td>\n",
              "      <td>0.0</td>\n",
              "      <td>-0.1</td>\n",
              "      <td>1.20</td>\n",
              "      <td>0.70</td>\n",
              "      <td>0</td>\n",
              "    </tr>\n",
              "    <tr>\n",
              "      <th>17</th>\n",
              "      <td>1.84</td>\n",
              "      <td>0.98</td>\n",
              "      <td>20.90</td>\n",
              "      <td>2.472071</td>\n",
              "      <td>188.316269</td>\n",
              "      <td>13.528621</td>\n",
              "      <td>15.748216</td>\n",
              "      <td>18.383927</td>\n",
              "      <td>13.027177</td>\n",
              "      <td>40.506902</td>\n",
              "      <td>6.926667</td>\n",
              "      <td>25.0</td>\n",
              "      <td>0.0</td>\n",
              "      <td>-0.1</td>\n",
              "      <td>2.17</td>\n",
              "      <td>0.65</td>\n",
              "      <td>0</td>\n",
              "    </tr>\n",
              "    <tr>\n",
              "      <th>18</th>\n",
              "      <td>2.08</td>\n",
              "      <td>0.98</td>\n",
              "      <td>153.89</td>\n",
              "      <td>2.508399</td>\n",
              "      <td>174.369148</td>\n",
              "      <td>11.820699</td>\n",
              "      <td>16.814063</td>\n",
              "      <td>24.115128</td>\n",
              "      <td>13.036076</td>\n",
              "      <td>44.948701</td>\n",
              "      <td>6.709792</td>\n",
              "      <td>25.0</td>\n",
              "      <td>0.0</td>\n",
              "      <td>-0.1</td>\n",
              "      <td>2.29</td>\n",
              "      <td>0.55</td>\n",
              "      <td>0</td>\n",
              "    </tr>\n",
              "    <tr>\n",
              "      <th>19</th>\n",
              "      <td>2.11</td>\n",
              "      <td>0.98</td>\n",
              "      <td>267.55</td>\n",
              "      <td>2.120685</td>\n",
              "      <td>142.268220</td>\n",
              "      <td>12.223063</td>\n",
              "      <td>16.093720</td>\n",
              "      <td>22.061577</td>\n",
              "      <td>13.041930</td>\n",
              "      <td>45.190855</td>\n",
              "      <td>7.200694</td>\n",
              "      <td>25.0</td>\n",
              "      <td>0.0</td>\n",
              "      <td>-0.1</td>\n",
              "      <td>2.23</td>\n",
              "      <td>0.58</td>\n",
              "      <td>0</td>\n",
              "    </tr>\n",
              "  </tbody>\n",
              "</table>\n",
              "</div>\n",
              "      <button class=\"colab-df-convert\" onclick=\"convertToInteractive('df-d80f01e1-4550-4876-866a-ddb446893d29')\"\n",
              "              title=\"Convert this dataframe to an interactive table.\"\n",
              "              style=\"display:none;\">\n",
              "        \n",
              "  <svg xmlns=\"http://www.w3.org/2000/svg\" height=\"24px\"viewBox=\"0 0 24 24\"\n",
              "       width=\"24px\">\n",
              "    <path d=\"M0 0h24v24H0V0z\" fill=\"none\"/>\n",
              "    <path d=\"M18.56 5.44l.94 2.06.94-2.06 2.06-.94-2.06-.94-.94-2.06-.94 2.06-2.06.94zm-11 1L8.5 8.5l.94-2.06 2.06-.94-2.06-.94L8.5 2.5l-.94 2.06-2.06.94zm10 10l.94 2.06.94-2.06 2.06-.94-2.06-.94-.94-2.06-.94 2.06-2.06.94z\"/><path d=\"M17.41 7.96l-1.37-1.37c-.4-.4-.92-.59-1.43-.59-.52 0-1.04.2-1.43.59L10.3 9.45l-7.72 7.72c-.78.78-.78 2.05 0 2.83L4 21.41c.39.39.9.59 1.41.59.51 0 1.02-.2 1.41-.59l7.78-7.78 2.81-2.81c.8-.78.8-2.07 0-2.86zM5.41 20L4 18.59l7.72-7.72 1.47 1.35L5.41 20z\"/>\n",
              "  </svg>\n",
              "      </button>\n",
              "      \n",
              "  <style>\n",
              "    .colab-df-container {\n",
              "      display:flex;\n",
              "      flex-wrap:wrap;\n",
              "      gap: 12px;\n",
              "    }\n",
              "\n",
              "    .colab-df-convert {\n",
              "      background-color: #E8F0FE;\n",
              "      border: none;\n",
              "      border-radius: 50%;\n",
              "      cursor: pointer;\n",
              "      display: none;\n",
              "      fill: #1967D2;\n",
              "      height: 32px;\n",
              "      padding: 0 0 0 0;\n",
              "      width: 32px;\n",
              "    }\n",
              "\n",
              "    .colab-df-convert:hover {\n",
              "      background-color: #E2EBFA;\n",
              "      box-shadow: 0px 1px 2px rgba(60, 64, 67, 0.3), 0px 1px 3px 1px rgba(60, 64, 67, 0.15);\n",
              "      fill: #174EA6;\n",
              "    }\n",
              "\n",
              "    [theme=dark] .colab-df-convert {\n",
              "      background-color: #3B4455;\n",
              "      fill: #D2E3FC;\n",
              "    }\n",
              "\n",
              "    [theme=dark] .colab-df-convert:hover {\n",
              "      background-color: #434B5C;\n",
              "      box-shadow: 0px 1px 3px 1px rgba(0, 0, 0, 0.15);\n",
              "      filter: drop-shadow(0px 1px 2px rgba(0, 0, 0, 0.3));\n",
              "      fill: #FFFFFF;\n",
              "    }\n",
              "  </style>\n",
              "\n",
              "      <script>\n",
              "        const buttonEl =\n",
              "          document.querySelector('#df-d80f01e1-4550-4876-866a-ddb446893d29 button.colab-df-convert');\n",
              "        buttonEl.style.display =\n",
              "          google.colab.kernel.accessAllowed ? 'block' : 'none';\n",
              "\n",
              "        async function convertToInteractive(key) {\n",
              "          const element = document.querySelector('#df-d80f01e1-4550-4876-866a-ddb446893d29');\n",
              "          const dataTable =\n",
              "            await google.colab.kernel.invokeFunction('convertToInteractive',\n",
              "                                                     [key], {});\n",
              "          if (!dataTable) return;\n",
              "\n",
              "          const docLinkHtml = 'Like what you see? Visit the ' +\n",
              "            '<a target=\"_blank\" href=https://colab.research.google.com/notebooks/data_table.ipynb>data table notebook</a>'\n",
              "            + ' to learn more about interactive tables.';\n",
              "          element.innerHTML = '';\n",
              "          dataTable['output_type'] = 'display_data';\n",
              "          await google.colab.output.renderOutput(dataTable, element);\n",
              "          const docLink = document.createElement('div');\n",
              "          docLink.innerHTML = docLinkHtml;\n",
              "          element.appendChild(docLink);\n",
              "        }\n",
              "      </script>\n",
              "    </div>\n",
              "  </div>\n",
              "  "
            ]
          },
          "metadata": {},
          "execution_count": 512
        }
      ],
      "source": [
        "df.head(20)"
      ]
    },
    {
      "cell_type": "markdown",
      "id": "dc993e92",
      "metadata": {
        "id": "dc993e92"
      },
      "source": [
        "## Analyzing Dataset"
      ]
    },
    {
      "cell_type": "code",
      "execution_count": null,
      "id": "cadc3317",
      "metadata": {
        "colab": {
          "base_uri": "https://localhost:8080/"
        },
        "id": "cadc3317",
        "outputId": "80e95346-5ce3-4fe4-f4da-c3ab8f8564b5"
      },
      "outputs": [
        {
          "output_type": "execute_result",
          "data": {
            "text/plain": [
              "0    2394\n",
              "1     163\n",
              "Name: ProductQualityIssue, dtype: int64"
            ]
          },
          "metadata": {},
          "execution_count": 402
        }
      ],
      "source": [
        "df.ProductQualityIssue.value_counts()"
      ]
    },
    {
      "cell_type": "code",
      "execution_count": null,
      "id": "73ee639c",
      "metadata": {
        "colab": {
          "base_uri": "https://localhost:8080/"
        },
        "id": "73ee639c",
        "outputId": "bcf5682e-1647-4bb4-e492-9d8456d132d4"
      },
      "outputs": [
        {
          "output_type": "execute_result",
          "data": {
            "text/plain": [
              "<matplotlib.axes._subplots.AxesSubplot at 0x7f2ff83abf50>"
            ]
          },
          "metadata": {},
          "execution_count": 403
        },
        {
          "output_type": "display_data",
          "data": {
            "text/plain": [
              "<Figure size 432x288 with 1 Axes>"
            ],
            "image/png": "[encoded data removed]"
          },
          "metadata": {
            "needs_background": "light"
          }
        }
      ],
      "source": [
        "# one means fail\n",
        "sns.countplot(x= \"ProductQualityIssue\", data=df)"
      ]
    },
    {
      "cell_type": "code",
      "execution_count": null,
      "id": "02dcecbd",
      "metadata": {
        "colab": {
          "base_uri": "https://localhost:8080/"
        },
        "id": "02dcecbd",
        "outputId": "1e7fc14e-07ee-45ce-d3ee-8fb6456a57d0"
      },
      "outputs": [
        {
          "output_type": "stream",
          "name": "stdout",
          "text": [
            "ProductQualityIssue                     1.000000\n",
            "SampleQuality6_4dayavg                  0.390473\n",
            "SampleQuality4_4dayavg                  0.377768\n",
            "ProcessUnitChargeRateofChange7dayavg    0.191151\n",
            "SampleQuality1                          0.075151\n",
            "SampleQuality2                          0.063934\n",
            "ProcessUnitParameter3                   0.045938\n",
            "Filter1DP7DayAverage                    0.040460\n",
            "ProcessUnitParameter1                   0.039348\n",
            "ProcessUnitParameter2                   0.006911\n",
            "Filter2DP7DayAverage                    0.006464\n",
            "ProcessUnitParameter7                  -0.002173\n",
            "FeedUnitRundownRate                    -0.011142\n",
            "ProcessUnitParameter5                  -0.039745\n",
            "ProcessUnitParameter6                  -0.040452\n",
            "ProcessUnitParameter4                  -0.044755\n",
            "FeedUnitParameter                      -0.057459\n",
            "Name: ProductQualityIssue, dtype: float64\n"
          ]
        }
      ],
      "source": [
        "correlation_matrix = df.corr()\n",
        "print(correlation_matrix['ProductQualityIssue'].sort_values(ascending=False))"
      ]
    },
    {
      "cell_type": "code",
      "execution_count": null,
      "id": "b02ea329",
      "metadata": {
        "colab": {
          "base_uri": "https://localhost:8080/"
        },
        "id": "b02ea329",
        "outputId": "84f657cc-b510-4938-a060-861ccd2c26ea"
      },
      "outputs": [
        {
          "output_type": "execute_result",
          "data": {
            "text/plain": [
              "<matplotlib.axes._subplots.AxesSubplot at 0x7f2ff8448450>"
            ]
          },
          "metadata": {},
          "execution_count": 405
        },
        {
          "output_type": "display_data",
          "data": {
            "text/plain": [
              "<Figure size 432x288 with 1 Axes>"
            ],
            "image/png": "[encoded data removed]"
          },
          "metadata": {
            "needs_background": "light"
          }
        }
      ],
      "source": [
        "df.plot(kind=\"scatter\", x=\"ProductQualityIssue\", y=\"SampleQuality6_4dayavg\", color=\"red\")"
      ]
    },
    {
      "cell_type": "code",
      "execution_count": null,
      "id": "3910a085",
      "metadata": {
        "id": "3910a085"
      },
      "outputs": [],
      "source": [
        "x = df.drop(\"ProductQualityIssue\", axis=1)\n",
        "y = df[\"ProductQualityIssue\"]"
      ]
    },
    {
      "cell_type": "code",
      "execution_count": null,
      "id": "a2070ab5",
      "metadata": {
        "colab": {
          "base_uri": "https://localhost:8080/"
        },
        "id": "a2070ab5",
        "outputId": "a2553304-ee4b-4541-adf6-6ee90c516e37"
      },
      "outputs": [
        {
          "output_type": "execute_result",
          "data": {
            "text/plain": [
              "array([[<matplotlib.axes._subplots.AxesSubplot object at 0x7f2ffb41c110>,\n",
              "        <matplotlib.axes._subplots.AxesSubplot object at 0x7f2ffb3990d0>,\n",
              "        <matplotlib.axes._subplots.AxesSubplot object at 0x7f2ff8bbee10>,\n",
              "        <matplotlib.axes._subplots.AxesSubplot object at 0x7f2ff66a9310>],\n",
              "       [<matplotlib.axes._subplots.AxesSubplot object at 0x7f2ff6c69090>,\n",
              "        <matplotlib.axes._subplots.AxesSubplot object at 0x7f2ff2c75dd0>,\n",
              "        <matplotlib.axes._subplots.AxesSubplot object at 0x7f2ff6c04d50>,\n",
              "        <matplotlib.axes._subplots.AxesSubplot object at 0x7f2ff664f410>],\n",
              "       [<matplotlib.axes._subplots.AxesSubplot object at 0x7f2ff664f450>,\n",
              "        <matplotlib.axes._subplots.AxesSubplot object at 0x7f2ff6ff8e90>,\n",
              "        <matplotlib.axes._subplots.AxesSubplot object at 0x7f2ff69c9850>,\n",
              "        <matplotlib.axes._subplots.AxesSubplot object at 0x7f2ffcaf7890>],\n",
              "       [<matplotlib.axes._subplots.AxesSubplot object at 0x7f2ffcb563d0>,\n",
              "        <matplotlib.axes._subplots.AxesSubplot object at 0x7f2ffb2ec690>,\n",
              "        <matplotlib.axes._subplots.AxesSubplot object at 0x7f2ff9575310>,\n",
              "        <matplotlib.axes._subplots.AxesSubplot object at 0x7f2ff6526bd0>]],\n",
              "      dtype=object)"
            ]
          },
          "metadata": {},
          "execution_count": 407
        },
        {
          "output_type": "display_data",
          "data": {
            "text/plain": [
              "<Figure size 1080x1080 with 16 Axes>"
            ],
            "image/png": "[encoded data removed]"
          },
          "metadata": {
            "needs_background": "light"
          }
        }
      ],
      "source": [
        "x.hist(bins=40, figsize=(15,15))"
      ]
    },
    {
      "cell_type": "code",
      "execution_count": null,
      "id": "013e6173",
      "metadata": {
        "colab": {
          "base_uri": "https://localhost:8080/"
        },
        "id": "013e6173",
        "outputId": "47b138c0-ec28-482b-8e7b-4686d430f5c7"
      },
      "outputs": [
        {
          "output_type": "execute_result",
          "data": {
            "text/plain": [
              "    Filter2DP7DayAverage  Filter1DP7DayAverage  \\\n",
              "0                   0.02                  0.98   \n",
              "1                   0.02                  0.98   \n",
              "2                   0.02                  0.98   \n",
              "3                   0.02                  0.98   \n",
              "4                   0.02                  0.98   \n",
              "5                   0.02                  0.98   \n",
              "6                   1.45                  0.98   \n",
              "7                   1.42                  0.98   \n",
              "8                   1.32                  0.98   \n",
              "9                   1.43                  0.98   \n",
              "10                  1.47                  0.98   \n",
              "11                  1.49                  0.98   \n",
              "\n",
              "    ProcessUnitChargeRateofChange7dayavg  FeedUnitParameter  \\\n",
              "0                                   0.08           2.717768   \n",
              "1                                   0.08           2.657733   \n",
              "2                                   0.08           2.693024   \n",
              "3                                   0.08           2.804085   \n",
              "4                                   0.08           1.083513   \n",
              "5                                   0.08          -0.049330   \n",
              "6                                  36.86           4.441127   \n",
              "7                                  51.83           1.619983   \n",
              "8                                  59.86           1.687349   \n",
              "9                                  80.42           2.054117   \n",
              "10                                 83.48           1.706597   \n",
              "11                                 90.36           1.741200   \n",
              "\n",
              "    FeedUnitRundownRate  ProcessUnitParameter1  ProcessUnitParameter2  \\\n",
              "0             80.019944               0.109743              15.972476   \n",
              "1             79.968475               0.095579              15.868478   \n",
              "2             80.008950               0.100365              15.711899   \n",
              "3             80.002807               0.090540              15.696195   \n",
              "4             81.306992               0.128478              15.905737   \n",
              "5             90.013631               0.117822              15.970843   \n",
              "6             89.978831               0.109044              15.770821   \n",
              "7             98.561667               0.104873              15.654571   \n",
              "8            110.844395               0.097497              15.656398   \n",
              "9            115.009348               0.115975              15.826808   \n",
              "10           119.464506               0.086182              15.734748   \n",
              "11           119.996607               0.085113              15.671237   \n",
              "\n",
              "    ProcessUnitParameter3  ProcessUnitParameter4  ProcessUnitParameter5  \\\n",
              "0               19.386599              13.050659              50.087500   \n",
              "1               19.170377              13.047152              53.761181   \n",
              "2               18.846912              13.047497              50.135800   \n",
              "3               18.700249              13.045583              53.072222   \n",
              "4               18.672080              13.020702              59.065209   \n",
              "5               18.696269              12.912728              46.370549   \n",
              "6               18.395948              12.776048              48.377913   \n",
              "7               18.265235              12.746323              49.748086   \n",
              "8               18.308994              12.990000              46.487520   \n",
              "9               18.594623              12.831157              41.847729   \n",
              "10              18.542094              13.000607              31.428195   \n",
              "11              18.357987              13.028179              27.042113   \n",
              "\n",
              "    ProcessUnitParameter6  ProcessUnitParameter7  SampleQuality1  \\\n",
              "0                6.852708                   25.0             0.0   \n",
              "1                6.700000                   25.0             0.0   \n",
              "2                6.744444                   25.0             0.0   \n",
              "3                6.314521                   25.0             0.0   \n",
              "4                6.328361                   25.0             0.0   \n",
              "5                6.521771                   25.0             0.0   \n",
              "6                6.871875                   25.0             0.0   \n",
              "7                6.660070                   25.0             0.0   \n",
              "8                6.854583                   25.0             0.0   \n",
              "9                7.112569                   25.0             0.0   \n",
              "10               6.891528                   25.0             0.0   \n",
              "11               6.863333                   25.0             0.0   \n",
              "\n",
              "    SampleQuality2  SampleQuality4_4dayavg  SampleQuality6_4dayavg  \n",
              "0             -0.1                    0.11                    0.09  \n",
              "1             -0.1                    0.11                    0.09  \n",
              "2             -0.1                    0.11                    0.09  \n",
              "3             -0.1                    3.35                    0.56  \n",
              "4             -0.1                    3.30                    0.54  \n",
              "5             -0.1                    2.94                    0.49  \n",
              "6             -0.1                    0.93                    0.35  \n",
              "7             -0.1                    2.11                    0.25  \n",
              "8             -0.1                    2.51                    0.25  \n",
              "9             -0.1                    2.38                    0.25  \n",
              "10            -0.1                    3.66                    0.28  \n",
              "11            -0.1                    2.47                    0.30  "
            ],
            "text/html": [
              "\n",
              "  <div id=\"df-7760ca74-2422-4c42-84d8-20d5c4e09f57\">\n",
              "    <div class=\"colab-df-container\">\n",
              "      <div>\n",
              "<style scoped>\n",
              "    .dataframe tbody tr th:only-of-type {\n",
              "        vertical-align: middle;\n",
              "    }\n",
              "\n",
              "    .dataframe tbody tr th {\n",
              "        vertical-align: top;\n",
              "    }\n",
              "\n",
              "    .dataframe thead th {\n",
              "        text-align: right;\n",
              "    }\n",
              "</style>\n",
              "<table border=\"1\" class=\"dataframe\">\n",
              "  <thead>\n",
              "    <tr style=\"text-align: right;\">\n",
              "      <th></th>\n",
              "      <th>Filter2DP7DayAverage</th>\n",
              "      <th>Filter1DP7DayAverage</th>\n",
              "      <th>ProcessUnitChargeRateofChange7dayavg</th>\n",
              "      <th>FeedUnitParameter</th>\n",
              "      <th>FeedUnitRundownRate</th>\n",
              "      <th>ProcessUnitParameter1</th>\n",
              "      <th>ProcessUnitParameter2</th>\n",
              "      <th>ProcessUnitParameter3</th>\n",
              "      <th>ProcessUnitParameter4</th>\n",
              "      <th>ProcessUnitParameter5</th>\n",
              "      <th>ProcessUnitParameter6</th>\n",
              "      <th>ProcessUnitParameter7</th>\n",
              "      <th>SampleQuality1</th>\n",
              "      <th>SampleQuality2</th>\n",
              "      <th>SampleQuality4_4dayavg</th>\n",
              "      <th>SampleQuality6_4dayavg</th>\n",
              "    </tr>\n",
              "  </thead>\n",
              "  <tbody>\n",
              "    <tr>\n",
              "      <th>0</th>\n",
              "      <td>0.02</td>\n",
              "      <td>0.98</td>\n",
              "      <td>0.08</td>\n",
              "      <td>2.717768</td>\n",
              "      <td>80.019944</td>\n",
              "      <td>0.109743</td>\n",
              "      <td>15.972476</td>\n",
              "      <td>19.386599</td>\n",
              "      <td>13.050659</td>\n",
              "      <td>50.087500</td>\n",
              "      <td>6.852708</td>\n",
              "      <td>25.0</td>\n",
              "      <td>0.0</td>\n",
              "      <td>-0.1</td>\n",
              "      <td>0.11</td>\n",
              "      <td>0.09</td>\n",
              "    </tr>\n",
              "    <tr>\n",
              "      <th>1</th>\n",
              "      <td>0.02</td>\n",
              "      <td>0.98</td>\n",
              "      <td>0.08</td>\n",
              "      <td>2.657733</td>\n",
              "      <td>79.968475</td>\n",
              "      <td>0.095579</td>\n",
              "      <td>15.868478</td>\n",
              "      <td>19.170377</td>\n",
              "      <td>13.047152</td>\n",
              "      <td>53.761181</td>\n",
              "      <td>6.700000</td>\n",
              "      <td>25.0</td>\n",
              "      <td>0.0</td>\n",
              "      <td>-0.1</td>\n",
              "      <td>0.11</td>\n",
              "      <td>0.09</td>\n",
              "    </tr>\n",
              "    <tr>\n",
              "      <th>2</th>\n",
              "      <td>0.02</td>\n",
              "      <td>0.98</td>\n",
              "      <td>0.08</td>\n",
              "      <td>2.693024</td>\n",
              "      <td>80.008950</td>\n",
              "      <td>0.100365</td>\n",
              "      <td>15.711899</td>\n",
              "      <td>18.846912</td>\n",
              "      <td>13.047497</td>\n",
              "      <td>50.135800</td>\n",
              "      <td>6.744444</td>\n",
              "      <td>25.0</td>\n",
              "      <td>0.0</td>\n",
              "      <td>-0.1</td>\n",
              "      <td>0.11</td>\n",
              "      <td>0.09</td>\n",
              "    </tr>\n",
              "    <tr>\n",
              "      <th>3</th>\n",
              "      <td>0.02</td>\n",
              "      <td>0.98</td>\n",
              "      <td>0.08</td>\n",
              "      <td>2.804085</td>\n",
              "      <td>80.002807</td>\n",
              "      <td>0.090540</td>\n",
              "      <td>15.696195</td>\n",
              "      <td>18.700249</td>\n",
              "      <td>13.045583</td>\n",
              "      <td>53.072222</td>\n",
              "      <td>6.314521</td>\n",
              "      <td>25.0</td>\n",
              "      <td>0.0</td>\n",
              "      <td>-0.1</td>\n",
              "      <td>3.35</td>\n",
              "      <td>0.56</td>\n",
              "    </tr>\n",
              "    <tr>\n",
              "      <th>4</th>\n",
              "      <td>0.02</td>\n",
              "      <td>0.98</td>\n",
              "      <td>0.08</td>\n",
              "      <td>1.083513</td>\n",
              "      <td>81.306992</td>\n",
              "      <td>0.128478</td>\n",
              "      <td>15.905737</td>\n",
              "      <td>18.672080</td>\n",
              "      <td>13.020702</td>\n",
              "      <td>59.065209</td>\n",
              "      <td>6.328361</td>\n",
              "      <td>25.0</td>\n",
              "      <td>0.0</td>\n",
              "      <td>-0.1</td>\n",
              "      <td>3.30</td>\n",
              "      <td>0.54</td>\n",
              "    </tr>\n",
              "    <tr>\n",
              "      <th>5</th>\n",
              "      <td>0.02</td>\n",
              "      <td>0.98</td>\n",
              "      <td>0.08</td>\n",
              "      <td>-0.049330</td>\n",
              "      <td>90.013631</td>\n",
              "      <td>0.117822</td>\n",
              "      <td>15.970843</td>\n",
              "      <td>18.696269</td>\n",
              "      <td>12.912728</td>\n",
              "      <td>46.370549</td>\n",
              "      <td>6.521771</td>\n",
              "      <td>25.0</td>\n",
              "      <td>0.0</td>\n",
              "      <td>-0.1</td>\n",
              "      <td>2.94</td>\n",
              "      <td>0.49</td>\n",
              "    </tr>\n",
              "    <tr>\n",
              "      <th>6</th>\n",
              "      <td>1.45</td>\n",
              "      <td>0.98</td>\n",
              "      <td>36.86</td>\n",
              "      <td>4.441127</td>\n",
              "      <td>89.978831</td>\n",
              "      <td>0.109044</td>\n",
              "      <td>15.770821</td>\n",
              "      <td>18.395948</td>\n",
              "      <td>12.776048</td>\n",
              "      <td>48.377913</td>\n",
              "      <td>6.871875</td>\n",
              "      <td>25.0</td>\n",
              "      <td>0.0</td>\n",
              "      <td>-0.1</td>\n",
              "      <td>0.93</td>\n",
              "      <td>0.35</td>\n",
              "    </tr>\n",
              "    <tr>\n",
              "      <th>7</th>\n",
              "      <td>1.42</td>\n",
              "      <td>0.98</td>\n",
              "      <td>51.83</td>\n",
              "      <td>1.619983</td>\n",
              "      <td>98.561667</td>\n",
              "      <td>0.104873</td>\n",
              "      <td>15.654571</td>\n",
              "      <td>18.265235</td>\n",
              "      <td>12.746323</td>\n",
              "      <td>49.748086</td>\n",
              "      <td>6.660070</td>\n",
              "      <td>25.0</td>\n",
              "      <td>0.0</td>\n",
              "      <td>-0.1</td>\n",
              "      <td>2.11</td>\n",
              "      <td>0.25</td>\n",
              "    </tr>\n",
              "    <tr>\n",
              "      <th>8</th>\n",
              "      <td>1.32</td>\n",
              "      <td>0.98</td>\n",
              "      <td>59.86</td>\n",
              "      <td>1.687349</td>\n",
              "      <td>110.844395</td>\n",
              "      <td>0.097497</td>\n",
              "      <td>15.656398</td>\n",
              "      <td>18.308994</td>\n",
              "      <td>12.990000</td>\n",
              "      <td>46.487520</td>\n",
              "      <td>6.854583</td>\n",
              "      <td>25.0</td>\n",
              "      <td>0.0</td>\n",
              "      <td>-0.1</td>\n",
              "      <td>2.51</td>\n",
              "      <td>0.25</td>\n",
              "    </tr>\n",
              "    <tr>\n",
              "      <th>9</th>\n",
              "      <td>1.43</td>\n",
              "      <td>0.98</td>\n",
              "      <td>80.42</td>\n",
              "      <td>2.054117</td>\n",
              "      <td>115.009348</td>\n",
              "      <td>0.115975</td>\n",
              "      <td>15.826808</td>\n",
              "      <td>18.594623</td>\n",
              "      <td>12.831157</td>\n",
              "      <td>41.847729</td>\n",
              "      <td>7.112569</td>\n",
              "      <td>25.0</td>\n",
              "      <td>0.0</td>\n",
              "      <td>-0.1</td>\n",
              "      <td>2.38</td>\n",
              "      <td>0.25</td>\n",
              "    </tr>\n",
              "    <tr>\n",
              "      <th>10</th>\n",
              "      <td>1.47</td>\n",
              "      <td>0.98</td>\n",
              "      <td>83.48</td>\n",
              "      <td>1.706597</td>\n",
              "      <td>119.464506</td>\n",
              "      <td>0.086182</td>\n",
              "      <td>15.734748</td>\n",
              "      <td>18.542094</td>\n",
              "      <td>13.000607</td>\n",
              "      <td>31.428195</td>\n",
              "      <td>6.891528</td>\n",
              "      <td>25.0</td>\n",
              "      <td>0.0</td>\n",
              "      <td>-0.1</td>\n",
              "      <td>3.66</td>\n",
              "      <td>0.28</td>\n",
              "    </tr>\n",
              "    <tr>\n",
              "      <th>11</th>\n",
              "      <td>1.49</td>\n",
              "      <td>0.98</td>\n",
              "      <td>90.36</td>\n",
              "      <td>1.741200</td>\n",
              "      <td>119.996607</td>\n",
              "      <td>0.085113</td>\n",
              "      <td>15.671237</td>\n",
              "      <td>18.357987</td>\n",
              "      <td>13.028179</td>\n",
              "      <td>27.042113</td>\n",
              "      <td>6.863333</td>\n",
              "      <td>25.0</td>\n",
              "      <td>0.0</td>\n",
              "      <td>-0.1</td>\n",
              "      <td>2.47</td>\n",
              "      <td>0.30</td>\n",
              "    </tr>\n",
              "  </tbody>\n",
              "</table>\n",
              "</div>\n",
              "      <button class=\"colab-df-convert\" onclick=\"convertToInteractive('df-7760ca74-2422-4c42-84d8-20d5c4e09f57')\"\n",
              "              title=\"Convert this dataframe to an interactive table.\"\n",
              "              style=\"display:none;\">\n",
              "        \n",
              "  <svg xmlns=\"http://www.w3.org/2000/svg\" height=\"24px\"viewBox=\"0 0 24 24\"\n",
              "       width=\"24px\">\n",
              "    <path d=\"M0 0h24v24H0V0z\" fill=\"none\"/>\n",
              "    <path d=\"M18.56 5.44l.94 2.06.94-2.06 2.06-.94-2.06-.94-.94-2.06-.94 2.06-2.06.94zm-11 1L8.5 8.5l.94-2.06 2.06-.94-2.06-.94L8.5 2.5l-.94 2.06-2.06.94zm10 10l.94 2.06.94-2.06 2.06-.94-2.06-.94-.94-2.06-.94 2.06-2.06.94z\"/><path d=\"M17.41 7.96l-1.37-1.37c-.4-.4-.92-.59-1.43-.59-.52 0-1.04.2-1.43.59L10.3 9.45l-7.72 7.72c-.78.78-.78 2.05 0 2.83L4 21.41c.39.39.9.59 1.41.59.51 0 1.02-.2 1.41-.59l7.78-7.78 2.81-2.81c.8-.78.8-2.07 0-2.86zM5.41 20L4 18.59l7.72-7.72 1.47 1.35L5.41 20z\"/>\n",
              "  </svg>\n",
              "      </button>\n",
              "      \n",
              "  <style>\n",
              "    .colab-df-container {\n",
              "      display:flex;\n",
              "      flex-wrap:wrap;\n",
              "      gap: 12px;\n",
              "    }\n",
              "\n",
              "    .colab-df-convert {\n",
              "      background-color: #E8F0FE;\n",
              "      border: none;\n",
              "      border-radius: 50%;\n",
              "      cursor: pointer;\n",
              "      display: none;\n",
              "      fill: #1967D2;\n",
              "      height: 32px;\n",
              "      padding: 0 0 0 0;\n",
              "      width: 32px;\n",
              "    }\n",
              "\n",
              "    .colab-df-convert:hover {\n",
              "      background-color: #E2EBFA;\n",
              "      box-shadow: 0px 1px 2px rgba(60, 64, 67, 0.3), 0px 1px 3px 1px rgba(60, 64, 67, 0.15);\n",
              "      fill: #174EA6;\n",
              "    }\n",
              "\n",
              "    [theme=dark] .colab-df-convert {\n",
              "      background-color: #3B4455;\n",
              "      fill: #D2E3FC;\n",
              "    }\n",
              "\n",
              "    [theme=dark] .colab-df-convert:hover {\n",
              "      background-color: #434B5C;\n",
              "      box-shadow: 0px 1px 3px 1px rgba(0, 0, 0, 0.15);\n",
              "      filter: drop-shadow(0px 1px 2px rgba(0, 0, 0, 0.3));\n",
              "      fill: #FFFFFF;\n",
              "    }\n",
              "  </style>\n",
              "\n",
              "      <script>\n",
              "        const buttonEl =\n",
              "          document.querySelector('#df-7760ca74-2422-4c42-84d8-20d5c4e09f57 button.colab-df-convert');\n",
              "        buttonEl.style.display =\n",
              "          google.colab.kernel.accessAllowed ? 'block' : 'none';\n",
              "\n",
              "        async function convertToInteractive(key) {\n",
              "          const element = document.querySelector('#df-7760ca74-2422-4c42-84d8-20d5c4e09f57');\n",
              "          const dataTable =\n",
              "            await google.colab.kernel.invokeFunction('convertToInteractive',\n",
              "                                                     [key], {});\n",
              "          if (!dataTable) return;\n",
              "\n",
              "          const docLinkHtml = 'Like what you see? Visit the ' +\n",
              "            '<a target=\"_blank\" href=https://colab.research.google.com/notebooks/data_table.ipynb>data table notebook</a>'\n",
              "            + ' to learn more about interactive tables.';\n",
              "          element.innerHTML = '';\n",
              "          dataTable['output_type'] = 'display_data';\n",
              "          await google.colab.output.renderOutput(dataTable, element);\n",
              "          const docLink = document.createElement('div');\n",
              "          docLink.innerHTML = docLinkHtml;\n",
              "          element.appendChild(docLink);\n",
              "        }\n",
              "      </script>\n",
              "    </div>\n",
              "  </div>\n",
              "  "
            ]
          },
          "metadata": {},
          "execution_count": 408
        }
      ],
      "source": [
        "x.head(12)"
      ]
    },
    {
      "cell_type": "markdown",
      "id": "c8ff76df",
      "metadata": {
        "id": "c8ff76df"
      },
      "source": [
        "## Train & Test Dataset"
      ]
    },
    {
      "cell_type": "code",
      "execution_count": null,
      "id": "b3844ce7",
      "metadata": {
        "id": "b3844ce7"
      },
      "outputs": [],
      "source": [
        "from sklearn import preprocessing\n",
        "from sklearn.linear_model import LogisticRegression\n",
        "from sklearn.model_selection import train_test_split"
      ]
    },
    {
      "cell_type": "code",
      "execution_count": null,
      "id": "8c79f2cc",
      "metadata": {
        "colab": {
          "base_uri": "https://localhost:8080/"
        },
        "id": "8c79f2cc",
        "outputId": "6903c418-59a9-4735-e832-ee1d3c669989"
      },
      "outputs": [
        {
          "output_type": "stream",
          "name": "stdout",
          "text": [
            "Optimization terminated successfully.\n",
            "         Current function value: 0.139044\n",
            "         Iterations 8\n",
            "                                   Results: Logit\n",
            "====================================================================================\n",
            "Model:                    Logit                    Pseudo R-squared:      0.414     \n",
            "Dependent Variable:       ProductQualityIssue      AIC:                   743.0696  \n",
            "Date:                     2022-04-03 17:01         BIC:                   836.6150  \n",
            "No. Observations:         2557                     Log-Likelihood:        -355.53   \n",
            "Df Model:                 15                       LL-Null:               -606.40   \n",
            "Df Residuals:             2541                     LLR p-value:           2.4251e-97\n",
            "Converged:                1.0000                   Scale:                 1.0000    \n",
            "No. Iterations:           8.0000                                                    \n",
            "------------------------------------------------------------------------------------\n",
            "                                      Coef.  Std.Err.    z    P>|z|   [0.025  0.975]\n",
            "------------------------------------------------------------------------------------\n",
            "Filter2DP7DayAverage                  0.0647   0.0732  0.8840 0.3767 -0.0788  0.2083\n",
            "Filter1DP7DayAverage                  0.0472   0.0348  1.3561 0.1751 -0.0210  0.1155\n",
            "ProcessUnitChargeRateofChange7dayavg  0.0008   0.0002  4.6147 0.0000  0.0005  0.0012\n",
            "FeedUnitParameter                    -0.0475   0.1207 -0.3931 0.6943 -0.2841  0.1892\n",
            "FeedUnitRundownRate                  -0.0029   0.0015 -1.8636 0.0624 -0.0059  0.0001\n",
            "ProcessUnitParameter1                 0.0629   0.0290  2.1684 0.0301  0.0060  0.1198\n",
            "ProcessUnitParameter2                 0.0234   0.0358  0.6549 0.5125 -0.0467  0.0935\n",
            "ProcessUnitParameter3                 0.0091   0.0148  0.6134 0.5396 -0.0199  0.0381\n",
            "ProcessUnitParameter4                -0.0514   0.0181 -2.8363 0.0046 -0.0870 -0.0159\n",
            "ProcessUnitParameter5                -0.0300   0.0185 -1.6233 0.1045 -0.0662  0.0062\n",
            "ProcessUnitParameter6                -0.5648   0.1680 -3.3617 0.0008 -0.8941 -0.2355\n",
            "ProcessUnitParameter7                -0.0583   0.0316 -1.8460 0.0649 -0.1202  0.0036\n",
            "SampleQuality1                        0.2988   0.3969  0.7530 0.4515 -0.4791  1.0767\n",
            "SampleQuality2                        0.0545   0.6603  0.0825 0.9343 -1.2397  1.3486\n",
            "SampleQuality4_4dayavg                0.8209   0.0765 10.7316 0.0000  0.6710  0.9708\n",
            "SampleQuality6_4dayavg                2.4664   0.2161 11.4143 0.0000  2.0429  2.8899\n",
            "====================================================================================\n",
            "\n"
          ]
        }
      ],
      "source": [
        "import statsmodels.api as sm\n",
        "logit_model=sm.Logit(y,x)\n",
        "result=logit_model.fit()\n",
        "print(result.summary2())"
      ]
    },
    {
      "cell_type": "code",
      "execution_count": null,
      "id": "bc1cbf0d",
      "metadata": {
        "colab": {
          "base_uri": "https://localhost:8080/"
        },
        "id": "bc1cbf0d",
        "outputId": "82915c57-6cdb-43ab-efe3-dab5796a5d1e"
      },
      "outputs": [
        {
          "output_type": "stream",
          "name": "stderr",
          "text": [
            "/usr/local/lib/python3.7/dist-packages/sklearn/linear_model/_logistic.py:818: ConvergenceWarning: lbfgs failed to converge (status=1):\n",
            "STOP: TOTAL NO. of ITERATIONS REACHED LIMIT.\n",
            "\n",
            "Increase the number of iterations (max_iter) or scale the data as shown in:\n",
            "    https://scikit-learn.org/stable/modules/preprocessing.html\n",
            "Please also refer to the documentation for alternative solver options:\n",
            "    https://scikit-learn.org/stable/modules/linear_model.html#logistic-regression\n",
            "  extra_warning_msg=_LOGISTIC_SOLVER_CONVERGENCE_MSG,\n"
          ]
        },
        {
          "output_type": "execute_result",
          "data": {
            "text/plain": [
              "LogisticRegression()"
            ]
          },
          "metadata": {},
          "execution_count": 411
        }
      ],
      "source": [
        "from sklearn.linear_model import LogisticRegression\n",
        "from sklearn import metrics\n",
        "x_train, x_test, y_train, y_test = train_test_split(x, y, test_size=0.2, random_state=0)\n",
        "logreg = LogisticRegression()\n",
        "logreg.fit(x_train, y_train)"
      ]
    },
    {
      "cell_type": "code",
      "execution_count": null,
      "id": "878a8c11",
      "metadata": {
        "colab": {
          "base_uri": "https://localhost:8080/"
        },
        "id": "878a8c11",
        "outputId": "33bb663d-0d56-46bf-b4b8-317e7df6b2e3"
      },
      "outputs": [
        {
          "output_type": "stream",
          "name": "stdout",
          "text": [
            "Accuracy of logistic regression classifier on test set: 0.94\n"
          ]
        }
      ],
      "source": [
        "y_pred = logreg.predict(x_test)\n",
        "print('Accuracy of logistic regression classifier on test set: {:.2f}'.format(logreg.score(x_test, y_test)))"
      ]
    },
    {
      "cell_type": "code",
      "execution_count": null,
      "id": "e3cf260e",
      "metadata": {
        "colab": {
          "base_uri": "https://localhost:8080/"
        },
        "id": "e3cf260e",
        "outputId": "b51776b0-d983-43b8-c363-02a854527138"
      },
      "outputs": [
        {
          "output_type": "stream",
          "name": "stdout",
          "text": [
            "[[468   6]\n",
            " [ 26  12]]\n"
          ]
        }
      ],
      "source": [
        "from sklearn.metrics import confusion_matrix\n",
        "confusion_matrix = confusion_matrix(y_test, y_pred)\n",
        "print(confusion_matrix)"
      ]
    },
    {
      "cell_type": "code",
      "execution_count": null,
      "id": "696e55f5",
      "metadata": {
        "colab": {
          "base_uri": "https://localhost:8080/"
        },
        "id": "696e55f5",
        "outputId": "1457d210-d01d-4777-bda0-7593b1d57f45"
      },
      "outputs": [
        {
          "output_type": "stream",
          "name": "stdout",
          "text": [
            "              precision    recall  f1-score   support\n",
            "\n",
            "           0       0.95      0.99      0.97       474\n",
            "           1       0.67      0.32      0.43        38\n",
            "\n",
            "    accuracy                           0.94       512\n",
            "   macro avg       0.81      0.65      0.70       512\n",
            "weighted avg       0.93      0.94      0.93       512\n",
            "\n"
          ]
        }
      ],
      "source": [
        "from sklearn.metrics import classification_report\n",
        "print(classification_report(y_test, y_pred))"
      ]
    },
    {
      "cell_type": "code",
      "execution_count": null,
      "id": "0423d9d8",
      "metadata": {
        "colab": {
          "base_uri": "https://localhost:8080/",
          "height": 295
        },
        "id": "0423d9d8",
        "outputId": "300c9ac1-f261-4598-9bbd-9d4514d77ba7"
      },
      "outputs": [
        {
          "output_type": "display_data",
          "data": {
            "text/plain": [
              "<Figure size 432x288 with 1 Axes>"
            ],
            "image/png": "[encoded data removed]"
          },
          "metadata": {
            "needs_background": "light"
          }
        }
      ],
      "source": [
        "from sklearn.metrics import roc_auc_score\n",
        "from sklearn.metrics import roc_curve\n",
        "logit_roc_auc = roc_auc_score(y_test, logreg.predict(x_test))\n",
        "fpr, tpr, thresholds = roc_curve(y_test, logreg.predict_proba(x_test)[:,1])\n",
        "plt.figure()\n",
        "plt.plot(fpr, tpr, label='Logistic Regression (area = %0.2f)' % logit_roc_auc)\n",
        "plt.plot([0, 1], [0, 1],'r--')\n",
        "plt.xlim([0.0, 1.0])\n",
        "plt.ylim([0.0, 1.05])\n",
        "plt.xlabel('False Positive Rate')\n",
        "plt.ylabel('True Positive Rate')\n",
        "plt.title('Receiver operating characteristic')\n",
        "plt.legend(loc=\"lower right\")\n",
        "plt.savefig('Log_ROC')\n",
        "plt.show()"
      ]
    },
    {
      "cell_type": "code",
      "execution_count": null,
      "id": "65538226",
      "metadata": {
        "id": "65538226"
      },
      "outputs": [],
      "source": [
        "original = np.array(df['ProductQualityIssue'].ravel())"
      ]
    },
    {
      "cell_type": "code",
      "execution_count": null,
      "id": "fdd8ccdf",
      "metadata": {
        "colab": {
          "base_uri": "https://localhost:8080/"
        },
        "id": "fdd8ccdf",
        "outputId": "3111f831-d657-4b7a-ea68-d475506f690b"
      },
      "outputs": [
        {
          "output_type": "execute_result",
          "data": {
            "text/plain": [
              "array([0, 0, 0, 0, 0, 0, 0, 0, 0, 0, 0, 0, 0, 0, 0, 0, 0, 0, 0, 0, 0, 0,\n",
              "       0, 0, 0, 0, 0, 0, 0, 0, 0, 1, 0, 1, 1, 0, 0, 0, 0, 0, 0, 0, 0, 0,\n",
              "       0, 0, 0, 0, 0, 0])"
            ]
          },
          "metadata": {},
          "execution_count": 552
        }
      ],
      "source": [
        "Y_orginal= original[220:270]\n",
        "Y_orginal"
      ]
    },
    {
      "cell_type": "code",
      "execution_count": null,
      "id": "9e7377c8",
      "metadata": {
        "colab": {
          "base_uri": "https://localhost:8080/"
        },
        "id": "9e7377c8",
        "outputId": "5483ac6d-b41f-4d72-c673-fc62af3fe7bb"
      },
      "outputs": [
        {
          "output_type": "execute_result",
          "data": {
            "text/plain": [
              "array([0, 0, 0, 0, 0, 0, 0, 0, 0, 0, 0, 0, 0, 0, 0, 0, 0, 0, 0, 0, 0, 0,\n",
              "       0, 1, 0, 0, 0, 0, 1, 0, 0, 0, 0, 0, 0, 0, 0, 0, 0, 0, 0, 0, 0, 0,\n",
              "       0, 0, 0, 0, 0, 0])"
            ]
          },
          "metadata": {},
          "execution_count": 553
        }
      ],
      "source": [
        "Y_predicted = y_pred[220:270]\n",
        "Y_predicted"
      ]
    },
    {
      "cell_type": "code",
      "execution_count": null,
      "id": "bafc04d8",
      "metadata": {
        "id": "bafc04d8"
      },
      "outputs": [],
      "source": [
        "y_20 = y.iloc[:512].copy()"
      ]
    },
    {
      "cell_type": "code",
      "execution_count": null,
      "id": "a9571a65",
      "metadata": {
        "colab": {
          "base_uri": "https://localhost:8080/"
        },
        "id": "a9571a65",
        "outputId": "556eea85-25e0-43f4-9346-cdc826d9d1bb"
      },
      "outputs": [
        {
          "output_type": "execute_result",
          "data": {
            "text/plain": [
              "512"
            ]
          },
          "metadata": {},
          "execution_count": 524
        }
      ],
      "source": [
        "y_20.size"
      ]
    },
    {
      "cell_type": "code",
      "execution_count": null,
      "id": "228aa758",
      "metadata": {
        "id": "228aa758"
      },
      "outputs": [],
      "source": [
        "x=np.arange(0,50,1)"
      ]
    },
    {
      "cell_type": "code",
      "execution_count": null,
      "id": "5089a1ce",
      "metadata": {
        "colab": {
          "base_uri": "https://localhost:8080/"
        },
        "id": "5089a1ce",
        "outputId": "d973d043-e470-4729-8de6-ae3a54846a9f"
      },
      "outputs": [
        {
          "output_type": "execute_result",
          "data": {
            "text/plain": [
              "100"
            ]
          },
          "metadata": {},
          "execution_count": 525
        }
      ],
      "source": [
        "x.size"
      ]
    },
    {
      "cell_type": "code",
      "execution_count": null,
      "id": "9d946b21",
      "metadata": {
        "colab": {
          "base_uri": "https://localhost:8080/",
          "height": 295
        },
        "id": "9d946b21",
        "outputId": "4e952a18-4feb-4b06-bc8f-0db8c2a5aa1a"
      },
      "outputs": [
        {
          "output_type": "display_data",
          "data": {
            "text/plain": [
              "<Figure size 432x288 with 1 Axes>"
            ],
            "image/png": "[encoded data removed]"
          },
          "metadata": {
            "needs_background": "light"
          }
        }
      ],
      "source": [
        "plt.scatter(x, Y_predicted, s=40, facecolors='none', edgecolors='blue')#plt.scatter(x,y_pred)\n",
        "plt.scatter(x,Y_orginal,c='coral',alpha=1)#c='lightblue'\n",
        "plt.legend([\"Predicted\", \"Original data\"])\n",
        "plt.xlabel('x')\n",
        "# frequency label\n",
        "plt.ylabel('y')\n",
        "# plot title\n",
        "plt.title('Predicted vs Original result')\n",
        "# showing legend\n",
        "# function to show the plot\n",
        "\n",
        "plt.show()"
      ]
    },
    {
      "cell_type": "code",
      "source": [
        "plt.scatter(x, y_pred, c =\"yellow\", linewidths = 0.5, marker =\"*\", edgecolor =\"black\", s = 20)\n",
        "plt.scatter(x, y_20, c =\"yellow\", linewidths = 0.5, marker =\"*\", edgecolor =\"red\", s = 20)\n",
        "# x-axis label\n",
        "plt.xlabel('x')\n",
        "# frequency label\n",
        "plt.ylabel('y')\n",
        "# plot title\n",
        "plt.title('Predicted vs Original result')\n",
        "# showing legend\n",
        "# function to show the plot\n",
        "plt.show()"
      ],
      "metadata": {
        "colab": {
          "base_uri": "https://localhost:8080/",
          "height": 650
        },
        "id": "GPxeeCE8KVCl",
        "outputId": "d4e3832e-44ec-4f11-a91b-5555616bff35"
      },
      "id": "GPxeeCE8KVCl",
      "execution_count": null,
      "outputs": [
        {
          "output_type": "error",
          "ename": "ValueError",
          "evalue": "ignored",
          "traceback": [
            "\u001b[0;31m---------------------------------------------------------------------------\u001b[0m",
            "\u001b[0;31mValueError\u001b[0m                                Traceback (most recent call last)",
            "\u001b[0;32m<ipython-input-555-1c6b5c54b58b>\u001b[0m in \u001b[0;36m<module>\u001b[0;34m()\u001b[0m\n\u001b[0;32m----> 1\u001b[0;31m \u001b[0mplt\u001b[0m\u001b[0;34m.\u001b[0m\u001b[0mscatter\u001b[0m\u001b[0;34m(\u001b[0m\u001b[0mx\u001b[0m\u001b[0;34m,\u001b[0m \u001b[0my_pred\u001b[0m\u001b[0;34m,\u001b[0m \u001b[0mc\u001b[0m \u001b[0;34m=\u001b[0m\u001b[0;34m\"yellow\"\u001b[0m\u001b[0;34m,\u001b[0m \u001b[0mlinewidths\u001b[0m \u001b[0;34m=\u001b[0m \u001b[0;36m0.5\u001b[0m\u001b[0;34m,\u001b[0m \u001b[0mmarker\u001b[0m \u001b[0;34m=\u001b[0m\u001b[0;34m\"*\"\u001b[0m\u001b[0;34m,\u001b[0m \u001b[0medgecolor\u001b[0m \u001b[0;34m=\u001b[0m\u001b[0;34m\"black\"\u001b[0m\u001b[0;34m,\u001b[0m \u001b[0ms\u001b[0m \u001b[0;34m=\u001b[0m \u001b[0;36m20\u001b[0m\u001b[0;34m)\u001b[0m\u001b[0;34m\u001b[0m\u001b[0;34m\u001b[0m\u001b[0m\n\u001b[0m\u001b[1;32m      2\u001b[0m \u001b[0mplt\u001b[0m\u001b[0;34m.\u001b[0m\u001b[0mscatter\u001b[0m\u001b[0;34m(\u001b[0m\u001b[0mx\u001b[0m\u001b[0;34m,\u001b[0m \u001b[0my_20\u001b[0m\u001b[0;34m,\u001b[0m \u001b[0mc\u001b[0m \u001b[0;34m=\u001b[0m\u001b[0;34m\"yellow\"\u001b[0m\u001b[0;34m,\u001b[0m \u001b[0mlinewidths\u001b[0m \u001b[0;34m=\u001b[0m \u001b[0;36m0.5\u001b[0m\u001b[0;34m,\u001b[0m \u001b[0mmarker\u001b[0m \u001b[0;34m=\u001b[0m\u001b[0;34m\"*\"\u001b[0m\u001b[0;34m,\u001b[0m \u001b[0medgecolor\u001b[0m \u001b[0;34m=\u001b[0m\u001b[0;34m\"red\"\u001b[0m\u001b[0;34m,\u001b[0m \u001b[0ms\u001b[0m \u001b[0;34m=\u001b[0m \u001b[0;36m20\u001b[0m\u001b[0;34m)\u001b[0m\u001b[0;34m\u001b[0m\u001b[0;34m\u001b[0m\u001b[0m\n\u001b[1;32m      3\u001b[0m \u001b[0;31m# x-axis label\u001b[0m\u001b[0;34m\u001b[0m\u001b[0;34m\u001b[0m\u001b[0;34m\u001b[0m\u001b[0m\n\u001b[1;32m      4\u001b[0m \u001b[0mplt\u001b[0m\u001b[0;34m.\u001b[0m\u001b[0mxlabel\u001b[0m\u001b[0;34m(\u001b[0m\u001b[0;34m'x'\u001b[0m\u001b[0;34m)\u001b[0m\u001b[0;34m\u001b[0m\u001b[0;34m\u001b[0m\u001b[0m\n\u001b[1;32m      5\u001b[0m \u001b[0;31m# frequency label\u001b[0m\u001b[0;34m\u001b[0m\u001b[0;34m\u001b[0m\u001b[0;34m\u001b[0m\u001b[0m\n",
            "\u001b[0;32m/usr/local/lib/python3.7/dist-packages/matplotlib/pyplot.py\u001b[0m in \u001b[0;36mscatter\u001b[0;34m(x, y, s, c, marker, cmap, norm, vmin, vmax, alpha, linewidths, verts, edgecolors, plotnonfinite, data, **kwargs)\u001b[0m\n\u001b[1;32m   2814\u001b[0m         \u001b[0mverts\u001b[0m\u001b[0;34m=\u001b[0m\u001b[0mverts\u001b[0m\u001b[0;34m,\u001b[0m \u001b[0medgecolors\u001b[0m\u001b[0;34m=\u001b[0m\u001b[0medgecolors\u001b[0m\u001b[0;34m,\u001b[0m\u001b[0;34m\u001b[0m\u001b[0;34m\u001b[0m\u001b[0m\n\u001b[1;32m   2815\u001b[0m         plotnonfinite=plotnonfinite, **({\"data\": data} if data is not\n\u001b[0;32m-> 2816\u001b[0;31m         None else {}), **kwargs)\n\u001b[0m\u001b[1;32m   2817\u001b[0m     \u001b[0msci\u001b[0m\u001b[0;34m(\u001b[0m\u001b[0m__ret\u001b[0m\u001b[0;34m)\u001b[0m\u001b[0;34m\u001b[0m\u001b[0;34m\u001b[0m\u001b[0m\n\u001b[1;32m   2818\u001b[0m     \u001b[0;32mreturn\u001b[0m \u001b[0m__ret\u001b[0m\u001b[0;34m\u001b[0m\u001b[0;34m\u001b[0m\u001b[0m\n",
            "\u001b[0;32m/usr/local/lib/python3.7/dist-packages/matplotlib/__init__.py\u001b[0m in \u001b[0;36minner\u001b[0;34m(ax, data, *args, **kwargs)\u001b[0m\n\u001b[1;32m   1563\u001b[0m     \u001b[0;32mdef\u001b[0m \u001b[0minner\u001b[0m\u001b[0;34m(\u001b[0m\u001b[0max\u001b[0m\u001b[0;34m,\u001b[0m \u001b[0;34m*\u001b[0m\u001b[0margs\u001b[0m\u001b[0;34m,\u001b[0m \u001b[0mdata\u001b[0m\u001b[0;34m=\u001b[0m\u001b[0;32mNone\u001b[0m\u001b[0;34m,\u001b[0m \u001b[0;34m**\u001b[0m\u001b[0mkwargs\u001b[0m\u001b[0;34m)\u001b[0m\u001b[0;34m:\u001b[0m\u001b[0;34m\u001b[0m\u001b[0;34m\u001b[0m\u001b[0m\n\u001b[1;32m   1564\u001b[0m         \u001b[0;32mif\u001b[0m \u001b[0mdata\u001b[0m \u001b[0;32mis\u001b[0m \u001b[0;32mNone\u001b[0m\u001b[0;34m:\u001b[0m\u001b[0;34m\u001b[0m\u001b[0;34m\u001b[0m\u001b[0m\n\u001b[0;32m-> 1565\u001b[0;31m             \u001b[0;32mreturn\u001b[0m \u001b[0mfunc\u001b[0m\u001b[0;34m(\u001b[0m\u001b[0max\u001b[0m\u001b[0;34m,\u001b[0m \u001b[0;34m*\u001b[0m\u001b[0mmap\u001b[0m\u001b[0;34m(\u001b[0m\u001b[0msanitize_sequence\u001b[0m\u001b[0;34m,\u001b[0m \u001b[0margs\u001b[0m\u001b[0;34m)\u001b[0m\u001b[0;34m,\u001b[0m \u001b[0;34m**\u001b[0m\u001b[0mkwargs\u001b[0m\u001b[0;34m)\u001b[0m\u001b[0;34m\u001b[0m\u001b[0;34m\u001b[0m\u001b[0m\n\u001b[0m\u001b[1;32m   1566\u001b[0m \u001b[0;34m\u001b[0m\u001b[0m\n\u001b[1;32m   1567\u001b[0m         \u001b[0mbound\u001b[0m \u001b[0;34m=\u001b[0m \u001b[0mnew_sig\u001b[0m\u001b[0;34m.\u001b[0m\u001b[0mbind\u001b[0m\u001b[0;34m(\u001b[0m\u001b[0max\u001b[0m\u001b[0;34m,\u001b[0m \u001b[0;34m*\u001b[0m\u001b[0margs\u001b[0m\u001b[0;34m,\u001b[0m \u001b[0;34m**\u001b[0m\u001b[0mkwargs\u001b[0m\u001b[0;34m)\u001b[0m\u001b[0;34m\u001b[0m\u001b[0;34m\u001b[0m\u001b[0m\n",
            "\u001b[0;32m/usr/local/lib/python3.7/dist-packages/matplotlib/cbook/deprecation.py\u001b[0m in \u001b[0;36mwrapper\u001b[0;34m(*args, **kwargs)\u001b[0m\n\u001b[1;32m    356\u001b[0m                 \u001b[0;34mf\"%(removal)s.  If any parameter follows {name!r}, they \"\u001b[0m\u001b[0;34m\u001b[0m\u001b[0;34m\u001b[0m\u001b[0m\n\u001b[1;32m    357\u001b[0m                 f\"should be pass as keyword, not positionally.\")\n\u001b[0;32m--> 358\u001b[0;31m         \u001b[0;32mreturn\u001b[0m \u001b[0mfunc\u001b[0m\u001b[0;34m(\u001b[0m\u001b[0;34m*\u001b[0m\u001b[0margs\u001b[0m\u001b[0;34m,\u001b[0m \u001b[0;34m**\u001b[0m\u001b[0mkwargs\u001b[0m\u001b[0;34m)\u001b[0m\u001b[0;34m\u001b[0m\u001b[0;34m\u001b[0m\u001b[0m\n\u001b[0m\u001b[1;32m    359\u001b[0m \u001b[0;34m\u001b[0m\u001b[0m\n\u001b[1;32m    360\u001b[0m     \u001b[0;32mreturn\u001b[0m \u001b[0mwrapper\u001b[0m\u001b[0;34m\u001b[0m\u001b[0;34m\u001b[0m\u001b[0m\n",
            "\u001b[0;32m/usr/local/lib/python3.7/dist-packages/matplotlib/axes/_axes.py\u001b[0m in \u001b[0;36mscatter\u001b[0;34m(self, x, y, s, c, marker, cmap, norm, vmin, vmax, alpha, linewidths, verts, edgecolors, plotnonfinite, **kwargs)\u001b[0m\n\u001b[1;32m   4389\u001b[0m         \u001b[0my\u001b[0m \u001b[0;34m=\u001b[0m \u001b[0mnp\u001b[0m\u001b[0;34m.\u001b[0m\u001b[0mma\u001b[0m\u001b[0;34m.\u001b[0m\u001b[0mravel\u001b[0m\u001b[0;34m(\u001b[0m\u001b[0my\u001b[0m\u001b[0;34m)\u001b[0m\u001b[0;34m\u001b[0m\u001b[0;34m\u001b[0m\u001b[0m\n\u001b[1;32m   4390\u001b[0m         \u001b[0;32mif\u001b[0m \u001b[0mx\u001b[0m\u001b[0;34m.\u001b[0m\u001b[0msize\u001b[0m \u001b[0;34m!=\u001b[0m \u001b[0my\u001b[0m\u001b[0;34m.\u001b[0m\u001b[0msize\u001b[0m\u001b[0;34m:\u001b[0m\u001b[0;34m\u001b[0m\u001b[0;34m\u001b[0m\u001b[0m\n\u001b[0;32m-> 4391\u001b[0;31m             \u001b[0;32mraise\u001b[0m \u001b[0mValueError\u001b[0m\u001b[0;34m(\u001b[0m\u001b[0;34m\"x and y must be the same size\"\u001b[0m\u001b[0;34m)\u001b[0m\u001b[0;34m\u001b[0m\u001b[0;34m\u001b[0m\u001b[0m\n\u001b[0m\u001b[1;32m   4392\u001b[0m \u001b[0;34m\u001b[0m\u001b[0m\n\u001b[1;32m   4393\u001b[0m         \u001b[0;32mif\u001b[0m \u001b[0ms\u001b[0m \u001b[0;32mis\u001b[0m \u001b[0;32mNone\u001b[0m\u001b[0;34m:\u001b[0m\u001b[0;34m\u001b[0m\u001b[0;34m\u001b[0m\u001b[0m\n",
            "\u001b[0;31mValueError\u001b[0m: x and y must be the same size"
          ]
        },
        {
          "output_type": "display_data",
          "data": {
            "text/plain": [
              "<Figure size 432x288 with 1 Axes>"
            ],
            "image/png": "[encoded data removed]"
          },
          "metadata": {
            "needs_background": "light"
          }
        }
      ]
    },
    {
      "cell_type": "markdown",
      "id": "f4b1fb7d",
      "metadata": {
        "id": "f4b1fb7d"
      },
      "source": [
        "# Optimization of Model"
      ]
    },
    {
      "cell_type": "markdown",
      "id": "3db53888",
      "metadata": {
        "id": "3db53888"
      },
      "source": [
        "### Variables which have p-values more than 0.1 can be dropped from the x list.\n",
        "### Variables are the follwoing:\n",
        "### SampleQuality1, SampleQuality2, ProcessUnitParameter2, ProcessUnitParameter3, FeedUnitParameter, Filter1Day7DayAverage, and Filter2D7DayAverage)."
      ]
    },
    {
      "cell_type": "code",
      "execution_count": null,
      "id": "152c2111",
      "metadata": {
        "id": "152c2111"
      },
      "outputs": [],
      "source": [
        "df_op = df.copy()"
      ]
    },
    {
      "cell_type": "code",
      "execution_count": null,
      "id": "5c041605",
      "metadata": {
        "id": "5c041605"
      },
      "outputs": [],
      "source": [
        "df_op.drop(\"SampleQuality1\", axis=1, inplace=True)"
      ]
    },
    {
      "cell_type": "code",
      "execution_count": null,
      "id": "5c04c459",
      "metadata": {
        "id": "5c04c459"
      },
      "outputs": [],
      "source": [
        "df_op.drop(\"SampleQuality2\", axis=1, inplace=True)"
      ]
    },
    {
      "cell_type": "code",
      "execution_count": null,
      "id": "9775b347",
      "metadata": {
        "id": "9775b347"
      },
      "outputs": [],
      "source": [
        "df_op.drop(\"ProcessUnitParameter2\", axis=1, inplace=True)"
      ]
    },
    {
      "cell_type": "code",
      "execution_count": null,
      "id": "b099e5f2",
      "metadata": {
        "id": "b099e5f2"
      },
      "outputs": [],
      "source": [
        "df_op.drop(\"ProcessUnitParameter3\", axis=1, inplace=True)"
      ]
    },
    {
      "cell_type": "code",
      "execution_count": null,
      "id": "983d4123",
      "metadata": {
        "id": "983d4123"
      },
      "outputs": [],
      "source": [
        "df_op.drop(\"FeedUnitParameter\", axis=1, inplace=True)"
      ]
    },
    {
      "cell_type": "code",
      "execution_count": null,
      "id": "49725dbc",
      "metadata": {
        "id": "49725dbc"
      },
      "outputs": [],
      "source": [
        "df_op.drop(\"Filter1DP7DayAverage\", axis=1, inplace=True)"
      ]
    },
    {
      "cell_type": "code",
      "execution_count": null,
      "id": "cbe5ab65",
      "metadata": {
        "id": "cbe5ab65"
      },
      "outputs": [],
      "source": [
        "df_op.drop(\"Filter2DP7DayAverage\", axis=1, inplace=True)"
      ]
    },
    {
      "cell_type": "code",
      "execution_count": null,
      "id": "b18d92ef",
      "metadata": {
        "colab": {
          "base_uri": "https://localhost:8080/"
        },
        "id": "b18d92ef",
        "outputId": "bcb82dde-85a3-4423-d784-60c19a71776e"
      },
      "outputs": [
        {
          "output_type": "stream",
          "name": "stdout",
          "text": [
            "<class 'pandas.core.frame.DataFrame'>\n",
            "RangeIndex: 2557 entries, 0 to 2556\n",
            "Data columns (total 10 columns):\n",
            " #   Column                                Non-Null Count  Dtype  \n",
            "---  ------                                --------------  -----  \n",
            " 0   ProcessUnitChargeRateofChange7dayavg  2557 non-null   float64\n",
            " 1   FeedUnitRundownRate                   2557 non-null   float64\n",
            " 2   ProcessUnitParameter1                 2557 non-null   float64\n",
            " 3   ProcessUnitParameter4                 2557 non-null   float64\n",
            " 4   ProcessUnitParameter5                 2557 non-null   float64\n",
            " 5   ProcessUnitParameter6                 2557 non-null   float64\n",
            " 6   ProcessUnitParameter7                 2557 non-null   float64\n",
            " 7   SampleQuality4_4dayavg                2557 non-null   float64\n",
            " 8   SampleQuality6_4dayavg                2557 non-null   float64\n",
            " 9   ProductQualityIssue                   2557 non-null   int64  \n",
            "dtypes: float64(9), int64(1)\n",
            "memory usage: 199.9 KB\n"
          ]
        }
      ],
      "source": [
        "df_op.info()"
      ]
    },
    {
      "cell_type": "code",
      "execution_count": null,
      "id": "75185c01",
      "metadata": {
        "id": "75185c01"
      },
      "outputs": [],
      "source": [
        "x = df_op.drop(\"ProductQualityIssue\", axis=1)\n",
        "y = df_op[\"ProductQualityIssue\"]"
      ]
    },
    {
      "cell_type": "code",
      "execution_count": null,
      "id": "8bfe32d1",
      "metadata": {
        "colab": {
          "base_uri": "https://localhost:8080/"
        },
        "id": "8bfe32d1",
        "outputId": "37bdad4a-9fe9-4f90-d5aa-cb23b15596b8"
      },
      "outputs": [
        {
          "output_type": "stream",
          "name": "stdout",
          "text": [
            "Optimization terminated successfully.\n",
            "         Current function value: 0.140011\n",
            "         Iterations 8\n",
            "                                   Results: Logit\n",
            "====================================================================================\n",
            "Model:                   Logit                    Pseudo R-squared:      0.410      \n",
            "Dependent Variable:      ProductQualityIssue      AIC:                   734.0156   \n",
            "Date:                    2022-04-03 17:02         BIC:                   786.6349   \n",
            "No. Observations:        2557                     Log-Likelihood:        -358.01    \n",
            "Df Model:                8                        LL-Null:               -606.40    \n",
            "Df Residuals:            2548                     LLR p-value:           3.4329e-102\n",
            "Converged:               1.0000                   Scale:                 1.0000     \n",
            "No. Iterations:          8.0000                                                     \n",
            "------------------------------------------------------------------------------------\n",
            "                                      Coef.  Std.Err.    z    P>|z|   [0.025  0.975]\n",
            "------------------------------------------------------------------------------------\n",
            "ProcessUnitChargeRateofChange7dayavg  0.0009   0.0002  5.3492 0.0000  0.0006  0.0012\n",
            "FeedUnitRundownRate                  -0.0026   0.0015 -1.7331 0.0831 -0.0056  0.0003\n",
            "ProcessUnitParameter1                 0.0811   0.0274  2.9610 0.0031  0.0274  0.1348\n",
            "ProcessUnitParameter4                -0.0493   0.0167 -2.9590 0.0031 -0.0819 -0.0166\n",
            "ProcessUnitParameter5                -0.0219   0.0177 -1.2380 0.2157 -0.0565  0.0128\n",
            "ProcessUnitParameter6                -0.5596   0.1571 -3.5632 0.0004 -0.8674 -0.2518\n",
            "ProcessUnitParameter7                -0.0536   0.0303 -1.7690 0.0769 -0.1129  0.0058\n",
            "SampleQuality4_4dayavg                0.8119   0.0724 11.2146 0.0000  0.6700  0.9538\n",
            "SampleQuality6_4dayavg                2.4943   0.1957 12.7462 0.0000  2.1107  2.8778\n",
            "====================================================================================\n",
            "\n"
          ]
        }
      ],
      "source": [
        "import statsmodels.api as sm\n",
        "logit_model=sm.Logit(y,x)\n",
        "result=logit_model.fit()\n",
        "print(result.summary2())"
      ]
    },
    {
      "cell_type": "code",
      "execution_count": null,
      "id": "0ddcb6fd",
      "metadata": {
        "colab": {
          "base_uri": "https://localhost:8080/"
        },
        "id": "0ddcb6fd",
        "outputId": "0e843287-8c1c-4911-dc5b-b3f5775be04a"
      },
      "outputs": [
        {
          "output_type": "stream",
          "name": "stderr",
          "text": [
            "/usr/local/lib/python3.7/dist-packages/sklearn/linear_model/_logistic.py:818: ConvergenceWarning: lbfgs failed to converge (status=1):\n",
            "STOP: TOTAL NO. of ITERATIONS REACHED LIMIT.\n",
            "\n",
            "Increase the number of iterations (max_iter) or scale the data as shown in:\n",
            "    https://scikit-learn.org/stable/modules/preprocessing.html\n",
            "Please also refer to the documentation for alternative solver options:\n",
            "    https://scikit-learn.org/stable/modules/linear_model.html#logistic-regression\n",
            "  extra_warning_msg=_LOGISTIC_SOLVER_CONVERGENCE_MSG,\n"
          ]
        },
        {
          "output_type": "execute_result",
          "data": {
            "text/plain": [
              "LogisticRegression()"
            ]
          },
          "metadata": {},
          "execution_count": 468
        }
      ],
      "source": [
        "from sklearn.linear_model import LogisticRegression\n",
        "from sklearn import metrics\n",
        "x_train, x_test, y_train, y_test = train_test_split(x, y, test_size=0.2, random_state=0)\n",
        "logreg = LogisticRegression()\n",
        "logreg.fit(x_train, y_train)"
      ]
    },
    {
      "cell_type": "code",
      "execution_count": null,
      "id": "24b3f051",
      "metadata": {
        "colab": {
          "base_uri": "https://localhost:8080/"
        },
        "id": "24b3f051",
        "outputId": "a7b85f23-b01a-4945-ef7c-6f36725adaa8"
      },
      "outputs": [
        {
          "output_type": "stream",
          "name": "stdout",
          "text": [
            "Accuracy of logistic regression classifier on test set: 0.93\n"
          ]
        }
      ],
      "source": [
        "y_pred = logreg.predict(x_test)\n",
        "print('Accuracy of logistic regression classifier on test set: {:.2f}'.format(logreg.score(x_test, y_test)))"
      ]
    },
    {
      "cell_type": "code",
      "execution_count": null,
      "id": "74d65f56",
      "metadata": {
        "colab": {
          "base_uri": "https://localhost:8080/"
        },
        "id": "74d65f56",
        "outputId": "ce1a4159-cdca-432e-b9b0-c15cb990eac5"
      },
      "outputs": [
        {
          "output_type": "stream",
          "name": "stdout",
          "text": [
            "[[466   8]\n",
            " [ 26  12]]\n"
          ]
        }
      ],
      "source": [
        "from sklearn.metrics import confusion_matrix\n",
        "confusion_matrix = confusion_matrix(y_test, y_pred)\n",
        "print(confusion_matrix)"
      ]
    },
    {
      "cell_type": "code",
      "execution_count": null,
      "id": "95e24590",
      "metadata": {
        "colab": {
          "base_uri": "https://localhost:8080/"
        },
        "id": "95e24590",
        "outputId": "90f3db53-c322-41a4-c74c-0b403c151405"
      },
      "outputs": [
        {
          "output_type": "stream",
          "name": "stdout",
          "text": [
            "              precision    recall  f1-score   support\n",
            "\n",
            "           0       0.95      0.98      0.96       474\n",
            "           1       0.60      0.32      0.41        38\n",
            "\n",
            "    accuracy                           0.93       512\n",
            "   macro avg       0.77      0.65      0.69       512\n",
            "weighted avg       0.92      0.93      0.92       512\n",
            "\n"
          ]
        }
      ],
      "source": [
        "from sklearn.metrics import classification_report\n",
        "print(classification_report(y_test, y_pred))"
      ]
    },
    {
      "cell_type": "code",
      "execution_count": null,
      "id": "aa4ac8cf",
      "metadata": {
        "colab": {
          "base_uri": "https://localhost:8080/"
        },
        "id": "aa4ac8cf",
        "outputId": "a0f27931-df09-421f-c68a-9c108586fceb"
      },
      "outputs": [
        {
          "output_type": "display_data",
          "data": {
            "text/plain": [
              "<Figure size 432x288 with 1 Axes>"
            ],
            "image/png": "[encoded data removed]"
          },
          "metadata": {
            "needs_background": "light"
          }
        }
      ],
      "source": [
        "from sklearn.metrics import roc_auc_score\n",
        "from sklearn.metrics import roc_curve\n",
        "logit_roc_auc = roc_auc_score(y_test, logreg.predict(x_test))\n",
        "fpr, tpr, thresholds = roc_curve(y_test, logreg.predict_proba(x_test)[:,1])\n",
        "plt.figure()\n",
        "plt.plot(fpr, tpr, label='Logistic Regression (area = %0.2f)' % logit_roc_auc)\n",
        "plt.plot([0, 1], [0, 1],'r--')\n",
        "plt.xlim([0.0, 1.0])\n",
        "plt.ylim([0.0, 1.05])\n",
        "plt.xlabel('False Positive Rate')\n",
        "plt.ylabel('True Positive Rate')\n",
        "plt.title('Receiver operating characteristic')\n",
        "plt.legend(loc=\"lower right\")\n",
        "plt.savefig('Log_ROC')\n",
        "plt.show()"
      ]
    },
    {
      "cell_type": "markdown",
      "id": "213a5a2f",
      "metadata": {
        "id": "213a5a2f"
      },
      "source": [
        "### References:\n",
        "https://towardsdatascience.com/building-a-logistic-regression-in-python-step-by-step-becd4d56c9c8"
      ]
    },
    {
      "cell_type": "markdown",
      "id": "cdb345d3",
      "metadata": {
        "id": "cdb345d3"
      },
      "source": [
        "# Neural Network for Binary Classification"
      ]
    },
    {
      "cell_type": "code",
      "execution_count": null,
      "id": "ad1e521f",
      "metadata": {
        "id": "ad1e521f"
      },
      "outputs": [],
      "source": [
        "import tensorflow as tf\n",
        "from tensorflow import keras\n",
        "import os\n",
        "from sklearn.model_selection import train_test_split\n",
        "from tensorflow.keras.models import Sequential\n",
        "from tensorflow.keras.layers import Activation, Dense, BatchNormalization, Dropout\n",
        "from tensorflow.keras import optimizers\n",
        "from keras.callbacks import EarlyStopping"
      ]
    },
    {
      "cell_type": "markdown",
      "id": "4618af86",
      "metadata": {
        "id": "4618af86"
      },
      "source": [
        "### Selecting the same Dataset as for Logistic Regression"
      ]
    },
    {
      "cell_type": "code",
      "execution_count": null,
      "id": "67a0f8ee",
      "metadata": {
        "colab": {
          "base_uri": "https://localhost:8080/"
        },
        "id": "67a0f8ee",
        "outputId": "bf3d52ec-57ed-4d29-b115-cb849e1fe2ca"
      },
      "outputs": [
        {
          "output_type": "stream",
          "name": "stdout",
          "text": [
            "<class 'pandas.core.frame.DataFrame'>\n",
            "RangeIndex: 2557 entries, 0 to 2556\n",
            "Data columns (total 17 columns):\n",
            " #   Column                                Non-Null Count  Dtype  \n",
            "---  ------                                --------------  -----  \n",
            " 0   Filter2DP7DayAverage                  2557 non-null   float64\n",
            " 1   Filter1DP7DayAverage                  2557 non-null   float64\n",
            " 2   ProcessUnitChargeRateofChange7dayavg  2557 non-null   float64\n",
            " 3   FeedUnitParameter                     2557 non-null   float64\n",
            " 4   FeedUnitRundownRate                   2557 non-null   float64\n",
            " 5   ProcessUnitParameter1                 2557 non-null   float64\n",
            " 6   ProcessUnitParameter2                 2557 non-null   float64\n",
            " 7   ProcessUnitParameter3                 2557 non-null   float64\n",
            " 8   ProcessUnitParameter4                 2557 non-null   float64\n",
            " 9   ProcessUnitParameter5                 2557 non-null   float64\n",
            " 10  ProcessUnitParameter6                 2557 non-null   float64\n",
            " 11  ProcessUnitParameter7                 2557 non-null   float64\n",
            " 12  SampleQuality1                        2557 non-null   float64\n",
            " 13  SampleQuality2                        2557 non-null   float64\n",
            " 14  SampleQuality4_4dayavg                2557 non-null   float64\n",
            " 15  SampleQuality6_4dayavg                2557 non-null   float64\n",
            " 16  ProductQualityIssue                   2557 non-null   int64  \n",
            "dtypes: float64(16), int64(1)\n",
            "memory usage: 339.7 KB\n"
          ]
        }
      ],
      "source": [
        "df.info()"
      ]
    },
    {
      "cell_type": "code",
      "execution_count": null,
      "id": "df485db8",
      "metadata": {
        "id": "df485db8"
      },
      "outputs": [],
      "source": [
        "x = df.drop(\"ProductQualityIssue\", axis=1)\n",
        "y = df[\"ProductQualityIssue\"]"
      ]
    },
    {
      "cell_type": "code",
      "execution_count": null,
      "id": "efae6082",
      "metadata": {
        "id": "efae6082"
      },
      "outputs": [],
      "source": [
        "x_train, x_test, y_train, y_test = train_test_split(x, y, test_size=0.2, random_state=0)"
      ]
    },
    {
      "cell_type": "code",
      "execution_count": null,
      "id": "4cfeef8c",
      "metadata": {
        "colab": {
          "base_uri": "https://localhost:8080/"
        },
        "id": "4cfeef8c",
        "outputId": "479900d1-f5ae-4199-c699-6221d8e686d2"
      },
      "outputs": [
        {
          "output_type": "stream",
          "name": "stdout",
          "text": [
            "Model: \"sequential_5\"\n",
            "_________________________________________________________________\n",
            " Layer (type)                Output Shape              Param #   \n",
            "=================================================================\n",
            " dense_15 (Dense)            (None, 64)                1088      \n",
            "                                                                 \n",
            " dense_16 (Dense)            (None, 64)                4160      \n",
            "                                                                 \n",
            " dense_17 (Dense)            (None, 1)                 65        \n",
            "                                                                 \n",
            "=================================================================\n",
            "Total params: 5,313\n",
            "Trainable params: 5,313\n",
            "Non-trainable params: 0\n",
            "_________________________________________________________________\n",
            "Epoch 1/20\n",
            "21/21 [==============================] - 1s 38ms/step - loss: 2.7873 - accuracy: 0.8425 - val_loss: 4.5077 - val_accuracy: 0.8438\n",
            "Epoch 2/20\n",
            "21/21 [==============================] - 0s 4ms/step - loss: 0.5362 - accuracy: 0.9271 - val_loss: 1.0685 - val_accuracy: 0.8203\n",
            "Epoch 3/20\n",
            "21/21 [==============================] - 0s 4ms/step - loss: 0.4004 - accuracy: 0.9379 - val_loss: 0.9412 - val_accuracy: 0.8418\n",
            "Epoch 4/20\n",
            "21/21 [==============================] - 0s 4ms/step - loss: 0.2302 - accuracy: 0.9408 - val_loss: 0.9445 - val_accuracy: 0.7793\n",
            "Epoch 5/20\n",
            "21/21 [==============================] - 0s 4ms/step - loss: 0.4337 - accuracy: 0.9394 - val_loss: 1.6076 - val_accuracy: 0.8516\n",
            "Epoch 6/20\n",
            "21/21 [==============================] - 0s 4ms/step - loss: 0.3137 - accuracy: 0.9408 - val_loss: 0.7735 - val_accuracy: 0.8594\n",
            "Epoch 7/20\n",
            "21/21 [==============================] - 0s 5ms/step - loss: 0.2005 - accuracy: 0.9467 - val_loss: 0.7814 - val_accuracy: 0.8672\n",
            "Epoch 8/20\n",
            "21/21 [==============================] - 0s 3ms/step - loss: 0.1705 - accuracy: 0.9506 - val_loss: 0.8079 - val_accuracy: 0.8555\n",
            "Epoch 9/20\n",
            "21/21 [==============================] - 0s 4ms/step - loss: 0.1844 - accuracy: 0.9482 - val_loss: 0.8086 - val_accuracy: 0.8555\n",
            "Epoch 10/20\n",
            "21/21 [==============================] - 0s 4ms/step - loss: 0.2415 - accuracy: 0.9501 - val_loss: 0.6789 - val_accuracy: 0.8438\n",
            "Epoch 11/20\n",
            "21/21 [==============================] - 0s 3ms/step - loss: 0.1759 - accuracy: 0.9452 - val_loss: 0.6586 - val_accuracy: 0.8652\n",
            "Epoch 12/20\n",
            "21/21 [==============================] - 0s 4ms/step - loss: 0.2269 - accuracy: 0.9472 - val_loss: 0.8642 - val_accuracy: 0.8516\n",
            "Epoch 13/20\n",
            "21/21 [==============================] - 0s 4ms/step - loss: 0.1549 - accuracy: 0.9555 - val_loss: 1.0907 - val_accuracy: 0.8516\n",
            "Epoch 14/20\n",
            "21/21 [==============================] - 0s 5ms/step - loss: 0.2029 - accuracy: 0.9521 - val_loss: 0.7538 - val_accuracy: 0.8652\n",
            "Epoch 15/20\n",
            "21/21 [==============================] - 0s 4ms/step - loss: 0.1290 - accuracy: 0.9604 - val_loss: 0.7572 - val_accuracy: 0.8516\n",
            "Epoch 16/20\n",
            "21/21 [==============================] - 0s 3ms/step - loss: 0.1489 - accuracy: 0.9535 - val_loss: 1.0109 - val_accuracy: 0.8496\n",
            "Epoch 17/20\n",
            "21/21 [==============================] - 0s 4ms/step - loss: 0.1610 - accuracy: 0.9570 - val_loss: 0.6272 - val_accuracy: 0.8691\n",
            "Epoch 18/20\n",
            "21/21 [==============================] - 0s 4ms/step - loss: 0.1435 - accuracy: 0.9589 - val_loss: 0.6255 - val_accuracy: 0.8574\n",
            "Epoch 19/20\n",
            "21/21 [==============================] - 0s 4ms/step - loss: 0.2057 - accuracy: 0.9516 - val_loss: 0.6074 - val_accuracy: 0.8359\n",
            "Epoch 20/20\n",
            "21/21 [==============================] - 0s 4ms/step - loss: 0.1532 - accuracy: 0.9575 - val_loss: 0.6684 - val_accuracy: 0.8594\n"
          ]
        }
      ],
      "source": [
        "# Build a Model\n",
        "model = Sequential()\n",
        "model.add(Dense(64, input_shape=(x_test.shape[1],), activation='relu'))\n",
        "model.add(Dense(64, activation='relu'))\n",
        "model.add(Dense(1, activation='sigmoid'))\n",
        "model.summary()\n",
        "\n",
        "# compile the model\n",
        "model.compile(optimizer='Adam',\n",
        "              loss='binary_crossentropy',\n",
        "              metrics=['accuracy'])\n",
        "\n",
        "# Early Stopping is to stop the training when there is no more improvement in accuracy\n",
        "es = EarlyStopping(monitor='val_accuracy',\n",
        "                                   mode='max',\n",
        "                                   patience=10,\n",
        "                                   restore_best_weights=True)\n",
        "\n",
        "history = model.fit(x,\n",
        "                    y,\n",
        "                    callbacks=[es],\n",
        "                    epochs=20,\n",
        "                    batch_size=100,\n",
        "                    validation_split=0.2,\n",
        "                    shuffle=True,\n",
        "                    verbose=1)"
      ]
    },
    {
      "cell_type": "code",
      "execution_count": null,
      "id": "0c1a6494",
      "metadata": {
        "colab": {
          "base_uri": "https://localhost:8080/"
        },
        "id": "0c1a6494",
        "outputId": "e85119fc-52fe-46d4-bdaa-1d11f2242e4e"
      },
      "outputs": [
        {
          "output_type": "display_data",
          "data": {
            "text/plain": [
              "<Figure size 432x288 with 1 Axes>"
            ],
            "image/png": "[encoded data removed]"
          },
          "metadata": {
            "needs_background": "light"
          }
        }
      ],
      "source": [
        "history_dict = history.history\n",
        "# Learning curve(Loss)\n",
        "# let's see the training and validation loss by epoch\n",
        "\n",
        "# loss\n",
        "loss_values = history_dict['loss'] # you can change this\n",
        "val_loss_values = history_dict['val_loss'] # you can also change this\n",
        "\n",
        "# range of X (no. of epochs)\n",
        "epochs = range(1, len(loss_values) + 1)\n",
        "\n",
        "# plot\n",
        "plt.plot(epochs, loss_values, 'bo', label='Training loss')\n",
        "plt.plot(epochs, val_loss_values, 'orange', label='Validation loss')\n",
        "plt.title('Training and validation loss')\n",
        "plt.xlabel('Epochs')\n",
        "plt.ylabel('Loss')\n",
        "plt.legend()\n",
        "plt.show()"
      ]
    },
    {
      "cell_type": "code",
      "execution_count": null,
      "id": "cd09c724",
      "metadata": {
        "colab": {
          "base_uri": "https://localhost:8080/"
        },
        "id": "cd09c724",
        "outputId": "ee6bc8e8-3ba8-490e-9044-4ae44d724c39"
      },
      "outputs": [
        {
          "output_type": "display_data",
          "data": {
            "text/plain": [
              "<Figure size 432x288 with 1 Axes>"
            ],
            "image/png": "[encoded data removed]"
          },
          "metadata": {
            "needs_background": "light"
          }
        },
        {
          "output_type": "execute_result",
          "data": {
            "text/plain": [
              "0.869140625"
            ]
          },
          "metadata": {},
          "execution_count": 447
        }
      ],
      "source": [
        "# Learning curve(accuracy)\n",
        "# let's see the training and validation accuracy by epoch\n",
        "\n",
        "# accuracy\n",
        "acc = history.history['accuracy']\n",
        "val_acc = history.history['val_accuracy']\n",
        "\n",
        "# range of X (no. of epochs)\n",
        "epochs = range(1, len(acc) + 1)\n",
        "\n",
        "# plot\n",
        "# \"bo\" is for \"blue dot\"\n",
        "plt.plot(epochs, acc, 'bo', label='Training accuracy')\n",
        "# orange is for \"orange\"\n",
        "plt.plot(epochs, val_acc, 'orange', label='Validation accuracy')\n",
        "plt.title('Training and validation accuracy')\n",
        "plt.xlabel('Epochs')\n",
        "plt.ylabel('Accuracy')\n",
        "plt.legend()\n",
        "plt.show()\n",
        "\n",
        "# this is the max value - should correspond to\n",
        "# the HIGHEST train accuracy\n",
        "np.max(val_acc)"
      ]
    },
    {
      "cell_type": "code",
      "execution_count": null,
      "id": "61166e38",
      "metadata": {
        "colab": {
          "base_uri": "https://localhost:8080/"
        },
        "id": "61166e38",
        "outputId": "5f4da3d7-3c2a-4474-c2ef-7d373a2fa0dc"
      },
      "outputs": [
        {
          "output_type": "stream",
          "name": "stdout",
          "text": [
            "[[457  17]\n",
            " [ 23  15]]\n",
            "              precision    recall  f1-score   support\n",
            "\n",
            "           0       0.95      0.96      0.96       474\n",
            "           1       0.47      0.39      0.43        38\n",
            "\n",
            "    accuracy                           0.92       512\n",
            "   macro avg       0.71      0.68      0.69       512\n",
            "weighted avg       0.92      0.92      0.92       512\n",
            "\n"
          ]
        }
      ],
      "source": [
        "from sklearn.metrics import confusion_matrix\n",
        "from sklearn.metrics import classification_report\n",
        "\n",
        "model.predict(x_test)\n",
        "np.round(model.predict(x_test),0)\n",
        "\n",
        "preds = np.round(model.predict(x_test),0)\n",
        "\n",
        "# confusion matrix\n",
        "print(confusion_matrix(y_test, preds))\n",
        "\n",
        "\n",
        "print(classification_report(y_test, preds))"
      ]
    },
    {
      "cell_type": "code",
      "execution_count": null,
      "id": "37821bf9",
      "metadata": {
        "colab": {
          "base_uri": "https://localhost:8080/"
        },
        "id": "37821bf9",
        "outputId": "b6567100-ae5d-416a-f2d8-4c66fcf6a00a"
      },
      "outputs": [
        {
          "output_type": "display_data",
          "data": {
            "text/plain": [
              "<Figure size 720x432 with 1 Axes>"
            ],
            "image/png": "[encoded data removed]"
          },
          "metadata": {
            "needs_background": "light"
          }
        }
      ],
      "source": [
        "history_dict = history.history\n",
        "history_dict.keys()\n",
        "\n",
        "pd.DataFrame(history_dict).plot(figsize=(10,6))\n",
        "plt.grid(True)\n",
        "plt.gca().set_ylim(0, 2)\n",
        "plt.title('Accuracy and loss for both training and validation', fontsize=16)\n",
        "plt.xlabel('Epochs', fontsize=16)\n",
        "plt.ylabel('Accuracy and loss percentage', rotation=90, fontsize=16)\n",
        "plt.show()"
      ]
    },
    {
      "cell_type": "code",
      "execution_count": null,
      "id": "a3701078",
      "metadata": {
        "colab": {
          "base_uri": "https://localhost:8080/"
        },
        "id": "a3701078",
        "outputId": "2211dd3c-c5e1-4123-fdaa-329ad343a05b"
      },
      "outputs": [
        {
          "output_type": "execute_result",
          "data": {
            "text/plain": [
              "dict_keys(['loss', 'accuracy', 'val_loss', 'val_accuracy'])"
            ]
          },
          "metadata": {},
          "execution_count": 450
        }
      ],
      "source": [
        "history_dict = history.history\n",
        "history_dict.keys()"
      ]
    },
    {
      "cell_type": "code",
      "execution_count": null,
      "id": "62ec2b53",
      "metadata": {
        "colab": {
          "base_uri": "https://localhost:8080/"
        },
        "id": "62ec2b53",
        "outputId": "25f381ee-97b0-4903-f283-b6142c4d38ec"
      },
      "outputs": [
        {
          "output_type": "stream",
          "name": "stdout",
          "text": [
            "16/16 [==============================] - 0s 2ms/step - loss: 0.2855 - accuracy: 0.9219\n",
            "Test accuracy: 0.921875\n"
          ]
        }
      ],
      "source": [
        "test_loss, test_acc = model.evaluate(x_test,  y_test)\n",
        "print('Test accuracy:', test_acc)"
      ]
    },
    {
      "cell_type": "code",
      "execution_count": null,
      "id": "745ae361",
      "metadata": {
        "id": "745ae361"
      },
      "outputs": [],
      "source": [
        "original2 = np.array(df['ProductQualityIssue'].ravel())"
      ]
    },
    {
      "cell_type": "code",
      "execution_count": null,
      "id": "9442514e",
      "metadata": {
        "id": "9442514e"
      },
      "outputs": [],
      "source": [
        "preds = np.array(preds.ravel())"
      ]
    },
    {
      "cell_type": "code",
      "execution_count": null,
      "id": "75b5c179",
      "metadata": {
        "id": "75b5c179"
      },
      "outputs": [],
      "source": [
        "preds = np.array(preds, dtype=np.int64)"
      ]
    },
    {
      "cell_type": "code",
      "execution_count": null,
      "id": "da187c0a",
      "metadata": {
        "colab": {
          "base_uri": "https://localhost:8080/"
        },
        "id": "da187c0a",
        "outputId": "3287990d-f5ae-47a4-9a78-6f7285608c3f"
      },
      "outputs": [
        {
          "output_type": "execute_result",
          "data": {
            "text/plain": [
              "array([0, 0, 0, 0, 0, 0, 0, 0, 0, 0, 0, 0, 0, 0, 0, 0, 0, 0, 0, 0])"
            ]
          },
          "metadata": {},
          "execution_count": 455
        }
      ],
      "source": [
        "original2 [80:100]"
      ]
    },
    {
      "cell_type": "code",
      "execution_count": null,
      "id": "553dd08f",
      "metadata": {
        "colab": {
          "base_uri": "https://localhost:8080/"
        },
        "id": "553dd08f",
        "outputId": "8ce6af3e-4dfe-40f4-b67f-60f834e76e00"
      },
      "outputs": [
        {
          "output_type": "execute_result",
          "data": {
            "text/plain": [
              "array([0, 0, 0, 0, 0, 0, 0, 1, 0, 0, 0, 0, 0, 0, 0, 0, 0, 1, 0, 0])"
            ]
          },
          "metadata": {},
          "execution_count": 456
        }
      ],
      "source": [
        "preds[80:100]"
      ]
    },
    {
      "cell_type": "markdown",
      "id": "fb74d287",
      "metadata": {
        "id": "fb74d287"
      },
      "source": [
        "### References:\n",
        "https://medium.com/luca-chuangs-bapm-notes/build-a-neural-network-in-python-binary-classification-49596d7dcabf"
      ]
    },
    {
      "cell_type": "code",
      "execution_count": null,
      "id": "a30037cb",
      "metadata": {
        "id": "a30037cb"
      },
      "outputs": [],
      "source": []
    }
  ],
  "metadata": {
    "kernelspec": {
      "display_name": "Python 3 (ipykernel)",
      "language": "python",
      "name": "python3"
    },
    "language_info": {
      "codemirror_mode": {
        "name": "ipython",
        "version": 3
      },
      "file_extension": ".py",
      "mimetype": "text/x-python",
      "name": "python",
      "nbconvert_exporter": "python",
      "pygments_lexer": "ipython3",
      "version": "3.9.7"
    },
    "colab": {
      "provenance": [],
      "include_colab_link": true
    }
  },
  "nbformat": 4,
  "nbformat_minor": 5
}