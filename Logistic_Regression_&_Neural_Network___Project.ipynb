{
  "cells": [
    {
      "cell_type": "markdown",
      "metadata": {
        "id": "view-in-github",
        "colab_type": "text"
      },
      "source": [
        "<a href=\"https://colab.research.google.com/github/minanddoost/Logistic-Regression_Neural-Network/blob/main/Logistic_Regression_%26_Neural_Network___Project.ipynb\" target=\"_parent\"><img src=\"https://colab.research.google.com/assets/colab-badge.svg\" alt=\"Open In Colab\"/></a>"
      ]
    },
    {
      "cell_type": "code",
      "execution_count": null,
      "id": "0c31d775",
      "metadata": {
        "id": "0c31d775"
      },
      "outputs": [],
      "source": [
        "import pandas as pd\n",
        "import numpy as np\n",
        "import seaborn as sns\n",
        "import matplotlib.pyplot as plt\n",
        "%matplotlib inline\n",
        "import math\n",
        "import csv"
      ]
    },
    {
      "cell_type": "markdown",
      "id": "d16c638a",
      "metadata": {
        "id": "d16c638a"
      },
      "source": [
        "## Collecting & Loading Dataset"
      ]
    },
    {
      "cell_type": "code",
      "execution_count": null,
      "id": "19f50978",
      "metadata": {
        "id": "19f50978"
      },
      "outputs": [],
      "source": [
        "from google.colab import drive\n",
        "drive.mount(\"/content/drive\")\n",
        "df = pd.read_csv('/content/drive//My Drive/Colab Notebooks/Project/sheet.csv')\n",
        "df.head()"
      ]
    },
    {
      "cell_type": "code",
      "execution_count": null,
      "id": "369bcc4f",
      "metadata": {
        "id": "369bcc4f"
      },
      "outputs": [],
      "source": [
        "df.info()"
      ]
    },
    {
      "cell_type": "markdown",
      "id": "ff85b925",
      "metadata": {
        "id": "ff85b925"
      },
      "source": [
        "## Cleaning & Manipulating Dataset"
      ]
    },
    {
      "cell_type": "code",
      "execution_count": null,
      "id": "ce334115",
      "metadata": {
        "id": "ce334115"
      },
      "outputs": [],
      "source": [
        "min1 = df['Filter2DP7DayAverage'].min()\n",
        "df['Filter2DP7DayAverage'].fillna(min1, inplace=True)\n",
        "df.info()"
      ]
    },
    {
      "cell_type": "code",
      "execution_count": null,
      "id": "efa22901",
      "metadata": {
        "id": "efa22901"
      },
      "outputs": [],
      "source": [
        "min2 = df['Filter1DP7DayAverage'].min()\n",
        "df['Filter1DP7DayAverage'].fillna(min2, inplace=True)\n",
        "df.info()"
      ]
    },
    {
      "cell_type": "code",
      "execution_count": null,
      "id": "723baa5c",
      "metadata": {
        "id": "723baa5c"
      },
      "outputs": [],
      "source": [
        "min3 = df['ProcessUnitChargeRateofChange7dayavg'].min()\n",
        "df['ProcessUnitChargeRateofChange7dayavg'].fillna(min3, inplace=True)\n",
        "df.info()"
      ]
    },
    {
      "cell_type": "code",
      "execution_count": null,
      "id": "7878f74c",
      "metadata": {
        "id": "7878f74c"
      },
      "outputs": [],
      "source": [
        "min4 = df['FeedUnitParameter'].min()\n",
        "df['FeedUnitParameter'].fillna(min4, inplace=True)\n",
        "df.info()"
      ]
    },
    {
      "cell_type": "code",
      "execution_count": null,
      "id": "f472ac53",
      "metadata": {
        "id": "f472ac53"
      },
      "outputs": [],
      "source": [
        "min5 = df['FeedUnitRundownRate'].min()\n",
        "df['FeedUnitRundownRate'].fillna(min5, inplace=True)\n",
        "df.info()"
      ]
    },
    {
      "cell_type": "code",
      "execution_count": null,
      "id": "cc557539",
      "metadata": {
        "id": "cc557539"
      },
      "outputs": [],
      "source": [
        "min6 = df['ProcessUnitParameter1'].min()\n",
        "df['ProcessUnitParameter1'].fillna(min6, inplace=True)\n",
        "df.info()"
      ]
    },
    {
      "cell_type": "code",
      "execution_count": null,
      "id": "456f1325",
      "metadata": {
        "id": "456f1325"
      },
      "outputs": [],
      "source": [
        "min7 = df['ProcessUnitParameter2'].min()\n",
        "df['ProcessUnitParameter2'].fillna(min7, inplace=True)\n",
        "df.info()"
      ]
    },
    {
      "cell_type": "code",
      "execution_count": null,
      "id": "f3c04a31",
      "metadata": {
        "id": "f3c04a31"
      },
      "outputs": [],
      "source": [
        "min8 = df['ProcessUnitParameter3'].min()\n",
        "df['ProcessUnitParameter3'].fillna(min8, inplace=True)\n",
        "df.info()"
      ]
    },
    {
      "cell_type": "code",
      "execution_count": null,
      "id": "aa24350c",
      "metadata": {
        "id": "aa24350c"
      },
      "outputs": [],
      "source": [
        "min9 = df['ProcessUnitParameter4'].min()\n",
        "df['ProcessUnitParameter4'].fillna(min9, inplace=True)\n",
        "df.info()"
      ]
    },
    {
      "cell_type": "code",
      "execution_count": null,
      "id": "7d97ec1d",
      "metadata": {
        "id": "7d97ec1d"
      },
      "outputs": [],
      "source": [
        "min10 = df['ProcessUnitParameter5'].min()\n",
        "df['ProcessUnitParameter5'].fillna(min10, inplace=True)\n",
        "df.info()"
      ]
    },
    {
      "cell_type": "code",
      "execution_count": null,
      "id": "31d412d3",
      "metadata": {
        "id": "31d412d3"
      },
      "outputs": [],
      "source": [
        "min11 = df['ProcessUnitParameter6'].min()\n",
        "df['ProcessUnitParameter6'].fillna(min11, inplace=True)\n",
        "df.info()"
      ]
    },
    {
      "cell_type": "code",
      "execution_count": null,
      "id": "9596dffb",
      "metadata": {
        "id": "9596dffb"
      },
      "outputs": [],
      "source": [
        "min12 = df['ProcessUnitParameter7'].min()\n",
        "df['ProcessUnitParameter7'].fillna(min12, inplace=True)\n",
        "df.info()"
      ]
    },
    {
      "cell_type": "code",
      "source": [
        "round_off_values"
      ],
      "metadata": {
        "id": "LRpFXDNigsgk"
      },
      "id": "LRpFXDNigsgk",
      "execution_count": null,
      "outputs": []
    },
    {
      "cell_type": "code",
      "execution_count": null,
      "id": "fc415779",
      "metadata": {
        "id": "fc415779"
      },
      "outputs": [],
      "source": [
        "min13 = df['SampleQuality1'].min()\n",
        "df['SampleQuality1'].fillna(min13, inplace=True)\n",
        "df.info()"
      ]
    },
    {
      "cell_type": "code",
      "execution_count": null,
      "id": "acf4ef54",
      "metadata": {
        "id": "acf4ef54"
      },
      "outputs": [],
      "source": [
        "min14 = df['SampleQuality2'].min()\n",
        "df['SampleQuality2'].fillna(min14, inplace=True)\n",
        "df.info()"
      ]
    },
    {
      "cell_type": "code",
      "execution_count": null,
      "id": "622c0386",
      "metadata": {
        "id": "622c0386"
      },
      "outputs": [],
      "source": [
        "min16 = df['SampleQuality4_4dayavg'].min()\n",
        "df['SampleQuality4_4dayavg'].fillna(min16, inplace=True)\n",
        "df.info()"
      ]
    },
    {
      "cell_type": "code",
      "execution_count": null,
      "id": "72d42f75",
      "metadata": {
        "id": "72d42f75"
      },
      "outputs": [],
      "source": [
        "min18 = df['Sample Quality6'].min()\n",
        "df['Sample Quality6'].fillna(min18, inplace=True)\n",
        "df.info()"
      ]
    },
    {
      "cell_type": "code",
      "execution_count": null,
      "id": "bbcf4111",
      "metadata": {
        "id": "bbcf4111"
      },
      "outputs": [],
      "source": [
        "min19 = df['SampleQuality6_4dayavg'].min()\n",
        "df['SampleQuality6_4dayavg'].fillna(min19, inplace=True)\n",
        "df.info()"
      ]
    },
    {
      "cell_type": "code",
      "source": [
        "round= df['ProcessUnitParameter4'].round(decimals = 2)\n",
        "df['ProcessUnitParameter4'] = df['ProcessUnitParameter4'].replace(round)\n",
        "df['ProcessUnitParameter4']"
      ],
      "metadata": {
        "id": "xxJux3u9kNwu"
      },
      "id": "xxJux3u9kNwu",
      "execution_count": null,
      "outputs": []
    },
    {
      "cell_type": "code",
      "execution_count": null,
      "id": "28a352eb",
      "metadata": {
        "id": "28a352eb"
      },
      "outputs": [],
      "source": [
        "df.drop(\"Date\", axis=1, inplace=True)"
      ]
    },
    {
      "cell_type": "code",
      "execution_count": null,
      "id": "71af436d",
      "metadata": {
        "id": "71af436d"
      },
      "outputs": [],
      "source": [
        "df.drop(\"SampleQuality3\", axis=1, inplace=True)"
      ]
    },
    {
      "cell_type": "code",
      "execution_count": null,
      "id": "fca39ea6",
      "metadata": {
        "id": "fca39ea6"
      },
      "outputs": [],
      "source": [
        "df.drop(\"SampleQuality5\", axis=1, inplace=True)"
      ]
    },
    {
      "cell_type": "code",
      "execution_count": null,
      "id": "e47db909",
      "metadata": {
        "id": "e47db909"
      },
      "outputs": [],
      "source": [
        "df.info()"
      ]
    },
    {
      "cell_type": "code",
      "execution_count": null,
      "id": "58cebd3f",
      "metadata": {
        "id": "58cebd3f"
      },
      "outputs": [],
      "source": [
        "df.head(20)"
      ]
    },
    {
      "cell_type": "markdown",
      "id": "dc993e92",
      "metadata": {
        "id": "dc993e92"
      },
      "source": [
        "## Analyzing Dataset"
      ]
    },
    {
      "cell_type": "code",
      "execution_count": null,
      "id": "cadc3317",
      "metadata": {
        "id": "cadc3317"
      },
      "outputs": [],
      "source": [
        "df.ProductQualityIssue.value_counts()"
      ]
    },
    {
      "cell_type": "code",
      "execution_count": null,
      "id": "73ee639c",
      "metadata": {
        "id": "73ee639c"
      },
      "outputs": [],
      "source": [
        "# one means fail\n",
        "sns.countplot(x= \"ProductQualityIssue\", data=df)"
      ]
    },
    {
      "cell_type": "code",
      "execution_count": null,
      "id": "02dcecbd",
      "metadata": {
        "id": "02dcecbd"
      },
      "outputs": [],
      "source": [
        "correlation_matrix = df.corr()\n",
        "print(correlation_matrix['ProductQualityIssue'].sort_values(ascending=False))"
      ]
    },
    {
      "cell_type": "code",
      "execution_count": null,
      "id": "b02ea329",
      "metadata": {
        "id": "b02ea329"
      },
      "outputs": [],
      "source": [
        "df.plot(kind=\"scatter\", x=\"ProductQualityIssue\", y=\"SampleQuality6_4dayavg\", color=\"red\")"
      ]
    },
    {
      "cell_type": "code",
      "execution_count": null,
      "id": "3910a085",
      "metadata": {
        "id": "3910a085"
      },
      "outputs": [],
      "source": [
        "x = df.drop(\"ProductQualityIssue\", axis=1)\n",
        "y = df[\"ProductQualityIssue\"]"
      ]
    },
    {
      "cell_type": "code",
      "execution_count": null,
      "id": "a2070ab5",
      "metadata": {
        "id": "a2070ab5"
      },
      "outputs": [],
      "source": [
        "x.hist(bins=40, figsize=(15,15))"
      ]
    },
    {
      "cell_type": "code",
      "execution_count": null,
      "id": "013e6173",
      "metadata": {
        "id": "013e6173"
      },
      "outputs": [],
      "source": [
        "x.head(12)"
      ]
    },
    {
      "cell_type": "markdown",
      "id": "c8ff76df",
      "metadata": {
        "id": "c8ff76df"
      },
      "source": [
        "## Train & Test Dataset"
      ]
    },
    {
      "cell_type": "code",
      "execution_count": null,
      "id": "b3844ce7",
      "metadata": {
        "id": "b3844ce7"
      },
      "outputs": [],
      "source": [
        "from sklearn import preprocessing\n",
        "from sklearn.linear_model import LogisticRegression\n",
        "from sklearn.model_selection import train_test_split"
      ]
    },
    {
      "cell_type": "code",
      "execution_count": null,
      "id": "8c79f2cc",
      "metadata": {
        "id": "8c79f2cc"
      },
      "outputs": [],
      "source": [
        "import statsmodels.api as sm\n",
        "logit_model=sm.Logit(y,x)\n",
        "result=logit_model.fit()\n",
        "print(result.summary2())"
      ]
    },
    {
      "cell_type": "code",
      "execution_count": null,
      "id": "bc1cbf0d",
      "metadata": {
        "id": "bc1cbf0d"
      },
      "outputs": [],
      "source": [
        "from sklearn.linear_model import LogisticRegression\n",
        "from sklearn import metrics\n",
        "x_train, x_test, y_train, y_test = train_test_split(x, y, test_size=0.2, random_state=0)\n",
        "logreg = LogisticRegression()\n",
        "logreg.fit(x_train, y_train)"
      ]
    },
    {
      "cell_type": "code",
      "execution_count": null,
      "id": "878a8c11",
      "metadata": {
        "id": "878a8c11"
      },
      "outputs": [],
      "source": [
        "y_pred = logreg.predict(x_test)\n",
        "print('Accuracy of logistic regression classifier on test set: {:.2f}'.format(logreg.score(x_test, y_test)))"
      ]
    },
    {
      "cell_type": "code",
      "execution_count": null,
      "id": "e3cf260e",
      "metadata": {
        "id": "e3cf260e"
      },
      "outputs": [],
      "source": [
        "from sklearn.metrics import confusion_matrix\n",
        "confusion_matrix = confusion_matrix(y_test, y_pred)\n",
        "print(confusion_matrix)"
      ]
    },
    {
      "cell_type": "code",
      "execution_count": null,
      "id": "696e55f5",
      "metadata": {
        "id": "696e55f5"
      },
      "outputs": [],
      "source": [
        "from sklearn.metrics import classification_report\n",
        "print(classification_report(y_test, y_pred))"
      ]
    },
    {
      "cell_type": "code",
      "execution_count": null,
      "id": "0423d9d8",
      "metadata": {
        "id": "0423d9d8"
      },
      "outputs": [],
      "source": [
        "from sklearn.metrics import roc_auc_score\n",
        "from sklearn.metrics import roc_curve\n",
        "logit_roc_auc = roc_auc_score(y_test, logreg.predict(x_test))\n",
        "fpr, tpr, thresholds = roc_curve(y_test, logreg.predict_proba(x_test)[:,1])\n",
        "plt.figure()\n",
        "plt.plot(fpr, tpr, label='Logistic Regression (area = %0.2f)' % logit_roc_auc)\n",
        "plt.plot([0, 1], [0, 1],'r--')\n",
        "plt.xlim([0.0, 1.0])\n",
        "plt.ylim([0.0, 1.05])\n",
        "plt.xlabel('False Positive Rate')\n",
        "plt.ylabel('True Positive Rate')\n",
        "plt.title('Receiver operating characteristic')\n",
        "plt.legend(loc=\"lower right\")\n",
        "plt.savefig('Log_ROC')\n",
        "plt.show()"
      ]
    },
    {
      "cell_type": "code",
      "execution_count": null,
      "id": "65538226",
      "metadata": {
        "id": "65538226"
      },
      "outputs": [],
      "source": [
        "original = np.array(df['ProductQualityIssue'].ravel())"
      ]
    },
    {
      "cell_type": "code",
      "execution_count": null,
      "id": "fdd8ccdf",
      "metadata": {
        "id": "fdd8ccdf"
      },
      "outputs": [],
      "source": [
        "Y_orginal= original[220:270]\n",
        "Y_orginal"
      ]
    },
    {
      "cell_type": "code",
      "execution_count": null,
      "id": "9e7377c8",
      "metadata": {
        "id": "9e7377c8"
      },
      "outputs": [],
      "source": [
        "Y_predicted = y_pred[220:270]\n",
        "Y_predicted"
      ]
    },
    {
      "cell_type": "code",
      "execution_count": null,
      "id": "bafc04d8",
      "metadata": {
        "id": "bafc04d8"
      },
      "outputs": [],
      "source": [
        "y_20 = y.iloc[:512].copy()"
      ]
    },
    {
      "cell_type": "code",
      "execution_count": null,
      "id": "a9571a65",
      "metadata": {
        "id": "a9571a65"
      },
      "outputs": [],
      "source": [
        "y_20.size"
      ]
    },
    {
      "cell_type": "code",
      "execution_count": null,
      "id": "228aa758",
      "metadata": {
        "id": "228aa758"
      },
      "outputs": [],
      "source": [
        "x=np.arange(0,50,1)"
      ]
    },
    {
      "cell_type": "code",
      "execution_count": null,
      "id": "5089a1ce",
      "metadata": {
        "id": "5089a1ce"
      },
      "outputs": [],
      "source": [
        "x.size"
      ]
    },
    {
      "cell_type": "code",
      "execution_count": null,
      "id": "9d946b21",
      "metadata": {
        "id": "9d946b21"
      },
      "outputs": [],
      "source": [
        "plt.scatter(x, Y_predicted, s=40, facecolors='none', edgecolors='blue')#plt.scatter(x,y_pred)\n",
        "plt.scatter(x,Y_orginal,c='coral',alpha=1)#c='lightblue'\n",
        "plt.legend([\"Predicted\", \"Original data\"])\n",
        "plt.xlabel('x')\n",
        "# frequency label\n",
        "plt.ylabel('y')\n",
        "# plot title\n",
        "plt.title('Predicted vs Original result')\n",
        "# showing legend\n",
        "# function to show the plot\n",
        "\n",
        "plt.show()"
      ]
    },
    {
      "cell_type": "code",
      "source": [
        "plt.scatter(x, y_pred, c =\"yellow\", linewidths = 0.5, marker =\"*\", edgecolor =\"black\", s = 20)\n",
        "plt.scatter(x, y_20, c =\"yellow\", linewidths = 0.5, marker =\"*\", edgecolor =\"red\", s = 20)\n",
        "# x-axis label\n",
        "plt.xlabel('x')\n",
        "# frequency label\n",
        "plt.ylabel('y')\n",
        "# plot title\n",
        "plt.title('Predicted vs Original result')\n",
        "# showing legend\n",
        "# function to show the plot\n",
        "plt.show()"
      ],
      "metadata": {
        "id": "GPxeeCE8KVCl"
      },
      "id": "GPxeeCE8KVCl",
      "execution_count": null,
      "outputs": []
    },
    {
      "cell_type": "markdown",
      "id": "f4b1fb7d",
      "metadata": {
        "id": "f4b1fb7d"
      },
      "source": [
        "# Optimization of Model"
      ]
    },
    {
      "cell_type": "markdown",
      "id": "3db53888",
      "metadata": {
        "id": "3db53888"
      },
      "source": [
        "### Variables which have p-values more than 0.1 can be dropped from the x list.\n",
        "### Variables are the follwoing:\n",
        "### SampleQuality1, SampleQuality2, ProcessUnitParameter2, ProcessUnitParameter3, FeedUnitParameter, Filter1Day7DayAverage, and Filter2D7DayAverage)."
      ]
    },
    {
      "cell_type": "code",
      "execution_count": null,
      "id": "152c2111",
      "metadata": {
        "id": "152c2111"
      },
      "outputs": [],
      "source": [
        "df_op = df.copy()"
      ]
    },
    {
      "cell_type": "code",
      "execution_count": null,
      "id": "5c041605",
      "metadata": {
        "id": "5c041605"
      },
      "outputs": [],
      "source": [
        "df_op.drop(\"SampleQuality1\", axis=1, inplace=True)"
      ]
    },
    {
      "cell_type": "code",
      "execution_count": null,
      "id": "5c04c459",
      "metadata": {
        "id": "5c04c459"
      },
      "outputs": [],
      "source": [
        "df_op.drop(\"SampleQuality2\", axis=1, inplace=True)"
      ]
    },
    {
      "cell_type": "code",
      "execution_count": null,
      "id": "9775b347",
      "metadata": {
        "id": "9775b347"
      },
      "outputs": [],
      "source": [
        "df_op.drop(\"ProcessUnitParameter2\", axis=1, inplace=True)"
      ]
    },
    {
      "cell_type": "code",
      "execution_count": null,
      "id": "b099e5f2",
      "metadata": {
        "id": "b099e5f2"
      },
      "outputs": [],
      "source": [
        "df_op.drop(\"ProcessUnitParameter3\", axis=1, inplace=True)"
      ]
    },
    {
      "cell_type": "code",
      "execution_count": null,
      "id": "983d4123",
      "metadata": {
        "id": "983d4123"
      },
      "outputs": [],
      "source": [
        "df_op.drop(\"FeedUnitParameter\", axis=1, inplace=True)"
      ]
    },
    {
      "cell_type": "code",
      "execution_count": null,
      "id": "49725dbc",
      "metadata": {
        "id": "49725dbc"
      },
      "outputs": [],
      "source": [
        "df_op.drop(\"Filter1DP7DayAverage\", axis=1, inplace=True)"
      ]
    },
    {
      "cell_type": "code",
      "execution_count": null,
      "id": "cbe5ab65",
      "metadata": {
        "id": "cbe5ab65"
      },
      "outputs": [],
      "source": [
        "df_op.drop(\"Filter2DP7DayAverage\", axis=1, inplace=True)"
      ]
    },
    {
      "cell_type": "code",
      "execution_count": null,
      "id": "b18d92ef",
      "metadata": {
        "id": "b18d92ef"
      },
      "outputs": [],
      "source": [
        "df_op.info()"
      ]
    },
    {
      "cell_type": "code",
      "execution_count": null,
      "id": "75185c01",
      "metadata": {
        "id": "75185c01"
      },
      "outputs": [],
      "source": [
        "x = df_op.drop(\"ProductQualityIssue\", axis=1)\n",
        "y = df_op[\"ProductQualityIssue\"]"
      ]
    },
    {
      "cell_type": "code",
      "execution_count": null,
      "id": "8bfe32d1",
      "metadata": {
        "id": "8bfe32d1"
      },
      "outputs": [],
      "source": [
        "import statsmodels.api as sm\n",
        "logit_model=sm.Logit(y,x)\n",
        "result=logit_model.fit()\n",
        "print(result.summary2())"
      ]
    },
    {
      "cell_type": "code",
      "execution_count": null,
      "id": "0ddcb6fd",
      "metadata": {
        "id": "0ddcb6fd"
      },
      "outputs": [],
      "source": [
        "from sklearn.linear_model import LogisticRegression\n",
        "from sklearn import metrics\n",
        "x_train, x_test, y_train, y_test = train_test_split(x, y, test_size=0.2, random_state=0)\n",
        "logreg = LogisticRegression()\n",
        "logreg.fit(x_train, y_train)"
      ]
    },
    {
      "cell_type": "code",
      "execution_count": null,
      "id": "24b3f051",
      "metadata": {
        "id": "24b3f051"
      },
      "outputs": [],
      "source": [
        "y_pred = logreg.predict(x_test)\n",
        "print('Accuracy of logistic regression classifier on test set: {:.2f}'.format(logreg.score(x_test, y_test)))"
      ]
    },
    {
      "cell_type": "code",
      "execution_count": null,
      "id": "74d65f56",
      "metadata": {
        "id": "74d65f56"
      },
      "outputs": [],
      "source": [
        "from sklearn.metrics import confusion_matrix\n",
        "confusion_matrix = confusion_matrix(y_test, y_pred)\n",
        "print(confusion_matrix)"
      ]
    },
    {
      "cell_type": "code",
      "execution_count": null,
      "id": "95e24590",
      "metadata": {
        "id": "95e24590"
      },
      "outputs": [],
      "source": [
        "from sklearn.metrics import classification_report\n",
        "print(classification_report(y_test, y_pred))"
      ]
    },
    {
      "cell_type": "code",
      "execution_count": null,
      "id": "aa4ac8cf",
      "metadata": {
        "id": "aa4ac8cf"
      },
      "outputs": [],
      "source": [
        "from sklearn.metrics import roc_auc_score\n",
        "from sklearn.metrics import roc_curve\n",
        "logit_roc_auc = roc_auc_score(y_test, logreg.predict(x_test))\n",
        "fpr, tpr, thresholds = roc_curve(y_test, logreg.predict_proba(x_test)[:,1])\n",
        "plt.figure()\n",
        "plt.plot(fpr, tpr, label='Logistic Regression (area = %0.2f)' % logit_roc_auc)\n",
        "plt.plot([0, 1], [0, 1],'r--')\n",
        "plt.xlim([0.0, 1.0])\n",
        "plt.ylim([0.0, 1.05])\n",
        "plt.xlabel('False Positive Rate')\n",
        "plt.ylabel('True Positive Rate')\n",
        "plt.title('Receiver operating characteristic')\n",
        "plt.legend(loc=\"lower right\")\n",
        "plt.savefig('Log_ROC')\n",
        "plt.show()"
      ]
    },
    {
      "cell_type": "markdown",
      "id": "213a5a2f",
      "metadata": {
        "id": "213a5a2f"
      },
      "source": [
        "### References:\n",
        "https://towardsdatascience.com/building-a-logistic-regression-in-python-step-by-step-becd4d56c9c8"
      ]
    },
    {
      "cell_type": "markdown",
      "id": "cdb345d3",
      "metadata": {
        "id": "cdb345d3"
      },
      "source": [
        "# Neural Network for Binary Classification"
      ]
    },
    {
      "cell_type": "code",
      "execution_count": null,
      "id": "ad1e521f",
      "metadata": {
        "id": "ad1e521f"
      },
      "outputs": [],
      "source": [
        "import tensorflow as tf\n",
        "from tensorflow import keras\n",
        "import os\n",
        "from sklearn.model_selection import train_test_split\n",
        "from tensorflow.keras.models import Sequential\n",
        "from tensorflow.keras.layers import Activation, Dense, BatchNormalization, Dropout\n",
        "from tensorflow.keras import optimizers\n",
        "from keras.callbacks import EarlyStopping"
      ]
    },
    {
      "cell_type": "markdown",
      "id": "4618af86",
      "metadata": {
        "id": "4618af86"
      },
      "source": [
        "### Selecting the same Dataset as for Logistic Regression"
      ]
    },
    {
      "cell_type": "code",
      "execution_count": null,
      "id": "67a0f8ee",
      "metadata": {
        "id": "67a0f8ee"
      },
      "outputs": [],
      "source": [
        "df.info()"
      ]
    },
    {
      "cell_type": "code",
      "execution_count": null,
      "id": "df485db8",
      "metadata": {
        "id": "df485db8"
      },
      "outputs": [],
      "source": [
        "x = df.drop(\"ProductQualityIssue\", axis=1)\n",
        "y = df[\"ProductQualityIssue\"]"
      ]
    },
    {
      "cell_type": "code",
      "execution_count": null,
      "id": "efae6082",
      "metadata": {
        "id": "efae6082"
      },
      "outputs": [],
      "source": [
        "x_train, x_test, y_train, y_test = train_test_split(x, y, test_size=0.2, random_state=0)"
      ]
    },
    {
      "cell_type": "code",
      "execution_count": null,
      "id": "4cfeef8c",
      "metadata": {
        "id": "4cfeef8c"
      },
      "outputs": [],
      "source": [
        "# Build a Model\n",
        "model = Sequential()\n",
        "model.add(Dense(64, input_shape=(x_test.shape[1],), activation='relu'))\n",
        "model.add(Dense(64, activation='relu'))\n",
        "model.add(Dense(1, activation='sigmoid'))\n",
        "model.summary()\n",
        "\n",
        "# compile the model\n",
        "model.compile(optimizer='Adam',\n",
        "              loss='binary_crossentropy',\n",
        "              metrics=['accuracy'])\n",
        "\n",
        "# Early Stopping is to stop the training when there is no more improvement in accuracy\n",
        "es = EarlyStopping(monitor='val_accuracy',\n",
        "                                   mode='max',\n",
        "                                   patience=10,\n",
        "                                   restore_best_weights=True)\n",
        "\n",
        "history = model.fit(x,\n",
        "                    y,\n",
        "                    callbacks=[es],\n",
        "                    epochs=20,\n",
        "                    batch_size=100,\n",
        "                    validation_split=0.2,\n",
        "                    shuffle=True,\n",
        "                    verbose=1)"
      ]
    },
    {
      "cell_type": "code",
      "execution_count": null,
      "id": "0c1a6494",
      "metadata": {
        "id": "0c1a6494"
      },
      "outputs": [],
      "source": [
        "history_dict = history.history\n",
        "# Learning curve(Loss)\n",
        "# let's see the training and validation loss by epoch\n",
        "\n",
        "# loss\n",
        "loss_values = history_dict['loss'] # you can change this\n",
        "val_loss_values = history_dict['val_loss'] # you can also change this\n",
        "\n",
        "# range of X (no. of epochs)\n",
        "epochs = range(1, len(loss_values) + 1)\n",
        "\n",
        "# plot\n",
        "plt.plot(epochs, loss_values, 'bo', label='Training loss')\n",
        "plt.plot(epochs, val_loss_values, 'orange', label='Validation loss')\n",
        "plt.title('Training and validation loss')\n",
        "plt.xlabel('Epochs')\n",
        "plt.ylabel('Loss')\n",
        "plt.legend()\n",
        "plt.show()"
      ]
    },
    {
      "cell_type": "code",
      "execution_count": null,
      "id": "cd09c724",
      "metadata": {
        "id": "cd09c724"
      },
      "outputs": [],
      "source": [
        "# Learning curve(accuracy)\n",
        "# let's see the training and validation accuracy by epoch\n",
        "\n",
        "# accuracy\n",
        "acc = history.history['accuracy']\n",
        "val_acc = history.history['val_accuracy']\n",
        "\n",
        "# range of X (no. of epochs)\n",
        "epochs = range(1, len(acc) + 1)\n",
        "\n",
        "# plot\n",
        "# \"bo\" is for \"blue dot\"\n",
        "plt.plot(epochs, acc, 'bo', label='Training accuracy')\n",
        "# orange is for \"orange\"\n",
        "plt.plot(epochs, val_acc, 'orange', label='Validation accuracy')\n",
        "plt.title('Training and validation accuracy')\n",
        "plt.xlabel('Epochs')\n",
        "plt.ylabel('Accuracy')\n",
        "plt.legend()\n",
        "plt.show()\n",
        "\n",
        "# this is the max value - should correspond to\n",
        "# the HIGHEST train accuracy\n",
        "np.max(val_acc)"
      ]
    },
    {
      "cell_type": "code",
      "execution_count": null,
      "id": "61166e38",
      "metadata": {
        "id": "61166e38"
      },
      "outputs": [],
      "source": [
        "from sklearn.metrics import confusion_matrix\n",
        "from sklearn.metrics import classification_report\n",
        "\n",
        "model.predict(x_test)\n",
        "np.round(model.predict(x_test),0)\n",
        "\n",
        "preds = np.round(model.predict(x_test),0)\n",
        "\n",
        "# confusion matrix\n",
        "print(confusion_matrix(y_test, preds))\n",
        "\n",
        "\n",
        "print(classification_report(y_test, preds))"
      ]
    },
    {
      "cell_type": "code",
      "execution_count": null,
      "id": "37821bf9",
      "metadata": {
        "id": "37821bf9"
      },
      "outputs": [],
      "source": [
        "history_dict = history.history\n",
        "history_dict.keys()\n",
        "\n",
        "pd.DataFrame(history_dict).plot(figsize=(10,6))\n",
        "plt.grid(True)\n",
        "plt.gca().set_ylim(0, 2)\n",
        "plt.title('Accuracy and loss for both training and validation', fontsize=16)\n",
        "plt.xlabel('Epochs', fontsize=16)\n",
        "plt.ylabel('Accuracy and loss percentage', rotation=90, fontsize=16)\n",
        "plt.show()"
      ]
    },
    {
      "cell_type": "code",
      "execution_count": null,
      "id": "a3701078",
      "metadata": {
        "id": "a3701078"
      },
      "outputs": [],
      "source": [
        "history_dict = history.history\n",
        "history_dict.keys()"
      ]
    },
    {
      "cell_type": "code",
      "execution_count": null,
      "id": "62ec2b53",
      "metadata": {
        "id": "62ec2b53"
      },
      "outputs": [],
      "source": [
        "test_loss, test_acc = model.evaluate(x_test,  y_test)\n",
        "print('Test accuracy:', test_acc)"
      ]
    },
    {
      "cell_type": "code",
      "execution_count": null,
      "id": "745ae361",
      "metadata": {
        "id": "745ae361"
      },
      "outputs": [],
      "source": [
        "original2 = np.array(df['ProductQualityIssue'].ravel())"
      ]
    },
    {
      "cell_type": "code",
      "execution_count": null,
      "id": "9442514e",
      "metadata": {
        "id": "9442514e"
      },
      "outputs": [],
      "source": [
        "preds = np.array(preds.ravel())"
      ]
    },
    {
      "cell_type": "code",
      "execution_count": null,
      "id": "75b5c179",
      "metadata": {
        "id": "75b5c179"
      },
      "outputs": [],
      "source": [
        "preds = np.array(preds, dtype=np.int64)"
      ]
    },
    {
      "cell_type": "code",
      "execution_count": null,
      "id": "da187c0a",
      "metadata": {
        "id": "da187c0a"
      },
      "outputs": [],
      "source": [
        "original2 [80:100]"
      ]
    },
    {
      "cell_type": "code",
      "execution_count": null,
      "id": "553dd08f",
      "metadata": {
        "id": "553dd08f"
      },
      "outputs": [],
      "source": [
        "preds[80:100]"
      ]
    },
    {
      "cell_type": "markdown",
      "id": "fb74d287",
      "metadata": {
        "id": "fb74d287"
      },
      "source": [
        "### References:\n",
        "https://medium.com/luca-chuangs-bapm-notes/build-a-neural-network-in-python-binary-classification-49596d7dcabf"
      ]
    },
    {
      "cell_type": "code",
      "execution_count": null,
      "id": "a30037cb",
      "metadata": {
        "id": "a30037cb"
      },
      "outputs": [],
      "source": []
    }
  ],
  "metadata": {
    "kernelspec": {
      "display_name": "Python 3 (ipykernel)",
      "language": "python",
      "name": "python3"
    },
    "language_info": {
      "codemirror_mode": {
        "name": "ipython",
        "version": 3
      },
      "file_extension": ".py",
      "mimetype": "text/x-python",
      "name": "python",
      "nbconvert_exporter": "python",
      "pygments_lexer": "ipython3",
      "version": "3.9.7"
    },
    "colab": {
      "provenance": [],
      "include_colab_link": true
    }
  },
  "nbformat": 4,
  "nbformat_minor": 5
}